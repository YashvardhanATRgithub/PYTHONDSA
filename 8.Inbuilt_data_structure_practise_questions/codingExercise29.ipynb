{
 "cells": [
  {
   "cell_type": "markdown",
   "metadata": {},
   "source": [
    "Rotate a List\n",
    "\n",
    "Rotate a List (Without Slicing)\n",
    "\n",
    "You are given a list of integers and an integer k. Write a Python function to rotate the list to the right by k positions without using slicing. A rotation shifts elements from the end of the list to the front.\n",
    "\n",
    "Parameters:\n",
    "\n",
    "    lst (List of integers): The list to be rotated.\n",
    "\n",
    "    k (Integer): The number of positions to rotate the list.\n",
    "\n",
    "Returns:\n",
    "\n",
    "    A list of integers rotated by k positions.\n",
    "\n",
    "Example:\n",
    "\n",
    "    Input: lst = [1, 2, 3, 4, 5], k = 2\n",
    "    Output: [4, 5, 1, 2, 3]\n",
    "\n",
    "    Input: lst = [10, 20, 30, 40, 50], k = 3\n",
    "    Output: [30, 40, 50, 10, 20]"
   ]
  },
  {
   "cell_type": "code",
   "execution_count": null,
   "metadata": {},
   "outputs": [
    {
     "name": "stdout",
     "output_type": "stream",
     "text": [
      "[30, 40, 50, 10, 20]\n"
     ]
    }
   ],
   "source": [
    "## using newList and slice operator\n",
    "\n",
    "def rotate_list(lst, k):\n",
    "    # Your code goes here\n",
    "    \n",
    "    k = k % len(lst) ## To handle situation when k becomes greater than list size\n",
    "    newList = []\n",
    "\n",
    "    newlist = lst[-k : ] + lst[ :-k] ## Remember, negative index means starting from last index\n",
    "\n",
    "    return newlist\n",
    "\n",
    "print(rotate_list([10, 20, 30, 40, 50],3))"
   ]
  },
  {
   "cell_type": "markdown",
   "metadata": {},
   "source": [
    "##### Time Complexity = O(n)\n",
    "##### Space Complexity = O(n) bcz outplace algorithm"
   ]
  },
  {
   "cell_type": "code",
   "execution_count": null,
   "metadata": {},
   "outputs": [
    {
     "name": "stdout",
     "output_type": "stream",
     "text": [
      "[5, 1, 2, 3, 4]\n"
     ]
    }
   ],
   "source": [
    "## Same as above but without slice operator\n",
    "\n",
    "def rotate_list(lst, k):\n",
    "    # Your code goes here\n",
    "    \n",
    "    k = k % len(lst)\n",
    "    newList = []\n",
    "    \n",
    "    if not lst:\n",
    "        return []\n",
    "    \n",
    "    for i in range(len(lst)-k, len(lst)):\n",
    "        newList.append(lst[i])\n",
    "    \n",
    "    for i in range(len(lst)-k):\n",
    "        newList.append(lst[i])\n",
    "\n",
    "    return newList\n",
    "print(rotate_list([1, 2, 3, 4, 5],6))"
   ]
  },
  {
   "cell_type": "markdown",
   "metadata": {},
   "source": [
    "# Understanding `insert()` Method in Python\n",
    "\n",
    "Before proceeding to the custom implementation, you need to understand how the `insert()` method works.\n",
    "\n",
    "## `insert()` Method\n",
    "\n",
    "The `insert()` method in Python is used to insert an element at a specified position in a list.  \n",
    "It does **not replace** an existing element but instead **shifts all elements to the right** to make space for the new element.\n",
    "\n",
    "### **Syntax**\n",
    "```python\n",
    "list.insert(index, element)\n"
   ]
  },
  {
   "cell_type": "code",
   "execution_count": null,
   "metadata": {},
   "outputs": [],
   "source": [
    "## using insert() method\n",
    "\n",
    "def rotate_list(lst, k):\n",
    "    # Your code goes here\n",
    "    \n",
    "    if not lst:\n",
    "        return []\n",
    "        \n",
    "    k = k % len(lst) ## So that k never exceeds lenght of the list\n",
    "    \n",
    "    for _ in range(k):\n",
    "        last_element = lst.pop() ## pop last element and assign it to last_element var\n",
    "        lst.insert(0,last_element)\n",
    "        \n",
    "    return lst\n",
    "        \n",
    "    "
   ]
  },
  {
   "cell_type": "markdown",
   "metadata": {},
   "source": [
    "##### Time Complexity = O(k * n) becomes n^2 for larger k\n",
    "##### Space Complexity = O(1) bcz inplace algorithm"
   ]
  }
 ],
 "metadata": {
  "kernelspec": {
   "display_name": "Python 3",
   "language": "python",
   "name": "python3"
  },
  "language_info": {
   "codemirror_mode": {
    "name": "ipython",
    "version": 3
   },
   "file_extension": ".py",
   "mimetype": "text/x-python",
   "name": "python",
   "nbconvert_exporter": "python",
   "pygments_lexer": "ipython3",
   "version": "3.12.0"
  }
 },
 "nbformat": 4,
 "nbformat_minor": 2
}
