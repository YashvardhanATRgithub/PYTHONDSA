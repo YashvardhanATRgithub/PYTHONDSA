{
 "cells": [
  {
   "cell_type": "code",
   "execution_count": null,
   "metadata": {},
   "outputs": [],
   "source": [
    "## storing reversed element in a new list bu iterating lst in reversed direstion\n",
    "\n",
    "def reverse_list(lst):\n",
    "    # Your code goes here\n",
    "    \n",
    "    reversed_lst = []\n",
    "    \n",
    "    for i in range(len(lst),0,-1):\n",
    "        reversed_lst.append(lst[i-1])\n",
    "    \n",
    "    return reversed_lst"
   ]
  },
  {
   "cell_type": "markdown",
   "metadata": {},
   "source": [
    "##### Time Complexity = O(n)\n",
    "##### Space Complexity = O(n) bcz outplace algorithm ( using extra list)"
   ]
  },
  {
   "cell_type": "code",
   "execution_count": null,
   "metadata": {},
   "outputs": [],
   "source": [
    "## using two pointer approach start and end\n",
    "\n",
    "def reverse_list(lst):\n",
    "    # Your code goes here\n",
    "    \n",
    "    start = 0\n",
    "    end = len(lst)-1 \n",
    "    \n",
    "    while start < end:\n",
    "        lst[start], lst[end] = lst[end],lst[start]\n",
    "        start += 1\n",
    "        end -= 1\n",
    "    \n",
    "    return lst"
   ]
  },
  {
   "cell_type": "markdown",
   "metadata": {},
   "source": [
    "##### Time Complexity = O(n)\n",
    "##### Space Complexity = O(1) bcz inplace algorithm"
   ]
  }
 ],
 "metadata": {
  "kernelspec": {
   "display_name": "Python 3",
   "language": "python",
   "name": "python3"
  },
  "language_info": {
   "name": "python",
   "version": "3.12.0"
  }
 },
 "nbformat": 4,
 "nbformat_minor": 2
}
