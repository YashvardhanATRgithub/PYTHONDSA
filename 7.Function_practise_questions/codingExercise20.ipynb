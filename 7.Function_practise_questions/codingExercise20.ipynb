{
 "cells": [
  {
   "cell_type": "code",
   "execution_count": 4,
   "metadata": {},
   "outputs": [
    {
     "name": "stdout",
     "output_type": "stream",
     "text": [
      "48.0\n"
     ]
    }
   ],
   "source": [
    "def calculate_y(slope, intercept, x):\n",
    "    \"\"\"\n",
    "    Function to calculate the value of y using the slope-intercept form of a line.\n",
    "    \n",
    "    Parameters:\n",
    "    slope (float): The slope of the line.\n",
    "    intercept (float): The y-intercept of the line.\n",
    "    x (float): The value of x for which y needs to be calculated.\n",
    "    \n",
    "    Returns:\n",
    "    float: The calculated value of y.\n",
    "    \"\"\"\n",
    "    # Your code here\n",
    "    \n",
    "    y = slope * x + intercept\n",
    "    \n",
    "    return y\n",
    "\n",
    "slope = float(5.5)\n",
    "intercept = float(4)\n",
    "x = float(8)\n",
    "print(calculate_y(slope,intercept, x))"
   ]
  },
  {
   "cell_type": "markdown",
   "metadata": {},
   "source": [
    "##### Complexity Analysis: \n",
    "\n",
    "##### Time Complexity: O(1)\n",
    "\n",
    "##### Space Complexity: O(1)"
   ]
  }
 ],
 "metadata": {
  "kernelspec": {
   "display_name": "Python 3",
   "language": "python",
   "name": "python3"
  },
  "language_info": {
   "codemirror_mode": {
    "name": "ipython",
    "version": 3
   },
   "file_extension": ".py",
   "mimetype": "text/x-python",
   "name": "python",
   "nbconvert_exporter": "python",
   "pygments_lexer": "ipython3",
   "version": "3.12.0"
  }
 },
 "nbformat": 4,
 "nbformat_minor": 2
}
