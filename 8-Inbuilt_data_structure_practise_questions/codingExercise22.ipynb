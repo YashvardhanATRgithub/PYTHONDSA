{
 "cells": [
  {
   "cell_type": "markdown",
   "metadata": {},
   "source": [
    "Largest Element in a List\n",
    "\n",
    "Find the Largest Element in a List\n",
    "\n",
    "Write a Python function that finds and returns the largest element in a given list of integers.\n",
    "\n",
    "Parameters:\n",
    "\n",
    "    numbers (List of integers): The input list containing integers.\n",
    "\n",
    "Returns:\n",
    "\n",
    "    An integer representing the largest element in the input list.\n",
    "\n",
    "Example:\n",
    "\n",
    "    Input: numbers = [3, 8, 2, 10, 5]\n",
    "    Output: 10\n",
    "\n",
    "    Input: numbers = [-5, -10, -2, -1, -7]\n",
    "    Output: -1"
   ]
  },
  {
   "cell_type": "code",
   "execution_count": null,
   "metadata": {},
   "outputs": [],
   "source": [
    "# Using loop\n",
    "\n",
    "def find_largest(numbers):\n",
    "    # Your code goes here\n",
    "    \n",
    "    if not numbers:\n",
    "        return None\n",
    "        \n",
    "    max = numbers[0]\n",
    "    for i in numbers[1:]:\n",
    "        if max < i:\n",
    "            max = i\n",
    "            \n",
    "    return max"
   ]
  },
  {
   "cell_type": "code",
   "execution_count": null,
   "metadata": {},
   "outputs": [],
   "source": [
    "# using inbuilt function max()\n",
    "\n",
    "def find_largest(numbers):\n",
    "    # Your code goes here\n",
    "    return max(numbers)"
   ]
  },
  {
   "cell_type": "markdown",
   "metadata": {},
   "source": [
    "##### Complexity Analysis: \n",
    "\n",
    "##### Time Complexity: O(n)\n",
    "\n",
    "##### Space Complexity: O(1)  bcz constant memory space for var 'max' is used\n",
    "##### No any data structures or recursive calls are used"
   ]
  }
 ],
 "metadata": {
  "kernelspec": {
   "display_name": "Python 3",
   "language": "python",
   "name": "python3"
  },
  "language_info": {
   "name": "python",
   "version": "3.12.0"
  }
 },
 "nbformat": 4,
 "nbformat_minor": 2
}
