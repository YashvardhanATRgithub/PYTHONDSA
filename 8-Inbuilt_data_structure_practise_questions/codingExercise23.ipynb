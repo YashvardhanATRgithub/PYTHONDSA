{
 "cells": [
  {
   "cell_type": "code",
   "execution_count": null,
   "metadata": {},
   "outputs": [],
   "source": [
    "# using typecasting list to set\n",
    "\n",
    "def remove_duplicates(lst):\n",
    "    # Your code goes here\n",
    "    \n",
    "    removeDup = set(lst)\n",
    "    \n",
    "    return list(removeDup)\n"
   ]
  },
  {
   "cell_type": "markdown",
   "metadata": {},
   "source": [
    "##### Does not preserve element order\n",
    "##### Time Complexity = O(n)\n",
    "##### Space Complexity = O(n)"
   ]
  },
  {
   "cell_type": "code",
   "execution_count": null,
   "metadata": {},
   "outputs": [],
   "source": [
    "# using storing unique elements in another list\n",
    "\n",
    "def remove_duplicates(lst):\n",
    "    # Your code goes here\n",
    "    \n",
    "    unique_lst = []\n",
    "    \n",
    "    for item in lst:\n",
    "        if item not in unique_lst:\n",
    "            unique_lst.append(item)\n",
    "    return unique_lst\n"
   ]
  },
  {
   "cell_type": "markdown",
   "metadata": {},
   "source": [
    "##### Preserves elements order\n",
    "##### Time Complexity = O(n^2)\n",
    "##### Space Complexity = O(n)"
   ]
  },
  {
   "cell_type": "code",
   "execution_count": null,
   "metadata": {},
   "outputs": [
    {
     "name": "stdout",
     "output_type": "stream",
     "text": [
      "[1, 2, 3, 4]\n"
     ]
    }
   ],
   "source": [
    "## using set() and pop() method \n",
    "\n",
    "def remove_duplicates(lst):\n",
    "    # Your code goes here\n",
    "\n",
    "    seen = set()\n",
    "\n",
    "    i = 0\n",
    "    while i < len(lst):\n",
    "        if lst[i] in seen:\n",
    "            lst.pop(i)\n",
    "        else:\n",
    "            seen.add(lst[i])\n",
    "            i += 1\n",
    "        \n",
    "    return lst\n",
    "\n",
    "print(remove_duplicates([1,2,2,3,3,4]))"
   ]
  },
  {
   "cell_type": "markdown",
   "metadata": {},
   "source": [
    "##### Preserves elements order\n",
    "##### Time Complexity = O(n)\n",
    "##### Space Complexity = O(n)"
   ]
  },
  {
   "cell_type": "code",
   "execution_count": null,
   "metadata": {},
   "outputs": [],
   "source": [
    "def remove_duplicates(lst):\n",
    "    unique_lst = []\n",
    "    seen = set()  # Set to store seen elements\n",
    "    \n",
    "    for item in lst:\n",
    "        if item not in seen:\n",
    "            unique_lst.append(item)\n",
    "            seen.add(item)  # O(1) operation\n",
    "            \n",
    "    return unique_lst\n"
   ]
  },
  {
   "cell_type": "markdown",
   "metadata": {},
   "source": [
    "##### Preserves elements order\n",
    "##### Time Complexity = O(n)\n",
    "##### Space Complexity = O(n)"
   ]
  },
  {
   "cell_type": "code",
   "execution_count": null,
   "metadata": {},
   "outputs": [],
   "source": [
    "# Using dictionary\n",
    "\n",
    "def remove_duplicates(lst):\n",
    "    return list(dict.fromkeys(lst))\n"
   ]
  },
  {
   "cell_type": "markdown",
   "metadata": {},
   "source": [
    "##### Preserves elements order\n",
    "##### Time Complexity = O(n)\n",
    "##### Space Complexity = O(n)"
   ]
  }
 ],
 "metadata": {
  "kernelspec": {
   "display_name": "Python 3",
   "language": "python",
   "name": "python3"
  },
  "language_info": {
   "codemirror_mode": {
    "name": "ipython",
    "version": 3
   },
   "file_extension": ".py",
   "mimetype": "text/x-python",
   "name": "python",
   "nbconvert_exporter": "python",
   "pygments_lexer": "ipython3",
   "version": "3.12.0"
  }
 },
 "nbformat": 4,
 "nbformat_minor": 2
}
