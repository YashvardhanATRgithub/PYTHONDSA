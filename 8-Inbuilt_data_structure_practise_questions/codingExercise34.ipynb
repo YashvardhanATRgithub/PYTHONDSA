{
 "cells": [
  {
   "cell_type": "markdown",
   "metadata": {},
   "source": [
    "Merge Dictionaries with Common Keys\n",
    "\n",
    "Problem Description\n",
    "\n",
    "Merge Dictionaries with Overlapping Keys\n",
    "\n",
    "Design a Python function named merge_dicts_with_overlapping_keys that merges multiple dictionaries into a single dictionary. If a key appears in more than one dictionary, sum up their values.\n",
    "\n",
    "Parameters:\n",
    "\n",
    "    dicts (list): A list of dictionaries where keys might overlap.\n",
    "\n",
    "Returns:\n",
    "\n",
    "    A single dictionary where values for overlapping keys are summed.\n",
    "\n",
    "Example:\n",
    "\n",
    "    Input: [{'a': 1, 'b': 2}, {'b': 3, 'c': 4}, {'c': 5, 'd': 6}]\n",
    "    Output: {'a': 1, 'b': 5, 'c': 9, 'd': 6}\n",
    "\n",
    "    Input: [{'x': 10, 'y': 20}, {'y': 30, 'z': 40}, {'z': 50, 'x': 60}]\n",
    "    Output: {'x': 70, 'y': 50, 'z': 90}"
   ]
  },
  {
   "cell_type": "code",
   "execution_count": null,
   "metadata": {},
   "outputs": [],
   "source": [
    "def merge_dicts_with_overlapping_keys(dicts):\n",
    "    # Your code goes here\n",
    "    \n",
    "    result_dict = {}\n",
    "    \n",
    "    for d in dicts:\n",
    "        for key,values in d.items():\n",
    "            if key in result_dict:\n",
    "                result_dict[key] += values\n",
    "            else:\n",
    "                result_dict[key] = values\n",
    "                \n",
    "    return result_dict\n",
    "\n"
   ]
  },
  {
   "cell_type": "markdown",
   "metadata": {},
   "source": [
    "Time Complexity: O(n x m)  where n is total number of dictionaries in the list and m is average number of   key-value pairs per dictionary\n",
    "\n",
    "Space Complexity: O(k) where k is the number of unique keys in dictionaries"
   ]
  }
 ],
 "metadata": {
  "kernelspec": {
   "display_name": "Python 3",
   "language": "python",
   "name": "python3"
  },
  "language_info": {
   "name": "python",
   "version": "3.12.0"
  }
 },
 "nbformat": 4,
 "nbformat_minor": 2
}
