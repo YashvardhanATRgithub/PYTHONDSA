{
 "cells": [
  {
   "cell_type": "markdown",
   "metadata": {},
   "source": [
    "Count Number of Odd and Even Elements in a List\n",
    "\n",
    "Count Even and Odd Numbers in a List\n",
    "\n",
    "You are given a list of integers. Write a Python program that counts and returns the number of even and odd numbers in the list.\n",
    "\n",
    "Parameters:\n",
    "\n",
    "    lst (List of integers): The list of integers where you will count the even and odd numbers.\n",
    "\n",
    "Returns:\n",
    "\n",
    "    A tuple (even_count, odd_count) where even_count is the number of even numbers and odd_count is the number of odd numbers.\n",
    "\n",
    "Example:\n",
    "\n",
    "    Input: lst = [1, 2, 3, 4, 5]\n",
    "    Output: (2, 3)\n",
    "\n",
    "        There are 2 even numbers: 2, 4\n",
    "\n",
    "        There are 3 odd numbers: 1, 3, 5"
   ]
  },
  {
   "cell_type": "code",
   "execution_count": null,
   "metadata": {},
   "outputs": [],
   "source": [
    "def count_even_odd(lst):\n",
    "    # Your code goes here\n",
    "    \n",
    "    count_even_odd = ()\n",
    "    \n",
    "    count_even = 0\n",
    "    count_odd = 0\n",
    "    \n",
    "    count_even_odd = ()\n",
    "    for num in lst:\n",
    "        if num%2 == 0:\n",
    "            count_even += 1\n",
    "        else:\n",
    "            count_odd += 1\n",
    "    \n",
    "    return (count_even,count_odd)"
   ]
  },
  {
   "cell_type": "markdown",
   "metadata": {},
   "source": [
    "##### Time Complexity = O(n)\n",
    "##### Space Complexity = O(1)"
   ]
  },
  {
   "cell_type": "code",
   "execution_count": null,
   "metadata": {},
   "outputs": [],
   "source": [
    "## using list comprehension\n",
    "\n",
    "def count_even_odd(lst):\n",
    "    # Your code goes here\n",
    "    count_even = sum(1 for num in lst if num%2 == 0)\n",
    "    count_odd = len(lst) - count_even\n",
    "\n",
    "    return (count_even,count_odd)"
   ]
  },
  {
   "cell_type": "markdown",
   "metadata": {},
   "source": [
    "##### Time Complexity = O(n)\n",
    "##### Space Complexity = O(1)"
   ]
  }
 ],
 "metadata": {
  "kernelspec": {
   "display_name": "Python 3",
   "language": "python",
   "name": "python3"
  },
  "language_info": {
   "name": "python",
   "version": "3.12.0"
  }
 },
 "nbformat": 4,
 "nbformat_minor": 2
}
