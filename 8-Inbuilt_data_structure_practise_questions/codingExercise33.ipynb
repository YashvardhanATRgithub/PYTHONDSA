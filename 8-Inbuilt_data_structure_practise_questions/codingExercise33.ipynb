{
 "cells": [
  {
   "cell_type": "markdown",
   "metadata": {},
   "source": [
    "Palindromic Tuple\n",
    "\n",
    "Check if Tuple is Palindromic\n",
    "\n",
    "Design a Python function named is_palindromic_tuple to check if a tuple is palindromic, meaning it reads the same forwards and backwards.\n",
    "\n",
    "Parameters:\n",
    "\n",
    "    tup (tuple): The input tuple that you need to check for palindromic property.\n",
    "\n",
    "Returns:\n",
    "\n",
    "    True if the tuple is palindromic, False otherwise.\n",
    "\n",
    "Example:\n",
    "\n",
    "    Input: (1, 2, 3, 2, 1)\n",
    "    Output: True\n",
    "\n",
    "    Input: ('a', 'b', 'c', 'b', 'a')\n",
    "    Output: True\n",
    "\n",
    "    Input: (1, 2, 3, 4, 5)\n",
    "    Output: False\n",
    "\n",
    "    Input: ('x', 'y', 'z', 'x')\n",
    "    Output: False\n",
    "\n",
    "    Input: ('a',)\n",
    "    Output: True"
   ]
  },
  {
   "cell_type": "code",
   "execution_count": null,
   "metadata": {},
   "outputs": [
    {
     "name": "stdout",
     "output_type": "stream",
     "text": [
      "True\n"
     ]
    }
   ],
   "source": [
    "def is_palindromic_tuple(tup):\n",
    "    # Your code goes here\n",
    "    \n",
    "    start = 0\n",
    "    end = len(tup) - 1\n",
    "    while start <= end:\n",
    "        if tup[start] != tup[end]:  ## if elements at pointers 'start' and 'end' are not equal then not plandrome\n",
    "            return False\n",
    "        start += 1\n",
    "        end -= 1\n",
    "\n",
    "    return True ## else it is a palindrome\n",
    "\n",
    "print(is_palindromic_tuple(('a', 'b', 'c', 'b', 'a')))"
   ]
  },
  {
   "cell_type": "markdown",
   "metadata": {},
   "source": [
    "\n",
    "\n",
    "    Time Complexity: O(n), where n is the length of the tuple.\n",
    "\n",
    "    Space Complexity: O(1).\n"
   ]
  }
 ],
 "metadata": {
  "kernelspec": {
   "display_name": "Python 3",
   "language": "python",
   "name": "python3"
  },
  "language_info": {
   "codemirror_mode": {
    "name": "ipython",
    "version": 3
   },
   "file_extension": ".py",
   "mimetype": "text/x-python",
   "name": "python",
   "nbconvert_exporter": "python",
   "pygments_lexer": "ipython3",
   "version": "3.12.0"
  }
 },
 "nbformat": 4,
 "nbformat_minor": 2
}
