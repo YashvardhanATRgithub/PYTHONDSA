{
 "cells": [
  {
   "cell_type": "code",
   "execution_count": 3,
   "metadata": {},
   "outputs": [
    {
     "name": "stdout",
     "output_type": "stream",
     "text": [
      "-110\n"
     ]
    }
   ],
   "source": [
    "''' method: continiously dividing n by 2 and finding its remainder and prepending remainder to binary string\n",
    "            to reverse the found remainder'''\n",
    "\n",
    "def int_to_binary(n):\n",
    "    \"\"\"\n",
    "    Function to convert an integer to its binary representation.\n",
    "    \n",
    "    Parameters:\n",
    "    n (int): The integer to convert.\n",
    "    \n",
    "    Returns:\n",
    "    str: The binary representation of the integer.\n",
    "    \"\"\"\n",
    "    # Your code here\n",
    "\n",
    "    if n == 0:\n",
    "        return 0\n",
    "    \n",
    "    negative = n < 0\n",
    "    n = abs(n)\n",
    "\n",
    "    rem = ''\n",
    "    binary = ''\n",
    "    while n / 2 != 0:\n",
    "        rem = str(n % 2)\n",
    "        binary  = rem + binary  ## prepending i.e. concatenating remainder (rem) to left of the \n",
    "                                ## binary to naturally reverse the remainder string\n",
    "        n = n // 2\n",
    "    return '-' + binary if negative else binary\n",
    "    \n",
    "\n",
    "print(int_to_binary(-6))"
   ]
  },
  {
   "cell_type": "markdown",
   "metadata": {},
   "source": [
    "### Complexity Analysis\n",
    "\n",
    "- **Time Complexity:** $O(\\log n)$  \n",
    "- **Space Complexity:** $O(\\log n)$\n"
   ]
  }
 ],
 "metadata": {
  "kernelspec": {
   "display_name": "Python 3",
   "language": "python",
   "name": "python3"
  },
  "language_info": {
   "codemirror_mode": {
    "name": "ipython",
    "version": 3
   },
   "file_extension": ".py",
   "mimetype": "text/x-python",
   "name": "python",
   "nbconvert_exporter": "python",
   "pygments_lexer": "ipython3",
   "version": "3.12.0"
  }
 },
 "nbformat": 4,
 "nbformat_minor": 2
}
