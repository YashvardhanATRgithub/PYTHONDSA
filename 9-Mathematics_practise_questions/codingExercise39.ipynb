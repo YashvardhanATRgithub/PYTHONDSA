{
 "cells": [
  {
   "cell_type": "markdown",
   "metadata": {},
   "source": [
    "Valid Perfect Square\n",
    "\n",
    "Problem Description:\n",
    "\n",
    "You are given a positive integer num. Your task is to check whether num is a perfect square or not. A perfect square is an integer that is the square of an integer (e.g., 1, 4, 9, 16, ...). Return True if num is a perfect square, and False otherwise.\n",
    "\n",
    "\n",
    "Input:\n",
    "\n",
    "    A single positive integer num where 1 <= num <= 10^9.\n",
    "\n",
    "\n",
    "Output:\n",
    "\n",
    "    Return True if num is a perfect square, otherwise return False.\n",
    "\n",
    "\n",
    "Example:\n",
    "\n",
    "    Input: num = 16\n",
    "    Output: True\n",
    "     \n",
    "    Input: num = 14\n",
    "    Output: False"
   ]
  },
  {
   "cell_type": "code",
   "execution_count": null,
   "metadata": {},
   "outputs": [],
   "source": [
    "def is_perfect_square(num):\n",
    "    \"\"\"\n",
    "    Function to check if a number is a perfect square.\n",
    "    \n",
    "    Parameters:\n",
    "    num (int): The number to check.\n",
    "    \n",
    "    Returns:\n",
    "    bool: True if num is a perfect square, False otherwise.\n",
    "    \"\"\"\n",
    "    # Your code here\n",
    "    \n",
    "    if num < 1:  ## There is no any perfect square less than 1\n",
    "        return False\n",
    "    \n",
    "    i =1\n",
    "    while i*i <= num:  ## Checking upto sqrt(n)\n",
    "        if num == i*i:\n",
    "            return True\n",
    "        i += 1\n",
    "            \n",
    "    return False"
   ]
  },
  {
   "cell_type": "markdown",
   "metadata": {},
   "source": [
    "Time Complexity: O(sqrt(n))\n",
    "\n",
    "Space Complexity: O(1)"
   ]
  }
 ],
 "metadata": {
  "kernelspec": {
   "display_name": "Python 3",
   "language": "python",
   "name": "python3"
  },
  "language_info": {
   "name": "python",
   "version": "3.12.0"
  }
 },
 "nbformat": 4,
 "nbformat_minor": 2
}
