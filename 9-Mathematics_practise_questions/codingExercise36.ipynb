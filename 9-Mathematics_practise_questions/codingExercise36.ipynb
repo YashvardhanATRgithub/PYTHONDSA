{
 "cells": [
  {
   "cell_type": "markdown",
   "metadata": {},
   "source": [
    "Sum of N Even Natural Numbers\n",
    "\n",
    "Problem Description:\n",
    "\n",
    "You are given an integer n. Your task is to calculate and return the sum of the first n even natural numbers. The even natural numbers are: 2, 4, 6, 8, ...\n",
    "\n",
    "\n",
    "Input:\n",
    "\n",
    "    A single integer n where 1 <= n <= 10^4.\n",
    "\n",
    "\n",
    "Output:\n",
    "\n",
    "    Return the sum of the first n even natural numbers.\n",
    "\n",
    "\n",
    "Example:\n",
    "\n",
    "    Input: n = 3\n",
    "    Output: 12  # (2 + 4 + 6)\n",
    "     \n",
    "    Input: n = 5\n",
    "    Output: 30  # (2 + 4 + 6 + 8 + 10)"
   ]
  },
  {
   "cell_type": "code",
   "execution_count": null,
   "metadata": {},
   "outputs": [],
   "source": [
    "## Using formula n(n+1)\n",
    "\n",
    "def sum_of_even_numbers(n):\n",
    "    \"\"\"\n",
    "    Function to return the sum of the first n even natural numbers.\n",
    "    \n",
    "    Parameters:\n",
    "    n (int): The number of even numbers to sum.\n",
    "    \n",
    "    Returns:\n",
    "    int: The sum of the first n even natural numbers.\n",
    "    \"\"\"\n",
    "    # Your code here\n",
    "    \n",
    "    sum = n * (n +1)\n",
    "    \n",
    "    return sum"
   ]
  },
  {
   "cell_type": "markdown",
   "metadata": {},
   "source": [
    "Time Complexity: (1)\n",
    "Space Complexity: (1)"
   ]
  },
  {
   "cell_type": "code",
   "execution_count": 3,
   "metadata": {},
   "outputs": [
    {
     "name": "stdout",
     "output_type": "stream",
     "text": [
      "30\n"
     ]
    }
   ],
   "source": [
    "## Using loop\n",
    "def sum_of_even_numbers(n):\n",
    "\n",
    "    sum = 0\n",
    "    for i in range(1,n+1):\n",
    "        sum += 2 * i\n",
    "\n",
    "    return sum\n",
    "\n",
    "print(sum_of_even_numbers(5))\n"
   ]
  },
  {
   "cell_type": "markdown",
   "metadata": {},
   "source": [
    "Time Complexity: O(n)\n",
    "\n",
    "Space Complexity: O(1)"
   ]
  }
 ],
 "metadata": {
  "kernelspec": {
   "display_name": "Python 3",
   "language": "python",
   "name": "python3"
  },
  "language_info": {
   "codemirror_mode": {
    "name": "ipython",
    "version": 3
   },
   "file_extension": ".py",
   "mimetype": "text/x-python",
   "name": "python",
   "nbconvert_exporter": "python",
   "pygments_lexer": "ipython3",
   "version": "3.12.0"
  }
 },
 "nbformat": 4,
 "nbformat_minor": 2
}
