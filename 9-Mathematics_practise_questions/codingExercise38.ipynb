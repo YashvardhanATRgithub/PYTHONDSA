{
 "cells": [
  {
   "cell_type": "markdown",
   "metadata": {},
   "source": [
    "Check for Prime Number\n",
    "\n",
    "Problem Description:\n",
    "\n",
    "You are given an integer n. Your task is to check whether the number is prime or not. A prime number is a number greater than 1 that has no divisors other than 1 and itself. Return True if the number is prime, and False otherwise.\n",
    "\n",
    "\n",
    "Input:\n",
    "\n",
    "    A single integer n where 1 <= n <= 10^6.\n",
    "\n",
    "\n",
    "Output:\n",
    "\n",
    "    Return True if n is a prime number, otherwise return False.\n",
    "\n",
    "\n",
    "Example:\n",
    "\n",
    "    Input: n = 5\n",
    "    Output: True\n",
    "     \n",
    "    Input: n = 4\n",
    "    Output: False"
   ]
  },
  {
   "cell_type": "code",
   "execution_count": null,
   "metadata": {},
   "outputs": [],
   "source": [
    "## Naive approach: by checking with each number below n\n",
    "\n",
    "def is_prime(n):\n",
    "    \"\"\"\n",
    "    Function to check if a number is prime.\n",
    "    \n",
    "    Parameters:\n",
    "    n (int): The number to check.\n",
    "    \n",
    "    Returns:\n",
    "    bool: True if n is prime, False otherwise.\n",
    "    \"\"\"\n",
    "    # Your code here\n",
    "    \n",
    "    for _ in range(2,n):\n",
    "        if n % _ == 0:\n",
    "            return False\n",
    "    \n",
    "    return True"
   ]
  },
  {
   "cell_type": "markdown",
   "metadata": {},
   "source": [
    "Time Complexity: O(n)\n",
    "\n",
    "Space Coplexity: O(1)"
   ]
  },
  {
   "cell_type": "code",
   "execution_count": null,
   "metadata": {},
   "outputs": [],
   "source": [
    "def is_prime(n):\n",
    "\n",
    "    if n <= 1:  ## Smallest prime number is 2\n",
    "        return False\n",
    "    \n",
    "    if n == 2:\n",
    "        return True\n",
    "    \n",
    "    if n % 2 == 0:  ## Even numbers are not prime\n",
    "        return False\n",
    "    \n",
    "    i = 3\n",
    "\n",
    "    while i*i <= n:\n",
    "        if n % i == 0:\n",
    "            return False\n",
    "        i += 2  ## Skipping even numbers\n",
    "\n",
    "    return True"
   ]
  },
  {
   "cell_type": "markdown",
   "metadata": {},
   "source": [
    "Time Complexity: O(root(n))\n",
    "\n",
    "Space Complexity: O(1)"
   ]
  }
 ],
 "metadata": {
  "kernelspec": {
   "display_name": "Python 3",
   "language": "python",
   "name": "python3"
  },
  "language_info": {
   "codemirror_mode": {
    "name": "ipython",
    "version": 3
   },
   "file_extension": ".py",
   "mimetype": "text/x-python",
   "name": "python",
   "nbconvert_exporter": "python",
   "pygments_lexer": "ipython3",
   "version": "3.12.0"
  }
 },
 "nbformat": 4,
 "nbformat_minor": 2
}
