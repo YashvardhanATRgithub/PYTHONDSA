{
 "cells": [
  {
   "cell_type": "markdown",
   "metadata": {},
   "source": [
    "Check for Even Number\n",
    "\n",
    "Problem Description:\n",
    "\n",
    "You are given an integer n. Your task is to check whether the number is even or not. Return True if the number is even, and False otherwise.\n",
    "\n",
    "\n",
    "Input:\n",
    "\n",
    "    A single integer n where -10^9 <= n <= 10^9.\n",
    "\n",
    "\n",
    "Output:\n",
    "\n",
    "    Return True if n is an even number, otherwise return False.\n",
    "\n",
    "\n",
    "Example:\n",
    "\n",
    "    Input: n = 4\n",
    "    Output: True\n",
    "     \n",
    "    Input: n = 7\n",
    "    Output: False"
   ]
  },
  {
   "cell_type": "code",
   "execution_count": null,
   "metadata": {},
   "outputs": [],
   "source": [
    "def is_even(n):\n",
    "    \"\"\"\n",
    "    Function to check if a number is even.\n",
    "    \n",
    "    Parameters:\n",
    "    n (int): The number to check.\n",
    "    \n",
    "    Returns:\n",
    "    bool: True if n is even, False otherwise.\n",
    "    \"\"\"\n",
    "    # Your code here\n",
    "    \n",
    "    if n % 2 == 0:\n",
    "        return True\n",
    "    return False"
   ]
  },
  {
   "cell_type": "markdown",
   "metadata": {},
   "source": [
    "Time Complexity: O(1)\n",
    "\n",
    "Space Complexity: O(1)"
   ]
  }
 ],
 "metadata": {
  "kernelspec": {
   "display_name": "Python 3",
   "language": "python",
   "name": "python3"
  },
  "language_info": {
   "name": "python",
   "version": "3.12.0"
  }
 },
 "nbformat": 4,
 "nbformat_minor": 2
}
