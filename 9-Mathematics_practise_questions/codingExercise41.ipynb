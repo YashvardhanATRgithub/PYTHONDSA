{
 "cells": [
  {
   "cell_type": "code",
   "execution_count": null,
   "metadata": {},
   "outputs": [
    {
     "name": "stdout",
     "output_type": "stream",
     "text": [
      "6\n"
     ]
    }
   ],
   "source": [
    "def binary_to_decimal(binary_str):\n",
    "    \"\"\"\n",
    "    Function to convert a binary string to its decimal integer representation.\n",
    "    \n",
    "    Parameters:\n",
    "    binary_str (str): The binary string to convert.\n",
    "    \n",
    "    Returns:\n",
    "    int: The decimal representation of the binary string.\n",
    "    \"\"\"\n",
    "    # Your code here\n",
    "\n",
    "    bin_to_des = 0\n",
    "    bin_str_length = len(binary_str) ## length of the binary string\n",
    "\n",
    "    for i in range(bin_str_length):\n",
    "        ## assigning each digit of binary string from right to variable digit\n",
    "        digit = binary_str[bin_str_length - 1 - i] \n",
    "\n",
    "        ## binary digit '1' only contributes in calculating binary to decimal\n",
    "        if digit == '1':\n",
    "            ## i is working as a power of 2 here\n",
    "            bin_to_des += 2 ** i\n",
    "    \n",
    "    return bin_to_des\n",
    "\n",
    "print(binary_to_decimal('110'))"
   ]
  },
  {
   "cell_type": "markdown",
   "metadata": {},
   "source": [
    "### Complexity Analysis\n",
    "\n",
    "- **Time Complexity:** $O(\\ n)$  \n",
    "- **Space Complexity:** $O(\\ 1)$"
   ]
  }
 ],
 "metadata": {
  "kernelspec": {
   "display_name": "Python 3",
   "language": "python",
   "name": "python3"
  },
  "language_info": {
   "codemirror_mode": {
    "name": "ipython",
    "version": 3
   },
   "file_extension": ".py",
   "mimetype": "text/x-python",
   "name": "python",
   "nbconvert_exporter": "python",
   "pygments_lexer": "ipython3",
   "version": "3.12.0"
  }
 },
 "nbformat": 4,
 "nbformat_minor": 2
}
