{
 "cells": [
  {
   "cell_type": "markdown",
   "metadata": {},
   "source": [
    "GCD of Two Numbers\n",
    "\n",
    "Problem Description:\n",
    "\n",
    "You are given two integers n and m. Your task is to find the GCD of these two numbers. The GCD is the largest positive integer that divides both numbers without leaving a remainder. Do not use any built-in functions and do not use recursion.\n",
    "\n",
    "\n",
    "Input:\n",
    "\n",
    "    Two integers n and m, where 1 <= n, m <= 10^9.\n",
    "\n",
    "\n",
    "Output:\n",
    "\n",
    "    An integer representing the GCD of n and m.\n",
    "\n",
    "\n",
    "Example:\n",
    "\n",
    "    Input: n = 48, m = 18\n",
    "    Output: 6\n",
    "     \n",
    "    Input: n = 56, m = 98\n",
    "    Output: 14"
   ]
  },
  {
   "cell_type": "code",
   "execution_count": 18,
   "metadata": {},
   "outputs": [
    {
     "name": "stdout",
     "output_type": "stream",
     "text": [
      "2\n"
     ]
    }
   ],
   "source": [
    "def gcd(n, m):\n",
    "    \"\"\"\n",
    "    Function to find the GCD of two integers without using built-in functions and recursion.\n",
    "    \n",
    "    Parameters:\n",
    "    n (int): The first integer.\n",
    "    m (int): The second integer.\n",
    "    \n",
    "    Returns:\n",
    "    int: The GCD of n and m.\n",
    "    \"\"\"\n",
    "    # Your code here\n",
    "    while m:\n",
    "        n,m = m, n%m\n",
    "    return n\n",
    "print(gcd(10,22))"
   ]
  },
  {
   "cell_type": "markdown",
   "metadata": {},
   "source": [
    "### Complexity Analysis\n",
    "\n",
    "- **Time Complexity:** $O(\\ log min(n,m))$  \n",
    "- **Space Complexity:** $O(\\ 1)$"
   ]
  }
 ],
 "metadata": {
  "kernelspec": {
   "display_name": "Python 3",
   "language": "python",
   "name": "python3"
  },
  "language_info": {
   "codemirror_mode": {
    "name": "ipython",
    "version": 3
   },
   "file_extension": ".py",
   "mimetype": "text/x-python",
   "name": "python",
   "nbconvert_exporter": "python",
   "pygments_lexer": "ipython3",
   "version": "3.12.0"
  }
 },
 "nbformat": 4,
 "nbformat_minor": 2
}
