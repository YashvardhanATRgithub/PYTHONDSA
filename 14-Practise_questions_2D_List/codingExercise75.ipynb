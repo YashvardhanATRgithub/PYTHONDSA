{
 "cells": [
  {
   "cell_type": "markdown",
   "metadata": {},
   "source": [
    "Pascal's Triangle\n",
    "\n",
    "Asked in Companies:\n",
    "\n",
    "    Google\n",
    "\n",
    "    Amazon\n",
    "\n",
    "    Microsoft\n",
    "\n",
    "    Facebook\n",
    "\n",
    "\n",
    "Description:\n",
    "Given an integer numRows, return the first numRows of Pascal's triangle. In Pascal's triangle, each number is the sum of the two numbers directly above it. The first row is row 0, which is [1].\n",
    "\n",
    "\n",
    "Input Parameters:\n",
    "\n",
    "    numRows (int): The number of rows of Pascal's triangle to generate.\n",
    "\n",
    "Output:\n",
    "\n",
    "    List[List[int]]: A list of lists where each list represents a row in Pascal's triangle.\n",
    "\n",
    "\n",
    "Example:\n",
    "\n",
    "    Input: numRows = 3\n",
    "    Output: [\n",
    "      [1],\n",
    "      [1, 1],\n",
    "      [1, 2, 1]\n",
    "    ]\n",
    "     \n",
    "    Input: numRows = 1\n",
    "    Output: [\n",
    "      [1]\n",
    "    ]\n",
    "     \n",
    "    Input: numRows = 5\n",
    "    Output: [\n",
    "      [1],\n",
    "      [1, 1],\n",
    "      [1, 2, 1],\n",
    "      [1, 3, 3, 1],\n",
    "      [1, 4, 6, 4, 1]\n",
    "    ]\n",
    "\n",
    "    Leetcode Link : https://leetcode.com/problems/pascals-triangle/description/"
   ]
  },
  {
   "cell_type": "code",
   "execution_count": null,
   "metadata": {},
   "outputs": [],
   "source": [
    "def generate(numRows):\n",
    "    res = [[1]]  # Base Case\n",
    "    for i in range(numRows-1): # Since first row already done so numRows-1 rows left\n",
    "        temp = [0] + res[-1] + [0] # Appending zero at both ends in case if there is no left/right ele. above\n",
    "        row = []\n",
    "        for j in range(len(res[-1])+1):\n",
    "            row.append(temp[j] + temp[j+1]) # Sum of two elements just above the required element\n",
    "        res.append(row)\n",
    "\n",
    "    return res\n",
    "    \n"
   ]
  },
  {
   "cell_type": "markdown",
   "metadata": {},
   "source": [
    "### Complexity Analysis\n",
    "\n",
    "- ***Time Complexity*** $O(\\ n^2)$\n",
    "- ***Space Complexity*** $O(\\ n^2)\\ bcz\\ variable\\ row\\ has\\ almost\\ n^2\\ elements$"
   ]
  }
 ],
 "metadata": {
  "kernelspec": {
   "display_name": "Python 3",
   "language": "python",
   "name": "python3"
  },
  "language_info": {
   "name": "python",
   "version": "3.12.0"
  }
 },
 "nbformat": 4,
 "nbformat_minor": 2
}
