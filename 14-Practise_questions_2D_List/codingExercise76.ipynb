{
 "cells": [
  {
   "cell_type": "markdown",
   "metadata": {},
   "source": [
    "Rotate Image\n",
    "\n",
    "Asked in Companies:\n",
    "\n",
    "    Zoho\n",
    "\n",
    "    Amazon\n",
    "\n",
    "    Schlumberger\n",
    "\n",
    "    Facebook\n",
    "\n",
    "\n",
    "Description:\n",
    "You are given an n x n 2D matrix representing an image. Rotate the image by 90 degrees clockwise. The rotation should be done in-place, meaning you have to modify the input matrix directly without using any additional matrix for storage.\n",
    "\n",
    "\n",
    "Input Parameters:\n",
    "\n",
    "    matrix (List[List[int]]): A 2D list of integers representing the matrix of size n x n.\n",
    "\n",
    "Output:\n",
    "\n",
    "    The function should modify the matrix in-place. No need to return anything.\n",
    "\n",
    "\n",
    "Example:\n",
    "\n",
    "    Input: matrix = [[5, 1, 9, 11],\n",
    "                     [2, 4, 8, 10],\n",
    "                     [13, 3, 6, 7],\n",
    "                     [15, 14, 12, 16]]\n",
    "    Output: [[15, 13, 2, 5],\n",
    "             [14, 3, 4, 1],\n",
    "             [12, 6, 8, 9],\n",
    "             [16, 7, 10, 11]]\n",
    "     \n",
    "     \n",
    "    Input: matrix = [[1, 2, 3],\n",
    "                     [4, 5, 6],\n",
    "                     [7, 8, 9]]\n",
    "    Output: [[7, 4, 1],\n",
    "             [8, 5, 2],\n",
    "             [9, 6, 3]]\n",
    "\n",
    "\n",
    "LeetCode Link: https://leetcode.com/problems/rotate-image/description/"
   ]
  },
  {
   "cell_type": "code",
   "execution_count": null,
   "metadata": {},
   "outputs": [
    {
     "name": "stdout",
     "output_type": "stream",
     "text": [
      "[[5, 1, 9, 11], [2, 4, 8, 10], [13, 3, 6, 7], [15, 14, 12, 16]]\n"
     ]
    }
   ],
   "source": [
    "def rotate(matrix):\n",
    "    \"\"\"\n",
    "    Function to rotate the matrix 90 degrees clockwise.\n",
    "    :param matrix: List[List[int]] -> 2D list representing the matrix\n",
    "    :return: None -> Modifies the matrix in-place\n",
    "    \"\"\"\n",
    "    # TODO: Implement this function\n",
    "    \n",
    "    rowLen = len(matrix[0])\n",
    "    \n",
    "    for i in range(rowLen):\n",
    "        for j in range(i, rowLen):\n",
    "            temp = matrix[i][j]\n",
    "            matrix[i][j] = matrix[j][i]\n",
    "            matrix[j][i] = temp\n",
    "    for i in range(rowLen):\n",
    "        for j in range(rowLen//2):\n",
    "            temp = matrix[i][j]\n",
    "            matrix[i][j] = matrix[i][rowLen-j-1]\n",
    "            matrix[i][rowLen-j-1] = temp\n",
    "    return matrix\n",
    "\n",
    "matrix = [[5, 1, 9, 11],[2, 4, 8, 10],[13, 3, 6, 7],[15, 14, 12, 16]]\n",
    "\n",
    "print(rotate(matrix))\n",
    "    \n"
   ]
  },
  {
   "cell_type": "code",
   "execution_count": null,
   "metadata": {},
   "outputs": [],
   "source": []
  }
 ],
 "metadata": {
  "kernelspec": {
   "display_name": "Python 3",
   "language": "python",
   "name": "python3"
  },
  "language_info": {
   "codemirror_mode": {
    "name": "ipython",
    "version": 3
   },
   "file_extension": ".py",
   "mimetype": "text/x-python",
   "name": "python",
   "nbconvert_exporter": "python",
   "pygments_lexer": "ipython3",
   "version": "3.12.0"
  }
 },
 "nbformat": 4,
 "nbformat_minor": 2
}
