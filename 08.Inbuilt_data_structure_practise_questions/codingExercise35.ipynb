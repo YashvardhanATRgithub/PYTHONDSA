{
 "cells": [
  {
   "cell_type": "markdown",
   "metadata": {},
   "source": [
    "Check if List is Subset of another List\n",
    "\n",
    "Check if a List is a Subset of Another List (Brute Force Approach)\n",
    "\n",
    "You are given two lists of integers. Write a Python program that checks whether the first list is a subset of the second list using a brute-force approach, without using the in keyword. A list is considered a subset if all elements of the first list are present in the second list.\n",
    "\n",
    "Parameters:\n",
    "\n",
    "    lst1 (List of integers): The first list, which is being checked as a subset.\n",
    "\n",
    "    lst2 (List of integers): The second list, which is the list to compare against.\n",
    "\n",
    "Returns:\n",
    "\n",
    "    A boolean value True if lst1 is a subset of lst2, otherwise False.\n",
    "\n",
    "Example:\n",
    "\n",
    "    Input: lst1 = [1, 2, 3], lst2 = [1, 2, 3, 4, 5]\n",
    "    Output: True\n",
    "\n",
    "        All elements in lst1 are present in lst2.\n",
    "\n",
    "    Input: lst1 = [1, 6], lst2 = [1, 2, 3, 4, 5]\n",
    "    Output: False\n",
    "\n",
    "        The element 6 is not present in lst2."
   ]
  },
  {
   "cell_type": "code",
   "execution_count": null,
   "metadata": {},
   "outputs": [],
   "source": [
    "def is_subset(lst1, lst2):\n",
    "    # Your code goes here\n",
    "    \n",
    "    \n",
    "    for element in lst1:\n",
    "        found = False   ## found becomes false after each iteration of outer loop\n",
    "        for item in lst2:\n",
    "            if element == item:\n",
    "                found = True\n",
    "                break  \n",
    "            \n",
    "        if not found:\n",
    "            return False\n",
    "\n",
    "    return True\n",
    "            \n"
   ]
  },
  {
   "cell_type": "markdown",
   "metadata": {},
   "source": [
    "Time complexity: O(m * n)\n",
    "Space Complexity: O(1)"
   ]
  },
  {
   "cell_type": "code",
   "execution_count": null,
   "metadata": {},
   "outputs": [],
   "source": [
    "## more efficient code using set\n",
    "\n",
    "def is_subset(lst1, lst2):\n",
    "    set_lst2 = set(lst2)  # Convert lst2 to a set for faster lookup\n",
    "    for element in lst1:\n",
    "        if element not in set_lst2:  # Check membership in O(1)\n",
    "            return False\n",
    "    return True\n"
   ]
  },
  {
   "cell_type": "markdown",
   "metadata": {},
   "source": [
    "Time Complexity:\n",
    "Checking membership in a set has an average time complexity of O(1)O(1), reducing the overall complexity to O(n+m)(where m is the size of lst2, and n is the size of lst1).\n",
    "\n",
    "Space Complexity: O(m) bcz of set"
   ]
  }
 ],
 "metadata": {
  "kernelspec": {
   "display_name": "Python 3",
   "language": "python",
   "name": "python3"
  },
  "language_info": {
   "name": "python",
   "version": "3.12.0"
  }
 },
 "nbformat": 4,
 "nbformat_minor": 2
}
