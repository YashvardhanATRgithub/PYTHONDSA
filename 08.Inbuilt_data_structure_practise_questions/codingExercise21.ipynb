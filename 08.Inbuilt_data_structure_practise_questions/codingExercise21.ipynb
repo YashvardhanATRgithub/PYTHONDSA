{
 "cells": [
  {
   "cell_type": "markdown",
   "metadata": {},
   "source": [
    "Sum of List Elements\n",
    "\n",
    "Problem Description\n",
    "\n",
    "Sum of List Elements\n",
    "\n",
    "Write a Python function that calculates the sum of all elements in a given list of integers.\n",
    "\n",
    "Parameters:\n",
    "\n",
    "    numbers (List of integers): The input list containing integers.\n",
    "\n",
    "Returns:\n",
    "\n",
    "    An integer representing the sum of all elements in the input list.\n",
    "\n",
    "Example:\n",
    "\n",
    "    Input: numbers = [1, 2, 3, 4, 5]\n",
    "    Output: 15\n",
    "\n",
    "    Input: numbers = [10, -5, 7, 8, -2]\n",
    "    Output: 18"
   ]
  },
  {
   "cell_type": "code",
   "execution_count": 2,
   "metadata": {},
   "outputs": [
    {
     "name": "stdout",
     "output_type": "stream",
     "text": [
      "26\n"
     ]
    }
   ],
   "source": [
    "# Using loop\n",
    "\n",
    "def sum_list(numbers):\n",
    "    # Your code goes here\n",
    "    \n",
    "    sum = 0\n",
    "    for num in numbers:\n",
    "        sum += num\n",
    "    \n",
    "    return sum\n",
    "\n",
    "\n",
    "lst = [2,5,1,8,3,7]\n",
    "print(sum_list(lst))"
   ]
  },
  {
   "cell_type": "code",
   "execution_count": 3,
   "metadata": {},
   "outputs": [
    {
     "name": "stdout",
     "output_type": "stream",
     "text": [
      "26\n"
     ]
    }
   ],
   "source": [
    "# Using inbuilt sum() function\n",
    "\n",
    "def sum_list(numbers):\n",
    "    return sum(numbers)\n",
    "\n",
    "lst = [2,5,1,8,3,7]\n",
    "\n",
    "print(sum_list(lst))"
   ]
  },
  {
   "cell_type": "markdown",
   "metadata": {},
   "source": [
    "##### Complexity Analysis: \n",
    "\n",
    "##### Time Complexity: O(n)\n",
    "\n",
    "##### Space Complexity: O(1)  bcz no extra space is used"
   ]
  }
 ],
 "metadata": {
  "kernelspec": {
   "display_name": "Python 3",
   "language": "python",
   "name": "python3"
  },
  "language_info": {
   "codemirror_mode": {
    "name": "ipython",
    "version": 3
   },
   "file_extension": ".py",
   "mimetype": "text/x-python",
   "name": "python",
   "nbconvert_exporter": "python",
   "pygments_lexer": "ipython3",
   "version": "3.12.0"
  }
 },
 "nbformat": 4,
 "nbformat_minor": 2
}
