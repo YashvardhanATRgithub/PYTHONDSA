{
 "cells": [
  {
   "cell_type": "markdown",
   "metadata": {},
   "source": [
    "Check if All Elements in a List are Unique\n",
    "\n",
    "You are given a list of integers. Write a Python program that checks if all elements in the list are unique. If all elements are unique, return True; otherwise, return False.\n",
    "\n",
    "Parameters:\n",
    "\n",
    "    lst (List of integers): The list of integers to check for uniqueness.\n",
    "\n",
    "Returns:\n",
    "\n",
    "    A boolean value True if all elements in the list are unique, False otherwise.\n",
    "\n",
    "Example:\n",
    "\n",
    "    Input: lst = [1, 2, 3, 4, 5]\n",
    "    Output: True\n",
    "\n",
    "    Input: lst = [1, 2, 3, 3, 4, 5]\n",
    "    Output: False"
   ]
  },
  {
   "cell_type": "code",
   "execution_count": null,
   "metadata": {},
   "outputs": [],
   "source": [
    "## using set to check if all elements are unique\n",
    "\n",
    "def check_unique(lst):\n",
    "    # Your code goes here\n",
    "    \n",
    "    seen = set()\n",
    "\n",
    "    for item in lst:\n",
    "        if item in seen:\n",
    "            return False\n",
    "        seen.add(item)\n",
    "    return True"
   ]
  },
  {
   "cell_type": "markdown",
   "metadata": {},
   "source": [
    "##### Time Complexity = O(n)\n",
    "##### Space Complexity = O(n)"
   ]
  }
 ],
 "metadata": {
  "kernelspec": {
   "display_name": "Python 3",
   "language": "python",
   "name": "python3"
  },
  "language_info": {
   "name": "python",
   "version": "3.12.0"
  }
 },
 "nbformat": 4,
 "nbformat_minor": 2
}
