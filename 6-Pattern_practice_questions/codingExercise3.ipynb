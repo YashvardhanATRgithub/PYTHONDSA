{
 "cells": [
  {
   "cell_type": "code",
   "execution_count": null,
   "metadata": {},
   "outputs": [
    {
     "name": "stdout",
     "output_type": "stream",
     "text": [
      "[]\n"
     ]
    }
   ],
   "source": [
    "## Naive approach\n",
    "\n",
    "def generate_rectangle(n, m):\n",
    "    \n",
    "    lst = []\n",
    "\n",
    "    if m <= 0:     ## This is important bcz without it, empty strings (' ') will fill the list\n",
    "        return lst\n",
    "    else:\n",
    "        for i in range(n):\n",
    "            lst.append('*'*m)\n",
    "        return lst\n",
    "    \n",
    "\n",
    "\n",
    "rows = int(input(\"Enter the no. of rows: \"))\n",
    "cols = int(input(\"Enter the number of columns: \"))\n",
    "print(generate_rectangle(rows,cols))"
   ]
  },
  {
   "cell_type": "code",
   "execution_count": null,
   "metadata": {},
   "outputs": [
    {
     "name": "stdout",
     "output_type": "stream",
     "text": [
      "['', '', '', '', '']\n"
     ]
    }
   ],
   "source": [
    "## More readable approach using list comprehension\n",
    "\n",
    "def rectangle_pattern(n, m):\n",
    "    if n <= 0 or m <= 0:\n",
    "        return []  # Return an empty list if rows or columns are zero\n",
    "    return ['*' * m for _ in range(n)]\n",
    "\n",
    "\n",
    "rows = int(input(\"Enter the no. of rows: \"))\n",
    "cols = int(input(\"Enter the number of columns: \"))\n",
    "print(generate_rectangle(rows,cols))"
   ]
  },
  {
   "cell_type": "markdown",
   "metadata": {},
   "source": [
    "##### Complexity Analysis\n",
    "\n",
    "##### Time Complexity = O(n*m)\n",
    "##### Space Complexity = O(n*m)"
   ]
  },
  {
   "cell_type": "code",
   "execution_count": null,
   "metadata": {},
   "outputs": [],
   "source": []
  }
 ],
 "metadata": {
  "kernelspec": {
   "display_name": "Python 3",
   "language": "python",
   "name": "python3"
  },
  "language_info": {
   "codemirror_mode": {
    "name": "ipython",
    "version": 3
   },
   "file_extension": ".py",
   "mimetype": "text/x-python",
   "name": "python",
   "nbconvert_exporter": "python",
   "pygments_lexer": "ipython3",
   "version": "3.12.0"
  }
 },
 "nbformat": 4,
 "nbformat_minor": 2
}
