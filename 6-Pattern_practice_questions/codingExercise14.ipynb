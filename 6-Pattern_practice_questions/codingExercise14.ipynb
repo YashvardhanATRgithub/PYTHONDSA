{
 "cells": [
  {
   "cell_type": "code",
   "execution_count": 1,
   "metadata": {},
   "outputs": [
    {
     "name": "stdout",
     "output_type": "stream",
     "text": [
      "['****', '* *', '**', '*']\n"
     ]
    }
   ],
   "source": [
    "def generate_hollow_inverted_right_angled_triangle(n):\n",
    "    \"\"\"\n",
    "    Function to return a hollow inverted right-angled triangle of '*' of side n as a list of strings.\n",
    "    \n",
    "    Parameters:\n",
    "    n (int): The height of the triangle.\n",
    "    \n",
    "    Returns:\n",
    "    list: A list of strings where each string represents a row of the triangle.\n",
    "    \"\"\"\n",
    "    # Your code here\n",
    "    triangle = []\n",
    "    \n",
    "    for i in range(1, n+1):\n",
    "        if i == 1:\n",
    "            triangle.append('*' * n)\n",
    "        elif i == n:\n",
    "            triangle.append('*')\n",
    "        else:\n",
    "            triangle.append('*' + ' '*(n-(i+1)) + '*')\n",
    "    return triangle\n",
    "\n",
    "print(generate_hollow_inverted_right_angled_triangle(4))"
   ]
  },
  {
   "cell_type": "code",
   "execution_count": 3,
   "metadata": {},
   "outputs": [
    {
     "name": "stdout",
     "output_type": "stream",
     "text": [
      "['****', '* *', '**', '*']\n"
     ]
    }
   ],
   "source": [
    "## by iterating loop in reverse order\n",
    "\n",
    "def reversed_hollow_right_triangle(n):\n",
    "    triangle = []\n",
    "    for i in range(n, 0, -1):  # Loop from n down to 1\n",
    "        if i == n or i == 1:  # First and last rows are full of '*'\n",
    "            triangle.append('*' * i)\n",
    "        else:  # Middle rows have '*' at the beginning and end, with spaces in between\n",
    "            triangle.append('*' + ' ' * (i - 2) + '*')\n",
    "    return triangle\n",
    "\n",
    "# Example usage\n",
    "print(reversed_hollow_right_triangle(4))\n",
    "\n"
   ]
  },
  {
   "cell_type": "markdown",
   "metadata": {},
   "source": [
    "##### Complexity Analysis: \n",
    "\n",
    "##### Time Complexity: O(n^2)\n",
    "\n",
    "##### Space Complexity: O(n^2)"
   ]
  }
 ],
 "metadata": {
  "kernelspec": {
   "display_name": "Python 3",
   "language": "python",
   "name": "python3"
  },
  "language_info": {
   "codemirror_mode": {
    "name": "ipython",
    "version": 3
   },
   "file_extension": ".py",
   "mimetype": "text/x-python",
   "name": "python",
   "nbconvert_exporter": "python",
   "pygments_lexer": "ipython3",
   "version": "3.12.0"
  }
 },
 "nbformat": 4,
 "nbformat_minor": 2
}
