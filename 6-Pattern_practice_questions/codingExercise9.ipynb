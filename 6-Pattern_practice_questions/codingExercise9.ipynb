{
 "cells": [
  {
   "cell_type": "code",
   "execution_count": null,
   "metadata": {},
   "outputs": [
    {
     "name": "stdout",
     "output_type": "stream",
     "text": [
      "['1', '2 3', '4 5 6']\n"
     ]
    }
   ],
   "source": [
    "def generate_floyds_triangle(n):\n",
    "    \"\"\"\n",
    "    Function to return the first n rows of Floyd's Triangle as a list of strings.\n",
    "    \n",
    "    Parameters:\n",
    "    n (int): The number of rows in the triangle.\n",
    "    \n",
    "    Returns:\n",
    "    list: A list of strings where each string represents a row of Floyd's Triangle.\n",
    "    \"\"\"\n",
    "    # Your code here\n",
    "    lst = []\n",
    "    counter = 0\n",
    "    \n",
    "    for i in range(1,n+1):\n",
    "        row = []  ## initialised list 'row' here to initialize it again and again on each iteration of loop 1\n",
    "        for j in range(i):\n",
    "            counter = counter + 1\n",
    "            row.append(str(counter)) ## Typecasetd counter from int to str bcz join() works for string not for int\n",
    "        lst.append(' '.join(row))  ## This basically adds a space(' ') after each appended row\n",
    "        \n",
    "    return lst\n",
    "\n",
    "print(generate_floyds_triangle(3))\n"
   ]
  },
  {
   "cell_type": "markdown",
   "metadata": {},
   "source": [
    "##### Complexity Analysis\n",
    "\n",
    "##### Time Complexity = O(n^2)\n",
    "##### Space Complexity = O(n^2)"
   ]
  }
 ],
 "metadata": {
  "kernelspec": {
   "display_name": "Python 3",
   "language": "python",
   "name": "python3"
  },
  "language_info": {
   "codemirror_mode": {
    "name": "ipython",
    "version": 3
   },
   "file_extension": ".py",
   "mimetype": "text/x-python",
   "name": "python",
   "nbconvert_exporter": "python",
   "pygments_lexer": "ipython3",
   "version": "3.12.0"
  }
 },
 "nbformat": 4,
 "nbformat_minor": 2
}
