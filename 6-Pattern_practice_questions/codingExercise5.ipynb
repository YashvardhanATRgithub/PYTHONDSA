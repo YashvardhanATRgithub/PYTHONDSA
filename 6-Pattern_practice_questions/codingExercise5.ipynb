{
 "cells": [
  {
   "cell_type": "code",
   "execution_count": 5,
   "metadata": {},
   "outputs": [
    {
     "name": "stdout",
     "output_type": "stream",
     "text": [
      "[]\n"
     ]
    }
   ],
   "source": [
    "def generate_inverted_triangle(n):\n",
    "    \n",
    "    return['*' * i for i in range(n,0,-1)]\n",
    "\n",
    "height_or_base = int(input(\"Enter height/base of the right angled triangle: \"))\n",
    "print(generate_inverted_triangle(height_or_base))"
   ]
  },
  {
   "cell_type": "markdown",
   "metadata": {},
   "source": [
    "#### Compelxity Analysis\n",
    "\n",
    "##### Time complexity: O(n^2)\n",
    "\n",
    "##### Space Complexity: O(n^2)\n",
    "\n",
    "Forming a right angled triangle of height n using '*' is nothing but sum of first n natural numbers.\n",
    "which is n(n+1) / 2. Hence, O(n^2) "
   ]
  }
 ],
 "metadata": {
  "kernelspec": {
   "display_name": "Python 3",
   "language": "python",
   "name": "python3"
  },
  "language_info": {
   "codemirror_mode": {
    "name": "ipython",
    "version": 3
   },
   "file_extension": ".py",
   "mimetype": "text/x-python",
   "name": "python",
   "nbconvert_exporter": "python",
   "pygments_lexer": "ipython3",
   "version": "3.12.0"
  }
 },
 "nbformat": 4,
 "nbformat_minor": 2
}
