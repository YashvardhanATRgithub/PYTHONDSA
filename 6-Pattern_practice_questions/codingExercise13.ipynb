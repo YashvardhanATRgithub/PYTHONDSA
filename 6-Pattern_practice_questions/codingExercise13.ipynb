{
 "cells": [
  {
   "cell_type": "code",
   "execution_count": null,
   "metadata": {},
   "outputs": [
    {
     "name": "stdout",
     "output_type": "stream",
     "text": [
      "['*', '**', '* *', '*  *', '*****']\n"
     ]
    }
   ],
   "source": [
    "## Naive approach\n",
    "\n",
    "def generate_hollow_right_angled_triangle(n):\n",
    "    \"\"\"\n",
    "    Function to return a hollow right-angled triangle of '*' of side n as a list of strings.\n",
    "    \n",
    "    Parameters:\n",
    "    n (int): The height of the triangle.\n",
    "    \n",
    "    Returns:\n",
    "    list: A list of strings where each string represents a row of the triangle.\n",
    "    \"\"\"\n",
    "    # Your code here\n",
    "    \n",
    "    lst = []\n",
    "    for i in range(1,n):\n",
    "        rows = \"\"\n",
    "        stars = \"\"\n",
    "        spaces = \"\"\n",
    "        for j in range(1,i+1):\n",
    "            if j == 1 or j == i:\n",
    "                stars = '*'\n",
    "                rows = rows + stars\n",
    "            else:\n",
    "                spaces = ' '\n",
    "                rows = rows + spaces\n",
    "        lst.append(rows)\n",
    "    lst.append('*' * n) ## for last row\n",
    "    \n",
    "    return lst\n",
    "\n",
    "print(generate_hollow_right_angled_triangle(5))"
   ]
  },
  {
   "cell_type": "code",
   "execution_count": null,
   "metadata": {},
   "outputs": [
    {
     "name": "stdout",
     "output_type": "stream",
     "text": [
      "['*', '**', '* *', '****']\n"
     ]
    }
   ],
   "source": [
    "## More optimized and readable code\n",
    "\n",
    "def generate_hollow_right_angled_triangle(n):\n",
    "\n",
    "    triangle = []\n",
    "    for i in range(1, n+1):\n",
    "\n",
    "        if i == 1: ## first row\n",
    "            triangle.append('*')\n",
    "\n",
    "        elif i == n: ## last row\n",
    "            triangle.append('*' * n)\n",
    "\n",
    "        else: ## rows between first and last\n",
    "            triangle.append('*' + ' ' * (i-2) + '*')\n",
    "\n",
    "    return triangle\n",
    "\n",
    "print(generate_hollow_right_angled_triangle(4))"
   ]
  },
  {
   "cell_type": "markdown",
   "metadata": {},
   "source": [
    "##### Complexity Analysis: \n",
    "\n",
    "##### Time Complexity: O(n^2)\n",
    "\n",
    "##### Space Complexity: O(n^2)"
   ]
  }
 ],
 "metadata": {
  "kernelspec": {
   "display_name": "Python 3",
   "language": "python",
   "name": "python3"
  },
  "language_info": {
   "codemirror_mode": {
    "name": "ipython",
    "version": 3
   },
   "file_extension": ".py",
   "mimetype": "text/x-python",
   "name": "python",
   "nbconvert_exporter": "python",
   "pygments_lexer": "ipython3",
   "version": "3.12.0"
  }
 },
 "nbformat": 4,
 "nbformat_minor": 2
}
