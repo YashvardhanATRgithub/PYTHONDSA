{
 "cells": [
  {
   "cell_type": "code",
   "execution_count": 1,
   "metadata": {},
   "outputs": [
    {
     "name": "stdout",
     "output_type": "stream",
     "text": [
      "12.0\n"
     ]
    }
   ],
   "source": [
    "def calculate_distance(speed, time):\n",
    "    \"\"\"\n",
    "    Function to calculate the distance traveled by a vehicle.\n",
    "    \n",
    "    Parameters:\n",
    "    speed (float): The speed of the vehicle.\n",
    "    time (float): The time the vehicle has traveled.\n",
    "    \n",
    "    Returns:\n",
    "    float: The distance traveled by the vehicle.\n",
    "    \"\"\"\n",
    "    # Your code here\n",
    "    \n",
    "    dist = speed * time\n",
    "    return dist\n",
    "\n",
    "\n",
    "speed = float(input(\"Enter speed: \"))\n",
    "time = float(input(\"Enter time \"))\n",
    "\n",
    "print(calculate_distance(speed,time))"
   ]
  },
  {
   "cell_type": "markdown",
   "metadata": {},
   "source": [
    "##### Complexity Analysis: \n",
    "\n",
    "##### Time Complexity: O(1)\n",
    "\n",
    "##### Space Complexity: O(1)"
   ]
  }
 ],
 "metadata": {
  "kernelspec": {
   "display_name": "Python 3",
   "language": "python",
   "name": "python3"
  },
  "language_info": {
   "codemirror_mode": {
    "name": "ipython",
    "version": 3
   },
   "file_extension": ".py",
   "mimetype": "text/x-python",
   "name": "python",
   "nbconvert_exporter": "python",
   "pygments_lexer": "ipython3",
   "version": "3.12.0"
  }
 },
 "nbformat": 4,
 "nbformat_minor": 2
}
