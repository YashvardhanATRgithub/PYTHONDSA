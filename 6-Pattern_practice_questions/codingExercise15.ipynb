{
 "cells": [
  {
   "cell_type": "code",
   "execution_count": null,
   "metadata": {},
   "outputs": [
    {
     "name": "stdout",
     "output_type": "stream",
     "text": [
      "['  1  ', ' 12 ', '123']\n"
     ]
    }
   ],
   "source": [
    "def generate_number_pyramid(n):\n",
    "    \"\"\"\n",
    "    Function to return a pyramid pattern of numbers of height n as a list of strings.\n",
    "    \n",
    "    Parameters:\n",
    "    n (int): The height of the pyramid.\n",
    "    \n",
    "    Returns:\n",
    "    list: A list of strings where each string represents a row of the pyramid pattern.\n",
    "    \"\"\"\n",
    "    # Your code here\n",
    "    \n",
    "    pyramid = []\n",
    "    for i in range(1, n + 1):\n",
    "        # Generate the numbers for the current row\n",
    "            # For each iteration, join the current generated string with previous string using space (' ')\n",
    "        row_numbers = ' '.join(str(x) for x in range(1, i + 1))\n",
    "        # Center the row with leading spaces\n",
    "        centered_row = row_numbers.center(2 * n - 1) ## centre rows by leading spaces using centre(row_width) method\n",
    "        pyramid.append(centered_row)\n",
    "    return pyramid\n",
    "        "
   ]
  },
  {
   "cell_type": "markdown",
   "metadata": {},
   "source": [
    "## Revise\n"
   ]
  }
 ],
 "metadata": {
  "kernelspec": {
   "display_name": "Python 3",
   "language": "python",
   "name": "python3"
  },
  "language_info": {
   "codemirror_mode": {
    "name": "ipython",
    "version": 3
   },
   "file_extension": ".py",
   "mimetype": "text/x-python",
   "name": "python",
   "nbconvert_exporter": "python",
   "pygments_lexer": "ipython3",
   "version": "3.12.0"
  }
 },
 "nbformat": 4,
 "nbformat_minor": 2
}
