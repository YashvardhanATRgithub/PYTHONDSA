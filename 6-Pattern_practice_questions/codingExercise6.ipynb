{
 "cells": [
  {
   "cell_type": "code",
   "execution_count": 1,
   "metadata": {},
   "outputs": [
    {
     "name": "stdout",
     "output_type": "stream",
     "text": [
      "['  *  ', ' *** ', '*****']\n"
     ]
    }
   ],
   "source": [
    "def generate_pyramid(n):\n",
    "    \"\"\"\n",
    "    Function to return a pyramid pattern of '*' of side n as a list of strings.\n",
    "    \n",
    "    Parameters:\n",
    "    n (int): The number of rows in the pyramid.\n",
    "    \n",
    "    Returns:\n",
    "    list: A list of strings where each string represents a row of the pyramid.\n",
    "    \"\"\"\n",
    "    # Your code here\n",
    "    lst = []\n",
    "    \n",
    "    for i in range(1,n+1):\n",
    "        stars = '*' * (2*i-1)\n",
    "        spaces = ' ' * (n-i)\n",
    "        row = spaces + stars + spaces\n",
    "        lst.append(row)\n",
    "        \n",
    "    return lst\n",
    "\n",
    "print(generate_pyramid(3))"
   ]
  },
  {
   "cell_type": "markdown",
   "metadata": {},
   "source": [
    "#### Compelxity Analysis\n",
    "\n",
    "##### Time complexity: O(n^2)\n",
    "\n",
    "##### Space Complexity: O(n^2)"
   ]
  }
 ],
 "metadata": {
  "kernelspec": {
   "display_name": "Python 3",
   "language": "python",
   "name": "python3"
  },
  "language_info": {
   "codemirror_mode": {
    "name": "ipython",
    "version": 3
   },
   "file_extension": ".py",
   "mimetype": "text/x-python",
   "name": "python",
   "nbconvert_exporter": "python",
   "pygments_lexer": "ipython3",
   "version": "3.12.0"
  }
 },
 "nbformat": 4,
 "nbformat_minor": 2
}
