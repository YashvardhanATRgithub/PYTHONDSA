{
 "cells": [
  {
   "cell_type": "code",
   "execution_count": 2,
   "metadata": {},
   "outputs": [
    {
     "name": "stdout",
     "output_type": "stream",
     "text": [
      "89.6\n"
     ]
    }
   ],
   "source": [
    "def celsius_to_fahrenheit(C):\n",
    "    \"\"\"\n",
    "    Function to convert temperature from Celsius to Fahrenheit.\n",
    "    \n",
    "    Parameters:\n",
    "    C (float): The temperature in Celsius.\n",
    "    \n",
    "    Returns:\n",
    "    float: The temperature in Fahrenheit.\n",
    "    \"\"\"\n",
    "    # Your code here\n",
    "    \n",
    "    F = (9/5 * C) + 32\n",
    "    \n",
    "    return F\n",
    "\n",
    "cel_to_f = float(input(\"Enter the value in celsius: \"))\n",
    "\n",
    "print(celsius_to_fahrenheit(cel_to_f))"
   ]
  },
  {
   "cell_type": "markdown",
   "metadata": {},
   "source": [
    "##### Complexity Analysis: \n",
    "\n",
    "##### Time Complexity: O(1)\n",
    "\n",
    "##### Space Complexity: O(1)"
   ]
  }
 ],
 "metadata": {
  "kernelspec": {
   "display_name": "Python 3",
   "language": "python",
   "name": "python3"
  },
  "language_info": {
   "codemirror_mode": {
    "name": "ipython",
    "version": 3
   },
   "file_extension": ".py",
   "mimetype": "text/x-python",
   "name": "python",
   "nbconvert_exporter": "python",
   "pygments_lexer": "ipython3",
   "version": "3.12.0"
  }
 },
 "nbformat": 4,
 "nbformat_minor": 2
}
