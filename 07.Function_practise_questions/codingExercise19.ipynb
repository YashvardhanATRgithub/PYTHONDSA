{
 "cells": [
  {
   "cell_type": "code",
   "execution_count": 3,
   "metadata": {},
   "outputs": [
    {
     "name": "stdout",
     "output_type": "stream",
     "text": [
      "Number of rounds lift has to take = 3\n"
     ]
    }
   ],
   "source": [
    "def calculate_lift_rounds(n, capacity):\n",
    "    \"\"\"\n",
    "    Function to calculate the number of rounds the lift needs to cover.\n",
    "    \n",
    "    Parameters:\n",
    "    n (int): Total number of people.\n",
    "    capacity (int): Maximum number of people the lift can carry in one round.\n",
    "    \n",
    "    Returns:\n",
    "    int: The number of rounds required to transport all people to the top floor.\n",
    "    \"\"\"\n",
    "    # Your code here\n",
    "    \n",
    "    rounds = -(-n//capacity)  ## using floor division and double negation\n",
    "    \n",
    "    return rounds\n",
    "\n",
    "n = int(input(\"Enter number of people: \"))\n",
    "capacity = int(input(\"Enter the capacity of the lift: \"))\n",
    "\n",
    "print(\"Number of rounds lift has to take = \" + str(calculate_lift_rounds(n,capacity)))"
   ]
  },
  {
   "cell_type": "code",
   "execution_count": 5,
   "metadata": {},
   "outputs": [
    {
     "name": "stdout",
     "output_type": "stream",
     "text": [
      "4\n"
     ]
    }
   ],
   "source": [
    "## Using floor division with arithmetic manipulation:\n",
    "\n",
    "def ceiling_division(a, b):\n",
    "    return (a + b - 1) // b\n",
    "\n",
    "result = ceiling_division(10, 3)\n",
    "print(result)  # Output: 4\n"
   ]
  },
  {
   "cell_type": "code",
   "execution_count": null,
   "metadata": {},
   "outputs": [],
   "source": [
    "## Using the math module:\n",
    "\n",
    "import math\n",
    "\n",
    "def ceiling_division(a, b):\n",
    "    return math.ceil(a / b)\n",
    "\n",
    "result = ceiling_division(10, 3)\n",
    "print(result)  # Output: 4\n"
   ]
  },
  {
   "cell_type": "markdown",
   "metadata": {},
   "source": [
    "##### Complexity Analysis: \n",
    "\n",
    "##### Time Complexity: O(1)\n",
    "\n",
    "##### Space Complexity: O(1)"
   ]
  }
 ],
 "metadata": {
  "kernelspec": {
   "display_name": "Python 3",
   "language": "python",
   "name": "python3"
  },
  "language_info": {
   "codemirror_mode": {
    "name": "ipython",
    "version": 3
   },
   "file_extension": ".py",
   "mimetype": "text/x-python",
   "name": "python",
   "nbconvert_exporter": "python",
   "pygments_lexer": "ipython3",
   "version": "3.12.0"
  }
 },
 "nbformat": 4,
 "nbformat_minor": 2
}
