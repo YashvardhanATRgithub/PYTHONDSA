{
 "cells": [
  {
   "cell_type": "markdown",
   "metadata": {},
   "source": [
    "#### Abstraction\n",
    "Abstraction is the concept of hiding the complex implementation details and showing only the necessary features of an object. This helps in reducing programming complexity and effort."
   ]
  },
  {
   "cell_type": "code",
   "execution_count": null,
   "metadata": {},
   "outputs": [],
   "source": [
    "from abc import ABC,abstractmethod  ## abc = Abstract Base Class module || ABC = a class from abc || \n",
    "\n",
    "class BankApp(ABC):\n",
    "    def database(self):\n",
    "        print(\"Connected to database\")\n",
    "\n",
    "    @abstractmethod \n",
    "    def security(self):    ## Derived classes must implement this method\n",
    "        pass\n",
    "\n",
    "    @abstractmethod\n",
    "    def display(self):     ## Derived classes must implement this method\n",
    "        pass\n",
    "\n",
    "class MobileApp(BankApp):\n",
    "    def mobile_login(self):\n",
    "        print(\"login successsful\")\n",
    "    \n",
    "    def security(self):   ## This method is mandetory to be implemented here\n",
    "        print(\"Mobile Security\")\n",
    "    \n",
    "    def display(self):    ## This method is mandetory to be implemented here\n",
    "        print(\"Mobile display\")\n",
    "\n",
    "class WebApp(BankApp):\n",
    "    def web_login(self):\n",
    "        print(\"Login successful\")\n",
    "    \n",
    "    def security(self):\n",
    "        print(\"Web security\")\n",
    "    \n",
    "    def display(self):\n",
    "        print(\"Web display\")\n",
    "\n"
   ]
  },
  {
   "cell_type": "code",
   "execution_count": 6,
   "metadata": {},
   "outputs": [
    {
     "name": "stdout",
     "output_type": "stream",
     "text": [
      "Mobile Security\n",
      "Connected to database\n"
     ]
    },
    {
     "data": {
      "text/plain": [
       "'if MobileApp() wants to access BankApp database then it must implement all abstract methods of abstract BankApp class\\n                  otherwise it will lead to an error'"
      ]
     },
     "execution_count": 6,
     "metadata": {},
     "output_type": "execute_result"
    }
   ],
   "source": [
    "# intantiating concrete class MobileApp derives from abstract base class BankApp\n",
    "\n",
    "mob = MobileApp()\n",
    "\n",
    "mob.security()\n",
    "mob.database(); '''if MobileApp() wants to access BankApp database then it must implement all abstract methods of abstract BankApp class\n",
    "                  otherwise it will lead to an error'''\n",
    "\n"
   ]
  },
  {
   "cell_type": "code",
   "execution_count": 5,
   "metadata": {},
   "outputs": [
    {
     "ename": "TypeError",
     "evalue": "Can't instantiate abstract class BankApp without an implementation for abstract methods 'display', 'security'",
     "output_type": "error",
     "traceback": [
      "\u001b[0;31m---------------------------------------------------------------------------\u001b[0m",
      "\u001b[0;31mTypeError\u001b[0m                                 Traceback (most recent call last)",
      "Cell \u001b[0;32mIn[5], line 3\u001b[0m\n\u001b[1;32m      1\u001b[0m \u001b[38;5;66;03m# Abstract class can't be intaniated i.e. we can't create objects of it.\u001b[39;00m\n\u001b[0;32m----> 3\u001b[0m obj \u001b[38;5;241m=\u001b[39m \u001b[43mBankApp\u001b[49m\u001b[43m(\u001b[49m\u001b[43m)\u001b[49m\n",
      "\u001b[0;31mTypeError\u001b[0m: Can't instantiate abstract class BankApp without an implementation for abstract methods 'display', 'security'"
     ]
    }
   ],
   "source": [
    "# Abstract class can't be intaniated i.e. we can't create objects of it.\n",
    "\n",
    "obj = BankApp()"
   ]
  },
  {
   "cell_type": "markdown",
   "metadata": {},
   "source": [
    "##### How is it abstraction?\n",
    "\n",
    "It is called abstraction because the abstract class BankApp defines what methods (security, display) subclasses must implement, but not how those methods should work. The abstract class provides only the method signatures, acting as a blueprint or contract. Each subclass must provide its own implementation for these methods. This way, the details of how each subclass implements security are separated from the interface defined by the abstract class, promoting abstraction by focusing on what needs to be done rather than how it is done."
   ]
  }
 ],
 "metadata": {
  "kernelspec": {
   "display_name": "Python 3",
   "language": "python",
   "name": "python3"
  },
  "language_info": {
   "codemirror_mode": {
    "name": "ipython",
    "version": 3
   },
   "file_extension": ".py",
   "mimetype": "text/x-python",
   "name": "python",
   "nbconvert_exporter": "python",
   "pygments_lexer": "ipython3",
   "version": "3.12.0"
  }
 },
 "nbformat": 4,
 "nbformat_minor": 2
}
