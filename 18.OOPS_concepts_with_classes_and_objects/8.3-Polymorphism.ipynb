{
 "cells": [
  {
   "cell_type": "markdown",
   "metadata": {},
   "source": [
    "#### Polymorphism\n",
    "Polymorphism is a core concept in Object-Oriented Programming (OOP) that allows objects of different classes to be treated as objects of a common superclass. It provides a way to perform a single action (method) in different forms (ways). Polymorphism is typically achieved through method overriding and interfaces\n",
    "\n",
    "#### Polymorphism in Simple Words\n",
    "\n",
    "Polymorphism means \"many forms.\"\n",
    "In programming, it’s the magical ability for one thing (like a function or a method) to work in different ways, depending on what it's working with.\n",
    "Everyday Analogy\n",
    "\n",
    "Imagine the word ‘play’:\n",
    "\n",
    "    When you’re with a ball, \"play\" means “kick or throw the ball.”\n",
    "    When you see a piano, \"play\" means “press the piano keys.”\n",
    "    In a movie app, \"play\" means “start the movie.”\n",
    "\n",
    "Same word, but the action changes based on the context!\n",
    "Just like that, in programming: the same method name can do completely different things, depending on the object it’s acting on."
   ]
  },
  {
   "cell_type": "markdown",
   "metadata": {},
   "source": [
    "###  Method Overriding\n",
    "Method overriding allows a child class to provide a specific implementation of a method that is already defined in its parent class."
   ]
  },
  {
   "cell_type": "code",
   "execution_count": 1,
   "metadata": {},
   "outputs": [
    {
     "name": "stdout",
     "output_type": "stream",
     "text": [
      "Woof!\n",
      "Meow!\n",
      "Woof!\n",
      "Meow!\n"
     ]
    }
   ],
   "source": [
    "# Base Class\n",
    "class Animal:\n",
    "    def speak(self):\n",
    "        return \"Sound of the animal\"\n",
    "\n",
    "# Derived Class 1\n",
    "class Dog(Animal):\n",
    "    # Overriding the speak method for Dog\n",
    "    def speak(self):\n",
    "        return \"Woof!\"\n",
    "\n",
    "# Derived Class 2\n",
    "class Cat(Animal):\n",
    "    # Overriding the speak method for Cat\n",
    "    def speak(self):\n",
    "        return \"Meow!\"\n",
    "\n",
    "# Function that demonstrates polymorphism by accepting an Animal object\n",
    "def animal_speak(animal):\n",
    "    print(animal.speak())\n",
    "\n",
    "dog = Dog()\n",
    "cat = Cat()\n",
    "\n",
    "print(dog.speak())        # Output: Woof!\n",
    "print(cat.speak())        # Output: Meow!\n",
    "animal_speak(dog)         # Output: Woof! (demonstrates polymorphism)\n",
    "animal_speak(cat)         # Output: Meow! (demonstrates polymorphism)"
   ]
  },
  {
   "cell_type": "markdown",
   "metadata": {},
   "source": [
    "Explanation:\n",
    "\n",
    "    The parent class Animal has a method speak.\n",
    "    Both Dog and Cat inherit from Animal and override the speak method.\n",
    "    The function animal_speak can take any object of type Animal or its subclasses, and will call the appropriate speak method based on the actual object.\n"
   ]
  },
  {
   "cell_type": "code",
   "execution_count": 2,
   "metadata": {},
   "outputs": [
    {
     "name": "stdout",
     "output_type": "stream",
     "text": [
      "The area is 20\n",
      "The area is 28.259999999999998\n"
     ]
    }
   ],
   "source": [
    "# Base class\n",
    "class Shape:\n",
    "    def area(self):\n",
    "        return \"The area of the figure\"\n",
    "\n",
    "# Derived class 1\n",
    "class Rectangle(Shape):\n",
    "    def __init__(self, width, height):\n",
    "        self.width = width\n",
    "        self.height = height\n",
    "\n",
    "    # Overriding area method for Rectangle\n",
    "    def area(self):\n",
    "        return self.width * self.height\n",
    "\n",
    "# Derived class 2\n",
    "class Circle(Shape):\n",
    "    def __init__(self, radius):\n",
    "        self.radius = radius\n",
    "\n",
    "    # Overriding area method for Circle\n",
    "    def area(self):\n",
    "        return 3.14 * self.radius * self.radius\n",
    "\n",
    "# Function that demonstrates polymorphism\n",
    "def print_area(shape):\n",
    "    print(f\"The area is {shape.area()}\")\n",
    "\n",
    "rectangle = Rectangle(4, 5)\n",
    "circle = Circle(3)\n",
    "\n",
    "print_area(rectangle)     # Output: The area is 20\n",
    "print_area(circle)        # Output: The area is 28.26"
   ]
  },
  {
   "cell_type": "markdown",
   "metadata": {},
   "source": [
    "Explanation:\n",
    "\n",
    "    The base class Shape defines an area method.\n",
    "    Each subclass (Rectangle, Circle) overrides the area method with its own implementation.\n",
    "    print_area uses polymorphism by calling area on any Shape object, automatically invoking the correct implementation.\n"
   ]
  },
  {
   "cell_type": "markdown",
   "metadata": {},
   "source": [
    "#### Polymorphism with Abstract Base Classes\n",
    "Abstract Base Classes (ABCs) are used to define common methods for a group of related objects. They can enforce that derived classes implement particular methods, promoting consistency across different implementations."
   ]
  },
  {
   "cell_type": "code",
   "execution_count": null,
   "metadata": {},
   "outputs": [
    {
     "name": "stdout",
     "output_type": "stream",
     "text": [
      "Car engine started\n",
      "Motorcycle engine started\n"
     ]
    }
   ],
   "source": [
    "from abc import ABC, abstractmethod\n",
    "\n",
    "# Define an abstract base class\n",
    "class Vehicle(ABC):\n",
    "    @abstractmethod  # a decorator used to inforrce abstract method to all subclasses inheriting from this abstract class\n",
    "    def start_engine(self):\n",
    "        pass    # Abstract method, must be implemented by subclasses\n",
    "\n",
    "# Derived class 1\n",
    "class Car(Vehicle):\n",
    "    def start_engine(self):\n",
    "        return \"Car engine started\"\n",
    "\n",
    "# Derived class 2\n",
    "class Motorcycle(Vehicle):\n",
    "    def start_engine(self):\n",
    "        return \"Motorcycle engine started\"\n",
    "\n",
    "# Function demonstrating polymorphism\n",
    "def start_vehicle(vehicle):\n",
    "    print(vehicle.start_engine())\n",
    "\n",
    "car = Car()\n",
    "motorcycle = Motorcycle()\n",
    "\n",
    "start_vehicle(car)            # Output: Car engine started\n",
    "start_vehicle(motorcycle)     # Output: Motorcycle engine started"
   ]
  },
  {
   "cell_type": "markdown",
   "metadata": {},
   "source": [
    "Explanation:\n",
    "\n",
    "    Vehicle is an abstract base class with an abstract method start_engine.\n",
    "    Both Car and Motorcycle must provide their own implementation of start_engine.\n",
    "    The function start_vehicle can start any kind of vehicle.\n"
   ]
  },
  {
   "cell_type": "markdown",
   "metadata": {},
   "source": [
    "#### Conclusion\n",
    "Polymorphism is a powerful feature of OOP that allows for flexibility and integration in code design. It enables a single function to handle objects of different classes, each with its own implementation of a method. By understanding and applying polymorphism, you can create more extensible and maintainable object-oriented programs."
   ]
  }
 ],
 "metadata": {
  "kernelspec": {
   "display_name": "Python 3",
   "language": "python",
   "name": "python3"
  },
  "language_info": {
   "codemirror_mode": {
    "name": "ipython",
    "version": 3
   },
   "file_extension": ".py",
   "mimetype": "text/x-python",
   "name": "python",
   "nbconvert_exporter": "python",
   "pygments_lexer": "ipython3",
   "version": "3.12.0"
  }
 },
 "nbformat": 4,
 "nbformat_minor": 2
}
