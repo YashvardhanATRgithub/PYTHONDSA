{
 "cells": [
  {
   "cell_type": "markdown",
   "metadata": {},
   "source": [
    "#### Inheritance In Python\n",
    "Inheritance is a fundamental concept in Object-Oriented Programming (OOP) that allows a class to inherit attributes and methods from another class. This lesson covers single inheritance and multiple inheritance, demonstrating how to create and use them in Python."
   ]
  },
  {
   "cell_type": "code",
   "execution_count": 3,
   "metadata": {},
   "outputs": [],
   "source": [
    "## Inheritance (Single Inheritance)\n",
    "## Parent class\n",
    "class Car:\n",
    "    # This is the constructor. It's called when you create a new Car object.\n",
    "    def __init__(self,windows,doors,enginetype):\n",
    "        # 'self' refers to the instance of the class being created.\n",
    "        # These lines assign the passed values to the instance's attributes.\n",
    "        self.windows=windows\n",
    "        self.doors=doors\n",
    "        self.enginetype=enginetype\n",
    "    \n",
    "    # This is a method (a function inside a class) that belongs to Car objects.\n",
    "    def drive(self):\n",
    "        # It uses an f-string to print a message including the car's enginetype.\n",
    "        print(f\"The person will drive the {self.enginetype} car \")"
   ]
  },
  {
   "cell_type": "code",
   "execution_count": 4,
   "metadata": {},
   "outputs": [
    {
     "name": "stdout",
     "output_type": "stream",
     "text": [
      "The person will drive the petrol car \n"
     ]
    }
   ],
   "source": [
    "# Create an instance (object) of the Car class.\n",
    "\n",
    "# We're saying car1 is a Car with 4 windows, 5 doors, and a \"petrol\" engine.\n",
    "car1=Car(4,5,\"petrol\")\n",
    "\n",
    "# Call the drive method on the car1 object.\n",
    "car1.drive()"
   ]
  },
  {
   "cell_type": "code",
   "execution_count": 5,
   "metadata": {},
   "outputs": [],
   "source": [
    "\n",
    "# Child class (Tesla) inheriting from Parent class (Car)\n",
    "class Tesla(Car): # The (Car) part means Tesla inherits from Car\n",
    "    \n",
    "    # Constructor for the Tesla class\n",
    "    def __init__(self,windows,doors,enginetype,is_selfdriving):\n",
    "        # 'super()' calls the __init__ method of the parent class (Car).\n",
    "        # This initializes the 'windows', 'doors', and 'enginetype' attributes\n",
    "        # using the Car class's logic.\n",
    "        super().__init__(windows,doors,enginetype)\n",
    "        # This is an attribute specific to the Tesla class.\n",
    "        self.is_selfdriving=is_selfdriving\n",
    "\n",
    "    # This is a method specific to the Tesla class.\n",
    "    def selfdriving(self):\n",
    "        print(f\"Tesla supports self driving : {self.is_selfdriving}\")"
   ]
  },
  {
   "cell_type": "code",
   "execution_count": 6,
   "metadata": {},
   "outputs": [
    {
     "name": "stdout",
     "output_type": "stream",
     "text": [
      "Tesla supports self driving : True\n"
     ]
    }
   ],
   "source": [
    "# Create an instance of the Tesla class.\n",
    "\n",
    "# tesla1 is a Tesla with 4 windows, 5 doors, an \"electric\" engine, and is self-driving.\n",
    "tesla1=Tesla(4,5,\"electric\",True)\n",
    "\n",
    "# Call the selfdriving method on the tesla1 object.\n",
    "tesla1.selfdriving()\n"
   ]
  },
  {
   "cell_type": "code",
   "execution_count": 7,
   "metadata": {},
   "outputs": [
    {
     "name": "stdout",
     "output_type": "stream",
     "text": [
      "The person will drive the electric car \n"
     ]
    }
   ],
   "source": [
    "# Call the drive method on the tesla1 object.\n",
    "\n",
    "# Notice that Tesla doesn't have its own 'drive' method defined.\n",
    "# It uses the 'drive' method it inherited from the Car class!\n",
    "tesla1.drive()"
   ]
  },
  {
   "cell_type": "code",
   "execution_count": 10,
   "metadata": {},
   "outputs": [
    {
     "name": "stdout",
     "output_type": "stream",
     "text": [
      "Buddy say woof\n",
      "Owner:Yash\n"
     ]
    }
   ],
   "source": [
    "### Multiple Inheritance\n",
    "## When a class inherits from more than one base class.\n",
    "\n",
    "## Base class 1\n",
    "class Animal:\n",
    "    # Constructor for Animal\n",
    "    def __init__(self,name):\n",
    "        # Attribute for the animal's name\n",
    "        self.name=name\n",
    "\n",
    "    # A general method for speaking.\n",
    "    # It's intended to be overridden by subclasses.\n",
    "    def speak(self):\n",
    "        print(\"Subclass must implement this method\")\n",
    "\n",
    "## Base class 2\n",
    "class Pet:\n",
    "    # Constructor for Pet\n",
    "    def __init__(self, owner):\n",
    "        # Attribute for the pet's owner\n",
    "        self.owner = owner\n",
    "\n",
    "\n",
    "## Derived class inheriting from Animal and Pet\n",
    "# Dog inherits from BOTH Animal and Pet\n",
    "class Dog(Animal,Pet):\n",
    "    # Constructor for Dog\n",
    "    def __init__(self,name,owner):\n",
    "        # Explicitly call the constructor of the Animal class\n",
    "        # to initialize the 'name' attribute.\n",
    "        Animal.__init__(self,name)\n",
    "        # Explicitly call the constructor of the Pet class\n",
    "        # to initialize the 'owner' attribute.\n",
    "        Pet.__init__(self,owner)\n",
    "\n",
    "    # Override the 'speak' method from the Animal class.\n",
    "    # This provides a specific implementation for how a Dog speaks.\n",
    "    def speak(self):\n",
    "        return f\"{self.name} say woof\"\n",
    "    \n",
    "\n",
    "## Create an object of the Dog class\n",
    "# dog is a Dog named \"Buddy\" owned by \"Krish\".\n",
    "dog=Dog(\"Buddy\",\"Yash\")\n",
    "# Call the Dog's specific 'speak' method.\n",
    "print(dog.speak())\n",
    "# Access the 'owner' attribute inherited from the Pet class.\n",
    "print(f\"Owner:{dog.owner}\")\n",
    "# You could also access dog.name, which was inherited from Animal.\n"
   ]
  },
  {
   "cell_type": "markdown",
   "metadata": {},
   "source": [
    "#### Conclusion\n",
    "Inheritance is a powerful feature in OOP that allows for code reuse and the creation of a more logical class structure. Single inheritance involves one base class, while multiple inheritance involves more than one base class. Understanding how to implement and use inheritance in Python will enable you to design more efficient and maintainable object-oriented programs."
   ]
  }
 ],
 "metadata": {
  "kernelspec": {
   "display_name": "Python 3",
   "language": "python",
   "name": "python3"
  },
  "language_info": {
   "codemirror_mode": {
    "name": "ipython",
    "version": 3
   },
   "file_extension": ".py",
   "mimetype": "text/x-python",
   "name": "python",
   "nbconvert_exporter": "python",
   "pygments_lexer": "ipython3",
   "version": "3.12.0"
  }
 },
 "nbformat": 4,
 "nbformat_minor": 2
}
