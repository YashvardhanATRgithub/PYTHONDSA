{
 "cells": [
  {
   "cell_type": "markdown",
   "metadata": {},
   "source": [
    "Code Bubble Sort\n",
    "\n",
    "Bubble Sort Algorithm\n",
    "\n",
    "You are given a list of integers. Write a Python function to sort the list in ascending order using the Bubble Sort algorithm. Bubble Sort repeatedly steps through the list, compares adjacent elements, and swaps them if they are in the wrong order. The process is repeated until the list is sorted.\n",
    "\n",
    "Parameters:\n",
    "\n",
    "    lst (List of integers): The list to be sorted.\n",
    "\n",
    "Returns:\n",
    "\n",
    "    A list of integers sorted in ascending order.\n",
    "\n",
    "Example:\n",
    "\n",
    "    Input: lst = [64, 34, 25, 12, 22, 11, 90]\n",
    "    Output: [11, 12, 22, 25, 34, 64, 90]\n",
    "\n",
    "    Input: lst = [5, 1, 4, 2, 8]\n",
    "    Output: [1, 2, 4, 5, 8]"
   ]
  },
  {
   "cell_type": "code",
   "execution_count": 1,
   "metadata": {},
   "outputs": [
    {
     "ename": "IndexError",
     "evalue": "list index out of range",
     "output_type": "error",
     "traceback": [
      "\u001b[0;31m---------------------------------------------------------------------------\u001b[0m",
      "\u001b[0;31mIndexError\u001b[0m                                Traceback (most recent call last)",
      "Cell \u001b[0;32mIn[1], line 23\u001b[0m\n\u001b[1;32m     20\u001b[0m     \u001b[38;5;28;01mreturn\u001b[39;00m lst\n\u001b[1;32m     22\u001b[0m lst \u001b[38;5;241m=\u001b[39m [\u001b[38;5;241m64\u001b[39m, \u001b[38;5;241m34\u001b[39m, \u001b[38;5;241m25\u001b[39m, \u001b[38;5;241m12\u001b[39m, \u001b[38;5;241m22\u001b[39m, \u001b[38;5;241m11\u001b[39m, \u001b[38;5;241m90\u001b[39m]\n\u001b[0;32m---> 23\u001b[0m \u001b[38;5;28mprint\u001b[39m(\u001b[43mbubble_sort\u001b[49m\u001b[43m(\u001b[49m\u001b[43mlst\u001b[49m\u001b[43m)\u001b[49m)\n",
      "Cell \u001b[0;32mIn[1], line 10\u001b[0m, in \u001b[0;36mbubble_sort\u001b[0;34m(lst)\u001b[0m\n\u001b[1;32m      8\u001b[0m j \u001b[38;5;241m=\u001b[39m \u001b[38;5;241m1\u001b[39m\n\u001b[1;32m      9\u001b[0m \u001b[38;5;28;01mfor\u001b[39;00m i \u001b[38;5;129;01min\u001b[39;00m \u001b[38;5;28mrange\u001b[39m(size):\n\u001b[0;32m---> 10\u001b[0m     \u001b[38;5;28;01mif\u001b[39;00m lst[i] \u001b[38;5;241m>\u001b[39m \u001b[43mlst\u001b[49m\u001b[43m[\u001b[49m\u001b[43mj\u001b[49m\u001b[43m]\u001b[49m:\n\u001b[1;32m     11\u001b[0m         lst[i], lst[j] \u001b[38;5;241m=\u001b[39m lst[j], lst[i]\n\u001b[1;32m     12\u001b[0m         i \u001b[38;5;241m+\u001b[39m\u001b[38;5;241m=\u001b[39m \u001b[38;5;241m1\u001b[39m\n",
      "\u001b[0;31mIndexError\u001b[0m: list index out of range"
     ]
    }
   ],
   "source": [
    "def bubble_sort(lst):\n",
    "    # Your code goes here\n",
    "    \n",
    "    k = 0\n",
    "    size = len(lst)\n",
    "    \n",
    "    while k < size:\n",
    "        j = 1\n",
    "        for i in range(size):\n",
    "            if lst[i] > lst[j]:\n",
    "                lst[i], lst[j] = lst[j], lst[i]\n",
    "                i += 1\n",
    "                j += 1\n",
    "            else:\n",
    "                i += 1\n",
    "                j += 1\n",
    "        size = size-1\n",
    "        k += 1\n",
    "        \n",
    "    return lst\n",
    "\n",
    "lst = [64, 34, 25, 12, 22, 11, 90]\n",
    "print(bubble_sort(lst))"
   ]
  },
  {
   "cell_type": "code",
   "execution_count": null,
   "metadata": {},
   "outputs": [],
   "source": []
  }
 ],
 "metadata": {
  "kernelspec": {
   "display_name": "Python 3",
   "language": "python",
   "name": "python3"
  },
  "language_info": {
   "codemirror_mode": {
    "name": "ipython",
    "version": 3
   },
   "file_extension": ".py",
   "mimetype": "text/x-python",
   "name": "python",
   "nbconvert_exporter": "python",
   "pygments_lexer": "ipython3",
   "version": "3.12.0"
  }
 },
 "nbformat": 4,
 "nbformat_minor": 2
}
