{
 "cells": [
  {
   "cell_type": "markdown",
   "metadata": {},
   "source": [
    "Selection Sort\n",
    "\n",
    "Selection Sort Algorithm\n",
    "\n",
    "You are given a list of integers. Write a Python function to sort the list in ascending order using the Selection Sort algorithm. Selection Sort works by repeatedly finding the minimum element from the unsorted part of the list and swapping it with the first element of the unsorted part.\n",
    "\n",
    "Parameters:\n",
    "\n",
    "    lst (List of integers): The list to be sorted.\n",
    "\n",
    "Returns:\n",
    "\n",
    "    A list of integers sorted in ascending order.\n",
    "\n",
    "Example:\n",
    "\n",
    "    Input: lst = [64, 25, 12, 22, 11]\n",
    "    Output: [11, 12, 22, 25, 64]\n",
    "\n",
    "    Input: lst = [29, 10, 14, 37, 13]\n",
    "    Output: [10, 13, 14, 29, 37]"
   ]
  },
  {
   "cell_type": "code",
   "execution_count": 6,
   "metadata": {},
   "outputs": [
    {
     "name": "stdout",
     "output_type": "stream",
     "text": [
      "[10, 13, 14, 29, 37]\n"
     ]
    }
   ],
   "source": [
    "def selection_sort(lst):\n",
    "    # Your code goes here\n",
    "\n",
    "    n = len(lst)\n",
    "\n",
    "    for i in range(n):\n",
    "        min_index = i ## minimum index after each pass\n",
    "        for j in range(i+1, n): ## skipping minimum element index after each pass so i+1\n",
    "            if lst[j] < lst[min_index]:\n",
    "                min_index = j  ## updating min_index if jth index has lower element than min_index value\n",
    "        lst[i], lst[min_index] = lst[min_index], lst[i] ## Swapping the min_index element with right most index element\n",
    "    return lst\n",
    "\n",
    "\n",
    "lst = [29, 10, 14, 37, 13]\n",
    "print(selection_sort(lst))    "
   ]
  },
  {
   "cell_type": "markdown",
   "metadata": {},
   "source": [
    "1. Total passes = n-1\n",
    "\n",
    "2. Inplace algorithm\n",
    "\n",
    "3. Unstable (duplicate elements changes their relative positions. e.g 4(index=0),4(index=1),2(index=2) --> selection sort swap ==> 2(index=2), 4(index=1), 4(index=0) )\n",
    "\n",
    "4. Total comparison: n(n-1) / 2\n",
    "\n",
    "5. Total swaps = n-1 (every case)\n",
    "\n",
    "6. For minimum swaps in worst case, apply selection sort\n",
    "\n",
    "### Complexity Analysis\n",
    "\n",
    "- **Time Complexity:** $O(\\ n^2)$ ( precisely T.C = no. of swaps + no. of comparisons)\n",
    "- **Space Complexity:** $O(\\ 1)$\n",
    "\n"
   ]
  }
 ],
 "metadata": {
  "kernelspec": {
   "display_name": "Python 3",
   "language": "python",
   "name": "python3"
  },
  "language_info": {
   "codemirror_mode": {
    "name": "ipython",
    "version": 3
   },
   "file_extension": ".py",
   "mimetype": "text/x-python",
   "name": "python",
   "nbconvert_exporter": "python",
   "pygments_lexer": "ipython3",
   "version": "3.12.0"
  }
 },
 "nbformat": 4,
 "nbformat_minor": 2
}
