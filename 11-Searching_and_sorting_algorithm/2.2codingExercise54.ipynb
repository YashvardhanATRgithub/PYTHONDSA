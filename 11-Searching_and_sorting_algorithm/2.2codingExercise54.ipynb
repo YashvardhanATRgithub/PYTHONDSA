{
 "cells": [
  {
   "cell_type": "markdown",
   "metadata": {},
   "source": [
    "Linear Search Algorithm\n",
    "\n",
    "    Problem Description:\n",
    "\n",
    "Title: Linear Search in a List\n",
    "\n",
    "Description: Implement a function linear_search that performs a linear search on a list to find a given value. The function should return the index of the first occurrence of the value in the list, or -1 if the value is not found.\n",
    "\n",
    "Parameters:\n",
    "\n",
    "    arr: A list of elements (can be empty)\n",
    "\n",
    "    target: The value to search for in the list\n",
    "\n",
    "Return:\n",
    "\n",
    "    The index of the first occurrence of the target value (0-based), or -1 if not found\n",
    "\n",
    "Examples:\n",
    "\n",
    "    linear_search([3, 7, 2, 5], 2) should return 2\n",
    "\n",
    "    linear_search([1, 1, 2, 1], 1) should return 0\n",
    "\n",
    "    linear_search([], 5) should return -1\n",
    "\n",
    "    linear_search([4, 2, 8], 6) should return -1"
   ]
  },
  {
   "cell_type": "code",
   "execution_count": null,
   "metadata": {},
   "outputs": [],
   "source": [
    "def linear_search(arr, target):\n",
    "    # TODO: Implement this function\n",
    "    \n",
    "    size = len(arr)\n",
    "    \n",
    "    for index in range(0, size):\n",
    "        if arr[index] == target:\n",
    "            return index\n",
    "    \n",
    "    return -1"
   ]
  },
  {
   "cell_type": "markdown",
   "metadata": {},
   "source": [
    "### Complexity Analysis\n",
    "\n",
    "- **Time Complexity:** $O(\\ n)$  \n",
    "- **Space Complexity:** $O(\\ 1)$"
   ]
  }
 ],
 "metadata": {
  "kernelspec": {
   "display_name": "Python 3",
   "language": "python",
   "name": "python3"
  },
  "language_info": {
   "name": "python",
   "version": "3.12.0"
  }
 },
 "nbformat": 4,
 "nbformat_minor": 2
}
