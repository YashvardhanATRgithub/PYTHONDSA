{
 "cells": [
  {
   "cell_type": "code",
   "execution_count": 17,
   "metadata": {},
   "outputs": [
    {
     "name": "stdout",
     "output_type": "stream",
     "text": [
      "['  *  ', ' *** ', '*****', ' *** ', '  *  ']\n"
     ]
    }
   ],
   "source": [
    "def generate_diamond(n):\n",
    "    \"\"\"\n",
    "    Function to return a diamond pattern of '*' of side n as a list of strings.\n",
    "    \n",
    "    Parameters:\n",
    "    n (int): The number of rows for the upper part of the diamond.\n",
    "    \n",
    "    Returns:\n",
    "    list: A list of strings where each string represents a row of the diamond.\n",
    "    \"\"\"\n",
    "    # Your code here\n",
    "    lst = []\n",
    "    \n",
    "    for i in range(1,n+1):\n",
    "        stars = ('*' * (2*i - 1))\n",
    "        spaces = (' ' * (n - i))\n",
    "        rows = spaces + stars + spaces\n",
    "        lst.append(rows)\n",
    "\n",
    "    for i in range(n-1,0,-1):\n",
    "        stars = ('*' * (2*i - 1))\n",
    "        spaces = (' ' * (n-i))\n",
    "        rows = spaces + stars + spaces\n",
    "        lst.append(rows)\n",
    "        \n",
    "    return lst\n",
    "\n",
    "print(generate_diamond(3))"
   ]
  },
  {
   "cell_type": "markdown",
   "metadata": {},
   "source": [
    "##### Complexity Analysis:\n",
    "\n",
    "##### Time Complexity: O(n^2)\n",
    "\n",
    "##### Space Complexity: O(n^2)"
   ]
  }
 ],
 "metadata": {
  "kernelspec": {
   "display_name": "Python 3",
   "language": "python",
   "name": "python3"
  },
  "language_info": {
   "codemirror_mode": {
    "name": "ipython",
    "version": 3
   },
   "file_extension": ".py",
   "mimetype": "text/x-python",
   "name": "python",
   "nbconvert_exporter": "python",
   "pygments_lexer": "ipython3",
   "version": "3.12.0"
  }
 },
 "nbformat": 4,
 "nbformat_minor": 2
}
