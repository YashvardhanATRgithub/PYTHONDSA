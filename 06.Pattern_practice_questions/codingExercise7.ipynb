{
 "cells": [
  {
   "cell_type": "code",
   "execution_count": null,
   "metadata": {},
   "outputs": [
    {
     "name": "stdout",
     "output_type": "stream",
     "text": [
      "['*****', ' *** ', '  *  ']\n"
     ]
    }
   ],
   "source": [
    "## starting from n to 1\n",
    "\n",
    "def generate_inverted_pyramid(n):\n",
    "    \"\"\"\n",
    "    Function to return an inverted pyramid pattern of '*' of side n as a list of strings.\n",
    "    \n",
    "    Parameters:\n",
    "    n (int): The number of rows in the inverted pyramid.\n",
    "    \n",
    "    Returns:\n",
    "    list: A list of strings where each string represents a row of the inverted pyramid.\n",
    "    \"\"\"\n",
    "    # Your code here\n",
    "    inverted_pyramid = []\n",
    "    for i in range(n,0,-1):\n",
    "        stars = '*' * (2*i - 1)\n",
    "        spaces = ' ' * (n-i)\n",
    "        rows = spaces + stars + spaces\n",
    "        inverted_pyramid.append(rows)\n",
    "    \n",
    "    return inverted_pyramid\n",
    "\n",
    "print(generate_inverted_pyramid(3))"
   ]
  },
  {
   "cell_type": "code",
   "execution_count": null,
   "metadata": {},
   "outputs": [
    {
     "name": "stdout",
     "output_type": "stream",
     "text": [
      "['*****', ' *** ', '  *  ']\n"
     ]
    }
   ],
   "source": [
    "## starting from 0 to n-1\n",
    "\n",
    "def inverted_pyramid_pattern(n):\n",
    "    pattern = []\n",
    "    for i in range(n):\n",
    "        # Calculate the number of stars and spaces for the current row\n",
    "        stars = '*' * (2 * (n - i) - 1)\n",
    "        spaces = ' ' * i\n",
    "        # Center the stars by adding spaces on both sides\n",
    "        pattern.append(spaces + stars + spaces)\n",
    "    return pattern\n",
    "\n",
    "print(inverted_pyramid_pattern(3))"
   ]
  },
  {
   "cell_type": "markdown",
   "metadata": {},
   "source": [
    "#### Compelxity Analysis\n",
    "\n",
    "##### Time complexity: O(n^2)\n",
    "\n",
    "##### Space Complexity: O(n^2)"
   ]
  }
 ],
 "metadata": {
  "kernelspec": {
   "display_name": "Python 3",
   "language": "python",
   "name": "python3"
  },
  "language_info": {
   "codemirror_mode": {
    "name": "ipython",
    "version": 3
   },
   "file_extension": ".py",
   "mimetype": "text/x-python",
   "name": "python",
   "nbconvert_exporter": "python",
   "pygments_lexer": "ipython3",
   "version": "3.12.0"
  }
 },
 "nbformat": 4,
 "nbformat_minor": 2
}
