{
 "cells": [
  {
   "cell_type": "code",
   "execution_count": null,
   "metadata": {},
   "outputs": [],
   "source": [
    "def generate_sandglass(n):\n",
    "    \"\"\"\n",
    "    Function to return a sandglass pattern of '*' of side n as a list of strings.\n",
    "    \n",
    "    Parameters:\n",
    "    n (int): The height of the sandglass.\n",
    "    \n",
    "    Returns:\n",
    "    list: A list of strings where each string represents a row of the sandglass pattern.\n",
    "    \"\"\"\n",
    "    # Your code here\n",
    "    lst = []\n",
    "    for i in range(n, 0 , -1):\n",
    "        stars = '*' * (2*i - 1)\n",
    "        spaces = ' ' * (n-i)\n",
    "        lst.append(spaces + stars + spaces)\n",
    "    \n",
    "    for i in range(2, n+1):\n",
    "        stars = '*' * (2*i - 1)\n",
    "        spaces = ' ' * (n-i)\n",
    "        lst.append(spaces + stars + spaces)\n",
    "    \n",
    "    return lst"
   ]
  },
  {
   "cell_type": "markdown",
   "metadata": {},
   "source": [
    "##### Complexity Analysis: \n",
    "\n",
    "##### Time Complexity: O(n^2)\n",
    "\n",
    "##### Space Complexity: O(n^2)"
   ]
  }
 ],
 "metadata": {
  "kernelspec": {
   "display_name": "Python 3",
   "language": "python",
   "name": "python3"
  },
  "language_info": {
   "name": "python",
   "version": "3.12.0"
  }
 },
 "nbformat": 4,
 "nbformat_minor": 2
}
