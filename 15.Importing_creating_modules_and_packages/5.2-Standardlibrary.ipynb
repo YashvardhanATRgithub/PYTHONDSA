{
 "cells": [
  {
   "cell_type": "markdown",
   "metadata": {},
   "source": [
    "##### Standard Library Overview\n",
    "Python's Standard Library is a vast collection of modules and packages that come bundled with Python, providing a wide range of functionalities out of the box. Here's an overview of some of the most commonly used modules and packages in the Python Standard Library."
   ]
  },
  {
   "cell_type": "code",
   "execution_count": 13,
   "metadata": {},
   "outputs": [
    {
     "name": "stdout",
     "output_type": "stream",
     "text": [
      "array('i', [1, 2, 3, 4])\n"
     ]
    }
   ],
   "source": [
    "import array\n",
    "arr=array.array('i',[1,2,3,4])\n",
    "print(arr)"
   ]
  },
  {
   "cell_type": "code",
   "execution_count": 14,
   "metadata": {},
   "outputs": [
    {
     "name": "stdout",
     "output_type": "stream",
     "text": [
      "4.0\n",
      "3.141592653589793\n"
     ]
    }
   ],
   "source": [
    "import math\n",
    "print(math.sqrt(16))\n",
    "print(math.pi)"
   ]
  },
  {
   "cell_type": "code",
   "execution_count": 15,
   "metadata": {},
   "outputs": [
    {
     "name": "stdout",
     "output_type": "stream",
     "text": [
      "3\n",
      "apple\n"
     ]
    }
   ],
   "source": [
    "## random \n",
    "\n",
    "import random\n",
    "print(random.randint(1,10))\n",
    "print(random.choice(['apple','banana','cherry']))"
   ]
  },
  {
   "cell_type": "code",
   "execution_count": 16,
   "metadata": {},
   "outputs": [
    {
     "name": "stdout",
     "output_type": "stream",
     "text": [
      "/Users/yashvardhan./Desktop/MyPrep/PYTHONDSA/15.Importing_creating_modules_and_packages\n"
     ]
    }
   ],
   "source": [
    "### File And Directory Access\n",
    "\n",
    "import os\n",
    "print(os.getcwd())"
   ]
  },
  {
   "cell_type": "code",
   "execution_count": 9,
   "metadata": {},
   "outputs": [],
   "source": [
    "os.mkdir('test_dir')"
   ]
  },
  {
   "cell_type": "code",
   "execution_count": null,
   "metadata": {},
   "outputs": [
    {
     "data": {
      "text/plain": [
       "'destination.txt'"
      ]
     },
     "execution_count": 11,
     "metadata": {},
     "output_type": "execute_result"
    }
   ],
   "source": [
    "## High level operations on files and collection of files\n",
    "import shutil\n",
    "shutil.copyfile('source.txt','destination.txt') # this copies texts of source.txt if it exists else it first create\n",
    "                                                # creates destination.txt and then copies the content of source.txt"
   ]
  },
  {
   "cell_type": "code",
   "execution_count": 12,
   "metadata": {},
   "outputs": [
    {
     "name": "stdout",
     "output_type": "stream",
     "text": [
      "{\"name\": \"yashvardhan\", \"age\": 25}\n",
      "<class 'str'>\n",
      "{'name': 'yashvardhan', 'age': 25}\n",
      "<class 'dict'>\n"
     ]
    }
   ],
   "source": [
    "# -----------------------------------------\n",
    "# 🔄 Data Serialization and Deserialization using JSON in Python\n",
    "# -----------------------------------------\n",
    "\n",
    "# Import the built-in json module, which allows conversion between Python objects and JSON strings\n",
    "import json\n",
    "\n",
    "# Step 1: Create a Python dictionary (this is the original data)\n",
    "data = {\n",
    "    'name': 'yashvardhan',\n",
    "    'age': 25\n",
    "}\n",
    "\n",
    "# Step 2: Serialize the Python dictionary to a JSON-formatted string\n",
    "# json.dumps() takes a Python object and returns a JSON string representation of it\n",
    "json_str = json.dumps(data)\n",
    "\n",
    "# Print the JSON string (output is in JSON format, which is a string)\n",
    "print(json_str)  # Output: {\"name\": \"Krish\", \"age\": 25}\n",
    "\n",
    "# Print the type of json_str to confirm it's a string now\n",
    "print(type(json_str))  # Output: <class 'str'>\n",
    "\n",
    "# Step 3: Deserialize the JSON string back into a Python dictionary\n",
    "# json.loads() parses a JSON string and returns the equivalent Python object (usually dict)\n",
    "parsed_data = json.loads(json_str)\n",
    "\n",
    "# Print the parsed data to verify it has been converted back to a dictionary\n",
    "print(parsed_data)  # Output: {'name': 'Krish', 'age': 25}\n",
    "\n",
    "# Print the type of parsed_data to confirm it's now a dictionary again\n",
    "print(type(parsed_data))  # Output: <class 'dict'>\n"
   ]
  },
  {
   "cell_type": "code",
   "execution_count": 17,
   "metadata": {},
   "outputs": [
    {
     "name": "stdout",
     "output_type": "stream",
     "text": [
      "['name', 'age']\n",
      "['Krish', '32']\n"
     ]
    }
   ],
   "source": [
    "# -----------------------------------------\n",
    "# 📄 Working with CSV Files in Python\n",
    "# -----------------------------------------\n",
    "\n",
    "# Import the built-in csv module which provides functionality for reading and writing CSV files\n",
    "import csv\n",
    "\n",
    "# -------------------------------------------------------\n",
    "# ✏️ STEP 1: Writing to a CSV File\n",
    "# -------------------------------------------------------\n",
    "\n",
    "# Open (or create) a file named 'example.csv' in write mode ('w')\n",
    "# 'newline=\"\"' is used to prevent blank lines on Windows systems\n",
    "with open('example.csv', mode='w', newline='') as file:\n",
    "    # Create a CSV writer object that can write rows to the file\n",
    "    writer = csv.writer(file)\n",
    "    \n",
    "    # Write a header row to the CSV file\n",
    "    writer.writerow(['name', 'age'])\n",
    "    \n",
    "    # Write a data row under the header\n",
    "    writer.writerow(['Krish', 32])\n",
    "\n",
    "# At this point, 'example.csv' will contain:\n",
    "# name,age\n",
    "# Krish,32\n",
    "\n",
    "# -------------------------------------------------------\n",
    "# 📖 STEP 2: Reading from the CSV File\n",
    "# -------------------------------------------------------\n",
    "\n",
    "# Open the same file, this time in read mode ('r')\n",
    "with open('example.csv', mode='r') as file:\n",
    "    # Create a CSV reader object to read rows from the file\n",
    "    reader = csv.reader(file)\n",
    "    \n",
    "    # Iterate over each row in the CSV file and print it\n",
    "    for row in reader:\n",
    "        print(row)\n",
    "\n",
    "# Output will be:\n",
    "# ['name', 'age']\n",
    "# ['Krish', '32']\n"
   ]
  },
  {
   "cell_type": "code",
   "execution_count": null,
   "metadata": {},
   "outputs": [
    {
     "name": "stdout",
     "output_type": "stream",
     "text": [
      "2024-06-11 11:37:28.084474\n",
      "2024-06-10 11:37:28.084474\n"
     ]
    }
   ],
   "source": [
    "# -------------------------------------------------\n",
    "# ⏰ Working with Dates and Times in Python\n",
    "# -------------------------------------------------\n",
    "\n",
    "# Import the necessary classes from the datetime module\n",
    "from datetime import datetime, timedelta\n",
    "\n",
    "# Step 1: Get the current date and time\n",
    "# datetime.now() returns the current local date and time as a datetime object\n",
    "now = datetime.now()\n",
    "\n",
    "# Print the current date and time\n",
    "print(\"Current date and time:\", now)\n",
    "\n",
    "# Step 2: Calculate yesterday's date and time\n",
    "# timedelta(days=1) creates a time difference of one day\n",
    "# Subtracting it from 'now' gives the datetime for the previous day\n",
    "yesterday = now - timedelta(days=1)\n",
    "\n",
    "# Print the date and time for yesterday\n",
    "print(\"Yesterday's date and time:\", yesterday)\n"
   ]
  },
  {
   "attachments": {
    "image.png": {
     "image/png": "[encoded data removed]"
    }
   },
   "cell_type": "markdown",
   "metadata": {},
   "source": [
    "![image.png](attachment:image.png)"
   ]
  },
  {
   "cell_type": "code",
   "execution_count": 18,
   "metadata": {},
   "outputs": [
    {
     "name": "stdout",
     "output_type": "stream",
     "text": [
      "Start time (timestamp): 1748686137.172371\n",
      "End time (timestamp): 1748686139.17644\n",
      "Elapsed time (in seconds): 2.0040690898895264\n"
     ]
    }
   ],
   "source": [
    "# ----------------------------------------------------\n",
    "# 🕒 Using the time module for timestamps and delays\n",
    "# ----------------------------------------------------\n",
    "\n",
    "# Import the time module, which provides time-related functions\n",
    "import time\n",
    "\n",
    "# Step 1: Print the current time as a timestamp\n",
    "# time.time() returns the current time in seconds since the UNIX epoch (Jan 1, 1970)\n",
    "start_time = time.time()\n",
    "print(\"Start time (timestamp):\", start_time)\n",
    "\n",
    "# Step 2: Pause the program for 2 seconds\n",
    "# time.sleep(seconds) suspends execution for the given number of seconds\n",
    "time.sleep(2)\n",
    "\n",
    "# Step 3: Print the time again after the pause\n",
    "end_time = time.time()\n",
    "print(\"End time (timestamp):\", end_time)\n",
    "\n",
    "# Calculate and show the actual duration of the sleep\n",
    "duration = end_time - start_time\n",
    "print(\"Elapsed time (in seconds):\", duration)\n"
   ]
  },
  {
   "cell_type": "code",
   "execution_count": 19,
   "metadata": {},
   "outputs": [
    {
     "name": "stdout",
     "output_type": "stream",
     "text": [
      "First number found in text: 123\n"
     ]
    }
   ],
   "source": [
    "# -----------------------------------------------\n",
    "# 🔍 Regular Expression (Regex) Pattern Matching\n",
    "# -----------------------------------------------\n",
    "\n",
    "# Import the 're' module which provides support for regular expressions\n",
    "import re\n",
    "\n",
    "# Step 1: Define the regex pattern\n",
    "# \\d → matches any digit (0–9)\n",
    "# +  → means \"one or more\" of the preceding token (digits, in this case)\n",
    "# So, r'\\d+' matches one or more consecutive digits\n",
    "pattern = r'\\d+'\n",
    "\n",
    "# Step 2: Define the input text\n",
    "text = 'There are 123 apples 456'\n",
    "\n",
    "# Step 3: Search for the first match of the pattern in the text\n",
    "# re.search() returns a match object for the **first** match found\n",
    "match = re.search(pattern, text)\n",
    "\n",
    "# Step 4: Print the matched string\n",
    "# match.group() returns the actual matched text from the original string\n",
    "if match:\n",
    "    print(\"First number found in text:\", match.group())  # Output: 123\n",
    "else:\n",
    "    print(\"No match found.\")\n"
   ]
  },
  {
   "cell_type": "markdown",
   "metadata": {},
   "source": [
    "#### Conclusion\n",
    "Python's Standard Library is extensive and provides tools for almost any task you can think of, from file handling to web services, from data serialization to concurrent execution. Familiarizing yourself with the modules and packages available in the Standard Library can significantly enhance your ability to write efficient and effective Python programs."
   ]
  }
 ],
 "metadata": {
  "kernelspec": {
   "display_name": "Python 3",
   "language": "python",
   "name": "python3"
  },
  "language_info": {
   "codemirror_mode": {
    "name": "ipython",
    "version": 3
   },
   "file_extension": ".py",
   "mimetype": "text/x-python",
   "name": "python",
   "nbconvert_exporter": "python",
   "pygments_lexer": "ipython3",
   "version": "3.12.0"
  }
 },
 "nbformat": 4,
 "nbformat_minor": 2
}
