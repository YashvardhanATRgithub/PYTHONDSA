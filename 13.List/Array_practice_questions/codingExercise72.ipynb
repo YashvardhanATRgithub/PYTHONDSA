{
 "cells": [
  {
   "cell_type": "markdown",
   "metadata": {},
   "source": [
    "Intersection of two Lists\n",
    "\n",
    "Asked in Companies:\n",
    "\n",
    "    Google\n",
    "\n",
    "    Amazon\n",
    "\n",
    "    Microsoft\n",
    "\n",
    "    Facebook\n",
    "\n",
    "\n",
    "Description:\n",
    "Given two integer arrays nums1 and nums2, return an array of their intersection. Each element in the result must be unique, and you may return the result in any order.\n",
    "\n",
    "\n",
    "Input Parameters:\n",
    "\n",
    "    nums1 (List[int]): An array of integers.\n",
    "\n",
    "    nums2 (List[int]): An array of integers.\n",
    "\n",
    "Output:\n",
    "\n",
    "    List[int]: An array of unique integers that are present in both nums1 and nums2.\n",
    "\n",
    "\n",
    "Example:\n",
    "\n",
    "    Input: nums1 = [1, 2, 3], nums2 = [4, 5, 6]\n",
    "    Output: []\n",
    "     \n",
    "    Input: nums1 = [1, 2, 2, 1], nums2 = [2, 2]\n",
    "    Output: [2]\n",
    "     \n",
    "    Input: nums1 = [4, 9, 5], nums2 = [9, 4, 9, 8, 4]\n",
    "    Output: [9, 4]\n",
    "\n",
    "\n",
    "Disclaimer: This Udemy coding exercise is still in development, so some advanced complexities might not be fully checked. Please use it primarily for basic code validation.\n",
    "\n",
    "\n",
    "LeetCode Link: https://leetcode.com/problems/intersection-of-two-arrays/"
   ]
  },
  {
   "cell_type": "code",
   "execution_count": 3,
   "metadata": {},
   "outputs": [
    {
     "name": "stdout",
     "output_type": "stream",
     "text": [
      "Intersection:  [9, 4]\n"
     ]
    }
   ],
   "source": [
    "def intersection(nums1, nums2):\n",
    "    newSet = set()\n",
    "    nums2Set = set(nums2)\n",
    "    for i in range(len(nums1)):\n",
    "        if nums1[i] in nums2:\n",
    "            newSet.add(nums1[i])\n",
    "        \n",
    "    return list(newSet)\n",
    "\n",
    "nums1 = [4, 9, 5] \n",
    "nums2 = [9, 4, 9, 8, 4]\n",
    "print(\"Intersection: \", intersection(nums1, nums2))"
   ]
  },
  {
   "cell_type": "markdown",
   "metadata": {},
   "source": [
    "### Complexity Analysis\n",
    "\n",
    "- ***Time Complexity*** $O(\\ len(nums1))$\n",
    "- ***Space Complexity*** $O(\\ n) \\ bcz\\ of\\ newSet $"
   ]
  },
  {
   "cell_type": "code",
   "execution_count": 4,
   "metadata": {},
   "outputs": [
    {
     "name": "stdout",
     "output_type": "stream",
     "text": [
      "Intersection:  [9, 4]\n"
     ]
    }
   ],
   "source": [
    "def intersection(nums1, nums2):\n",
    "    nums1Set = set(nums1)\n",
    "    nums2Set = set(nums2)\n",
    "\n",
    "    nums1Set.intersection_update(nums2Set)\n",
    "\n",
    "    return list(nums1Set)\n",
    "\n",
    "nums1 = [4, 9, 5] \n",
    "nums2 = [9, 4, 9, 8, 4]\n",
    "print(\"Intersection: \", intersection(nums1, nums2))"
   ]
  },
  {
   "cell_type": "markdown",
   "metadata": {},
   "source": [
    "### Complexity Analysis\n",
    "- $Let\\ length\\ of\\ nums1\\ =\\ n$\n",
    "- $Let\\ length\\ of\\ nums2\\ =\\ m$\n",
    "- ***Time Complexity*** $O(\\ n\\ +\\ m)$\n",
    "- ***Space Complexity*** $O(\\ n\\ +\\ m)$"
   ]
  }
 ],
 "metadata": {
  "kernelspec": {
   "display_name": "Python 3",
   "language": "python",
   "name": "python3"
  },
  "language_info": {
   "codemirror_mode": {
    "name": "ipython",
    "version": 3
   },
   "file_extension": ".py",
   "mimetype": "text/x-python",
   "name": "python",
   "nbconvert_exporter": "python",
   "pygments_lexer": "ipython3",
   "version": "3.12.0"
  }
 },
 "nbformat": 4,
 "nbformat_minor": 2
}
