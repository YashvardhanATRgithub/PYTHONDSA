{
 "cells": [
  {
   "cell_type": "markdown",
   "metadata": {},
   "source": [
    "Sum of Elements in a List\n",
    "\n",
    "Asked in Companies:\n",
    "\n",
    "    Google\n",
    "\n",
    "    Amazon\n",
    "\n",
    "    Microsoft\n",
    "\n",
    "    Facebook\n",
    "\n",
    "\n",
    "Description:\n",
    "Given a list of integers, write a function to find the sum of all the elements in the list.\n",
    "\n",
    "\n",
    "Input Parameters:\n",
    "\n",
    "    lst (List[int]): A list of integers.\n",
    "\n",
    "Output:\n",
    "\n",
    "    int: The sum of all the elements in the list.\n",
    "\n",
    "\n",
    "Example:\n",
    "\n",
    "    Input: lst = [7]\n",
    "    Output: 7\n",
    "     \n",
    "    Input: lst = [-1, -2, -3, -4]\n",
    "    Output: -10\n",
    "     \n",
    "    Input: lst = [1, 2, 3, 4, 5]\n",
    "    Output: 15"
   ]
  },
  {
   "cell_type": "code",
   "execution_count": 1,
   "metadata": {},
   "outputs": [
    {
     "name": "stdout",
     "output_type": "stream",
     "text": [
      "15\n"
     ]
    }
   ],
   "source": [
    "def sum_of_elements(lst):\n",
    "    \"\"\"\n",
    "    Function to find the sum of all elements in the list.\n",
    "    :param lst: List[int] -> List of integers\n",
    "    :return: int -> The sum of all elements in the list\n",
    "    \"\"\"\n",
    "    # TODO: Implement this function\n",
    "    \n",
    "    sum = 0\n",
    "    for i in range(len(lst)):\n",
    "        sum += lst[i]\n",
    "    \n",
    "    return sum\n",
    "\n",
    "lst = [1, 2, 3, 4, 5]\n",
    "print(sum_of_elements(lst))"
   ]
  },
  {
   "cell_type": "markdown",
   "metadata": {},
   "source": [
    "### Complexity Analysis\n",
    "\n",
    "- **Time Complexity**  $O(\\ n)$\n",
    "- **Space Complexity** $O(\\ 1)$"
   ]
  }
 ],
 "metadata": {
  "kernelspec": {
   "display_name": "Python 3",
   "language": "python",
   "name": "python3"
  },
  "language_info": {
   "codemirror_mode": {
    "name": "ipython",
    "version": 3
   },
   "file_extension": ".py",
   "mimetype": "text/x-python",
   "name": "python",
   "nbconvert_exporter": "python",
   "pygments_lexer": "ipython3",
   "version": "3.12.0"
  }
 },
 "nbformat": 4,
 "nbformat_minor": 2
}
