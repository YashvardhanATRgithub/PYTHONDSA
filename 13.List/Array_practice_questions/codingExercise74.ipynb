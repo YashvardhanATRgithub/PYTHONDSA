{
 "cells": [
  {
   "cell_type": "markdown",
   "metadata": {},
   "source": [
    "Maximum Subarray Sum\n",
    "\n",
    "Asked in Companies:\n",
    "\n",
    "    Accenture\n",
    "\n",
    "    SAP labs\n",
    "\n",
    "    Dunzo\n",
    "\n",
    "    Acko\n",
    "\n",
    "\n",
    "Description:\n",
    "\n",
    "Given an array arr of length n, consisting of integers, find the sum of the subarray (including an empty subarray) that has the maximum sum among all possible subarrays.\n",
    "\n",
    "\n",
    "    Input:\n",
    "\n",
    "        An integer array arr of length n where 1 ≤ n ≤ 10^5 and each element arr[i] is an integer.\n",
    "\n",
    "    Output:\n",
    "\n",
    "        An integer representing the sum of the subarray with the maximum sum. If all numbers are negative, the algorithm should handle that correctly by returning the largest single number or zero if the array is empty.\n",
    "\n",
    "Example:\n",
    "\n",
    "        Input: arr = [-2, 1, -3, 4, -1, 2, 1, -5, 4]\n",
    "        Output: 6\n",
    "        Explanation: The subarray [4, -1, 2, 1] has the maximum sum 6.\n",
    "\n",
    "Question Link : https://www.naukri.com/code360/problems/maximum-subarray-sum_630526"
   ]
  },
  {
   "cell_type": "code",
   "execution_count": null,
   "metadata": {},
   "outputs": [
    {
     "name": "stdout",
     "output_type": "stream",
     "text": [
      "Maximum sub array sum is :  -1\n"
     ]
    }
   ],
   "source": [
    "### Kadane's Algorithm\n",
    "\n",
    "## Intuitive but not efficient\n",
    "\n",
    "def max_subarray_sum(arr):\n",
    "    \n",
    "    currentMax, finalMax = 0,float('-inf')\n",
    "\n",
    "    if not arr:\n",
    "        return 0\n",
    "    \n",
    "    for i in range(len(arr)):\n",
    "        \n",
    "        currentMax += arr[i]\n",
    "        finalMax = max(currentMax, finalMax)\n",
    "        \n",
    "        if currentMax < 0:\n",
    "            currentMax = 0\n",
    "    \n",
    "    return finalMax\n",
    "\n",
    "# arr = [-2, 1, -3, 4, -1, 2, 1, -5, 4]\n",
    "arr = [-2,-3,-4,-1]\n",
    "print(\"Maximum sub array sum is : \", max_subarray_sum(arr))"
   ]
  },
  {
   "cell_type": "code",
   "execution_count": 6,
   "metadata": {},
   "outputs": [
    {
     "name": "stdout",
     "output_type": "stream",
     "text": [
      "Maximum sub array sum is :  6\n"
     ]
    }
   ],
   "source": [
    "## Intuitive and efficient\n",
    "\n",
    "def max_subarray_sum(arr):\n",
    "    if not arr:\n",
    "        return 0\n",
    "\n",
    "    current_sum = 0\n",
    "    max_sum = float('-inf')\n",
    "\n",
    "    for num in arr:\n",
    "        current_sum = max(num, current_sum + num)\n",
    "        max_sum = max(max_sum, current_sum)\n",
    "\n",
    "    return max_sum\n",
    "\n",
    "\n",
    "arr = [-2, 1, -3, 4, -1, 2, 1, -5, 4]\n",
    "print(\"Maximum sub array sum is : \", max_subarray_sum(arr))"
   ]
  },
  {
   "cell_type": "markdown",
   "metadata": {},
   "source": [
    "### Complexity Analysis\n",
    "\n",
    "- ***Time Complexity*** $O(\\ n)$\n",
    "- ***Space Complexity*** $O(\\ 1)$"
   ]
  }
 ],
 "metadata": {
  "kernelspec": {
   "display_name": "Python 3",
   "language": "python",
   "name": "python3"
  },
  "language_info": {
   "codemirror_mode": {
    "name": "ipython",
    "version": 3
   },
   "file_extension": ".py",
   "mimetype": "text/x-python",
   "name": "python",
   "nbconvert_exporter": "python",
   "pygments_lexer": "ipython3",
   "version": "3.12.0"
  }
 },
 "nbformat": 4,
 "nbformat_minor": 2
}
