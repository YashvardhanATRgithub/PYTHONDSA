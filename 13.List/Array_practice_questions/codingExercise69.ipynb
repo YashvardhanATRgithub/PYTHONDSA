{
 "cells": [
  {
   "cell_type": "markdown",
   "metadata": {},
   "source": [
    "Missing Number\n",
    "\n",
    "Asked in Companies:\n",
    "\n",
    "    Google\n",
    "\n",
    "    Microsoft\n",
    "\n",
    "    Amazon\n",
    "\n",
    "    Facebook\n",
    "\n",
    "\n",
    "Description:\n",
    "Given an array nums containing n distinct numbers in the range [0, n], return the only number in the range that is missing from the array.\n",
    "\n",
    "\n",
    "Input Parameters:\n",
    "\n",
    "    nums (List[int]): A list of integers where each integer is unique and in the range [0, n].\n",
    "\n",
    "Output:\n",
    "\n",
    "    int: The missing number in the range [0, n].\n",
    "\n",
    "\n",
    "Example:\n",
    "\n",
    "    Input: nums = [3, 0, 1]\n",
    "    Output: 2\n",
    "     \n",
    "    Input: nums = [0, 1]\n",
    "    Output: 2\n",
    "     \n",
    "    Input: nums = [8, 7, 6, 4, 3, 2, 0, 1]\n",
    "    Output: 5\n",
    "\n",
    "\n",
    "Leetcode Link : https://leetcode.com/problems/missing-number/description/"
   ]
  },
  {
   "cell_type": "code",
   "execution_count": 3,
   "metadata": {},
   "outputs": [
    {
     "name": "stdout",
     "output_type": "stream",
     "text": [
      "5\n"
     ]
    }
   ],
   "source": [
    "## Using set\n",
    "\n",
    "def find_missing_number(nums):\n",
    "    n = len(nums)\n",
    "\n",
    "    lstToset = set(nums) # Typecasting list to set so that element lookup becomes O(1)\n",
    "\n",
    "    for i in range(n+1):\n",
    "        if i not in lstToset:\n",
    "            return i\n",
    "\n",
    "\n",
    "nums = [8, 7, 6, 4, 3, 2, 0, 1]\n",
    "print(find_missing_number(nums))\n",
    "        \n"
   ]
  },
  {
   "cell_type": "markdown",
   "metadata": {},
   "source": [
    "### Complexity Analysis\n",
    "\n",
    "- ***Time Complexity*** $O(\\ n)$\n",
    "- ***Space Complexity*** $O(\\ n) \\ bcz\\ of\\ space\\ taken\\ by\\ set$"
   ]
  },
  {
   "cell_type": "code",
   "execution_count": null,
   "metadata": {},
   "outputs": [
    {
     "name": "stdout",
     "output_type": "stream",
     "text": [
      "5\n"
     ]
    }
   ],
   "source": [
    "## Using sum of first n natural numbers ( Optimized )\n",
    "\n",
    "def find_missing_number(nums):\n",
    "    n = len(nums)\n",
    "\n",
    "    sum_of_n = (n*(n+1)) / 2\n",
    "\n",
    "    actual_sum = sum(nums)\n",
    "\n",
    "    missing_num = sum_of_n  - actual_sum\n",
    "\n",
    "    return int(missing_num)\n",
    "\n",
    "nums = [8, 7, 6, 4, 3, 2, 0, 1]\n",
    "print(find_missing_number(nums))\n"
   ]
  },
  {
   "cell_type": "markdown",
   "metadata": {},
   "source": [
    "### Complexity Analysis\n",
    "\n",
    "- ***Time Complexity*** $O(\\ n)$\n",
    "- ***Space Complexity*** $O(\\ 1)$"
   ]
  }
 ],
 "metadata": {
  "kernelspec": {
   "display_name": "Python 3",
   "language": "python",
   "name": "python3"
  },
  "language_info": {
   "codemirror_mode": {
    "name": "ipython",
    "version": 3
   },
   "file_extension": ".py",
   "mimetype": "text/x-python",
   "name": "python",
   "nbconvert_exporter": "python",
   "pygments_lexer": "ipython3",
   "version": "3.12.0"
  }
 },
 "nbformat": 4,
 "nbformat_minor": 2
}
