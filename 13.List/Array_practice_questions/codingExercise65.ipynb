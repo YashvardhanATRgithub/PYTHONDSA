{
 "cells": [
  {
   "cell_type": "markdown",
   "metadata": {},
   "source": [
    "Palindrome List\n",
    "\n",
    "Asked in Companies:\n",
    "\n",
    "    Google\n",
    "\n",
    "    Amazon\n",
    "\n",
    "    Microsoft\n",
    "\n",
    "    Facebook\n",
    "\n",
    "\n",
    "Description:\n",
    "Given a list of integers, determine if it is a palindrome. A list is considered a palindrome if it reads the same forward and backward.\n",
    "\n",
    "\n",
    "Input Parameters:\n",
    "\n",
    "    lst (List[int]): A list of integers.\n",
    "\n",
    "Output:\n",
    "\n",
    "    bool: Return True if the list is a palindrome, otherwise False.\n",
    "\n",
    "\n",
    "Example:\n",
    "\n",
    "    Input: lst = [7, 8, 9, 8, 7]\n",
    "    Output: True\n",
    "     \n",
    "    Input: lst = [1, 2, 3, 4, 5]\n",
    "    Output: False\n",
    "     \n",
    "    Input: lst = [1, 2, 3, 2, 1]\n",
    "    Output: True"
   ]
  },
  {
   "cell_type": "code",
   "execution_count": 2,
   "metadata": {},
   "outputs": [
    {
     "name": "stdout",
     "output_type": "stream",
     "text": [
      "False\n"
     ]
    }
   ],
   "source": [
    "def is_palindrome(lst):\n",
    "    \"\"\"\n",
    "    Function to check if a list is a palindrome.\n",
    "    :param lst: List[int] -> List of integers\n",
    "    :return: bool -> True if the list is a palindrome, False otherwise\n",
    "    \"\"\"\n",
    "    # TODO: Implement this function\n",
    "    \n",
    "    left, right = 0, len(lst)-1\n",
    "\n",
    "    while left <= right:\n",
    "        if lst[left] != lst[right]:\n",
    "            return False\n",
    "        left += 1\n",
    "        right -= 1\n",
    "    return True\n",
    "\n",
    "# lst = [1, 2, 3, 2, 1]\n",
    "lst = [1, 2, 3, 4, 5]\n",
    "print(is_palindrome(lst))\n"
   ]
  },
  {
   "cell_type": "markdown",
   "metadata": {},
   "source": [
    "### Complexity Analysis\n",
    "\n",
    "- **Time Complexity** $O(\\ n)$\n",
    "- **Space Complexity** $O(\\ 1)$"
   ]
  }
 ],
 "metadata": {
  "kernelspec": {
   "display_name": "Python 3",
   "language": "python",
   "name": "python3"
  },
  "language_info": {
   "codemirror_mode": {
    "name": "ipython",
    "version": 3
   },
   "file_extension": ".py",
   "mimetype": "text/x-python",
   "name": "python",
   "nbconvert_exporter": "python",
   "pygments_lexer": "ipython3",
   "version": "3.12.0"
  }
 },
 "nbformat": 4,
 "nbformat_minor": 2
}
