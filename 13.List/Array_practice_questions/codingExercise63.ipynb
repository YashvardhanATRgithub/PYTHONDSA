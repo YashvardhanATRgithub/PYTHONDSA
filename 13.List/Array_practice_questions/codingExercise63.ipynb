{
 "cells": [
  {
   "cell_type": "markdown",
   "metadata": {},
   "source": [
    "Maximum Element in a List.\n",
    "\n",
    "Asked in Companies:\n",
    "\n",
    "    Google\n",
    "\n",
    "    Amazon\n",
    "\n",
    "    Microsoft\n",
    "\n",
    "    Facebook\n",
    "\n",
    "\n",
    "Description:\n",
    "Given a list of integers, write a function to find the maximum element in the list.\n",
    "\n",
    "\n",
    "Input Parameters:\n",
    "\n",
    "    lst (List[int]): A list of integers.\n",
    "\n",
    "Output:\n",
    "\n",
    "    int: The maximum element in the list.\n",
    "\n",
    "\n",
    "Example:\n",
    "\n",
    "    Input: lst = [3, 5, 2, 9, 6]\n",
    "    Output: 9\n",
    "     \n",
    "    Input: lst = [-1, -2, -3, -4]\n",
    "    Output: -1\n",
    "     \n",
    "    Input: lst = [7]\n",
    "    Output: 7"
   ]
  },
  {
   "cell_type": "code",
   "execution_count": 5,
   "metadata": {},
   "outputs": [
    {
     "name": "stdout",
     "output_type": "stream",
     "text": [
      "Max element in the list is:  -1\n"
     ]
    }
   ],
   "source": [
    "def find_max_element(lst):\n",
    "    \"\"\"\n",
    "    Function to find the maximum element in a list.\n",
    "    :param lst: List[int] -> List of integers\n",
    "    :return: int -> The maximum element in the list\n",
    "    \"\"\"\n",
    "    # TODO: Implement this function\n",
    "    \n",
    "    maxElement = lst[0]\n",
    "\n",
    "    for i in range(1, len(lst)):\n",
    "        if lst[i] > maxElement:\n",
    "            lst[i], maxElement = maxElement, lst[i]\n",
    "    \n",
    "    return maxElement\n",
    "\n",
    "#lst = [3, 5, 2, 9, 6]\n",
    "#lst = [7]\n",
    "lst = [-1,-2,-3]\n",
    "print(\"Max element in the list is: \", find_max_element(lst))"
   ]
  },
  {
   "cell_type": "markdown",
   "metadata": {},
   "source": [
    "### Complexity Analysis\n",
    "\n",
    "- **Time Complexity:** $O(\\ n)$  \n",
    "- **Space Complexity:** $O(\\ 1)$\n"
   ]
  }
 ],
 "metadata": {
  "kernelspec": {
   "display_name": "Python 3",
   "language": "python",
   "name": "python3"
  },
  "language_info": {
   "codemirror_mode": {
    "name": "ipython",
    "version": 3
   },
   "file_extension": ".py",
   "mimetype": "text/x-python",
   "name": "python",
   "nbconvert_exporter": "python",
   "pygments_lexer": "ipython3",
   "version": "3.12.0"
  }
 },
 "nbformat": 4,
 "nbformat_minor": 2
}
