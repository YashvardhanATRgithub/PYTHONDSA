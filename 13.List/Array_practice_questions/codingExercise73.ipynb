{
 "cells": [
  {
   "cell_type": "markdown",
   "metadata": {},
   "source": [
    "Max Consecutive Ones\n",
    "\n",
    "Asked in Companies:\n",
    "\n",
    "    Google\n",
    "\n",
    "    Amazon\n",
    "\n",
    "    Microsoft\n",
    "\n",
    "    Facebook\n",
    "\n",
    "\n",
    "Description:\n",
    "Given a binary array nums, return the maximum number of consecutive 1s in the array.\n",
    "\n",
    "\n",
    "Input Parameters:\n",
    "\n",
    "    nums (List[int]): A binary array where each element is either 0 or 1.\n",
    "\n",
    "Output:\n",
    "\n",
    "    int: The maximum number of consecutive 1s in the array.\n",
    "\n",
    "\n",
    "Example:\n",
    "\n",
    "    Input: nums = [0, 0, 0, 0]\n",
    "    Output: 0\n",
    "     \n",
    "    Input: nums = [1, 0, 1, 1, 0, 1, 1, 1, 1]\n",
    "    Output: 4\n",
    "     \n",
    "    Input: nums = [1, 1, 0, 1, 1, 1]\n",
    "    Output: 3\n",
    "\n",
    "    LeetCode Link: https://leetcode.com/problems/max-consecutive-ones/description/"
   ]
  },
  {
   "cell_type": "code",
   "execution_count": 5,
   "metadata": {},
   "outputs": [
    {
     "name": "stdout",
     "output_type": "stream",
     "text": [
      "Max consecutive ones:  3\n"
     ]
    }
   ],
   "source": [
    "def find_max_consecutive_ones(nums):\n",
    "    max_count = 0\n",
    "    current_count = 0\n",
    "    \n",
    "    for num in nums:\n",
    "        if num == 1:\n",
    "            # Increment count of consecutive 1's\n",
    "            current_count += 1\n",
    "        else:\n",
    "            # Update max_count if needed and reset current_count\n",
    "            max_count = max(max_count, current_count)\n",
    "            current_count = 0\n",
    "    \n",
    "    # Final check to update max_count after the loop\n",
    "    return max(max_count, current_count)\n",
    "\n",
    "nums = [1, 1, 0, 1, 1, 1]\n",
    "print(\"Max consecutive ones: \",find_max_consecutive_ones(nums))"
   ]
  },
  {
   "cell_type": "markdown",
   "metadata": {},
   "source": [
    "### Complexity Analysis\n",
    "\n",
    "- ***Time Complexity*** $O(\\ n)$\n",
    "- ***Space Complexity*** $O(\\ 1)$"
   ]
  }
 ],
 "metadata": {
  "kernelspec": {
   "display_name": "Python 3",
   "language": "python",
   "name": "python3"
  },
  "language_info": {
   "codemirror_mode": {
    "name": "ipython",
    "version": 3
   },
   "file_extension": ".py",
   "mimetype": "text/x-python",
   "name": "python",
   "nbconvert_exporter": "python",
   "pygments_lexer": "ipython3",
   "version": "3.12.0"
  }
 },
 "nbformat": 4,
 "nbformat_minor": 2
}
