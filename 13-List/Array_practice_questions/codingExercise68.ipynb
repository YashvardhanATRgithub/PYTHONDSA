{
 "cells": [
  {
   "cell_type": "markdown",
   "metadata": {},
   "source": [
    "Plus One in the Number\n",
    "\n",
    "Asked in Companies:\n",
    "\n",
    "    Google\n",
    "\n",
    "    Amazon\n",
    "\n",
    "    Microsoft\n",
    "\n",
    "    Facebook\n",
    "\n",
    "\n",
    "Description:\n",
    "You are given a large integer represented as an integer array digits, where each digits[i] is the i-th digit of the integer. The digits are ordered from most significant to least significant in left-to-right order. The large integer does not contain any leading zeroes.\n",
    "\n",
    "Write a function to increment the large integer by one and return the resulting array of digits.\n",
    "\n",
    "\n",
    "Input Parameters:\n",
    "\n",
    "    digits (List[int]): A list of integers where each integer represents a digit of a large number.\n",
    "\n",
    "Output:\n",
    "\n",
    "    List[int]: The list representing the number after incrementing it by one.\n",
    "\n",
    "\n",
    "Example:\n",
    "\n",
    "    Input: digits = [1, 2, 3]\n",
    "    Output: [1, 2, 4]\n",
    "     \n",
    "    Input: digits = [4, 3, 2, 1]\n",
    "    Output: [4, 3, 2, 2]\n",
    "     \n",
    "    Input: digits = [9, 9, 9]\n",
    "    Output: [1, 0, 0, 0]\n",
    "\n",
    "    LeetCode Link: https://leetcode.com/problems/plus-one/description/\n"
   ]
  },
  {
   "cell_type": "code",
   "execution_count": 14,
   "metadata": {},
   "outputs": [
    {
     "name": "stdout",
     "output_type": "stream",
     "text": [
      "[1, 0, 0, 0]\n"
     ]
    }
   ],
   "source": [
    "## By typecasting ( Not efficient )\n",
    "\n",
    "def plus_one(digits):\n",
    "    \"\"\"\n",
    "    Function to increment a large integer represented as a list of digits by one.\n",
    "    :param digits: List[int] -> List of digits representing the large integer\n",
    "    :return: List[int] -> The list representing the integer after incrementing\n",
    "    \"\"\"\n",
    "    # TODO: Implement this function\n",
    "    \n",
    "    string = ''\n",
    "    newList = []\n",
    "\n",
    "    for i in range(len(digits)):\n",
    "        string += str(digits[i])\n",
    "    \n",
    "    addition = int(string) + 1\n",
    "    strAddition = str(addition)\n",
    "\n",
    "    i = 0\n",
    "    while i < len(strAddition):\n",
    "        newList.append(int(strAddition[i]))\n",
    "        i += 1\n",
    "    \n",
    "    return newList\n",
    "    \n",
    "\n",
    "# digits = [4, 3, 2, 1]\n",
    "digits = [9, 9, 9]\n",
    "print(plus_one(digits))\n"
   ]
  },
  {
   "cell_type": "markdown",
   "metadata": {},
   "source": [
    "- **Time Complexity** $O(\\ n)$\n",
    "- **Space Complexity** $O(\\ n) \\ bcz \\ of \\ newList$"
   ]
  },
  {
   "cell_type": "code",
   "execution_count": 15,
   "metadata": {},
   "outputs": [
    {
     "name": "stdout",
     "output_type": "stream",
     "text": [
      "[1, 0, 0, 0]\n"
     ]
    }
   ],
   "source": [
    "## Traversing from end and taking care of digit > 9 ( Optimized approach )\n",
    "\n",
    "def plus_one(digits):\n",
    "    \n",
    "    n = len(digits)\n",
    "    \n",
    "    for i in range(n-1, -1, -1):\n",
    "        if digits[i] < 9:\n",
    "            digits[i] += 1\n",
    "            return digits\n",
    "        digits[i] = 0\n",
    "    \n",
    "    return [1] + digits\n",
    "\n",
    "# digits = [4, 3, 2, 1]\n",
    "digits = [9, 9, 9]\n",
    "print(plus_one(digits))"
   ]
  },
  {
   "cell_type": "markdown",
   "metadata": {},
   "source": [
    "### Complexity Analysis\n",
    "\n",
    "- ***Time Complexity*** $O(\\ n) \\ in \\ worst \\ case \\ when \\ digit \\ = \\ 9$\n",
    "- ***Time Complexity*** $O(\\ 1) \\ in \\ best \\ case \\ when \\ digit \\ < \\ 9$\n",
    "- ***Space Complexity*** $O(\\ 1) \\ bcz \\ inplace\\ algorithm$"
   ]
  }
 ],
 "metadata": {
  "kernelspec": {
   "display_name": "Python 3",
   "language": "python",
   "name": "python3"
  },
  "language_info": {
   "codemirror_mode": {
    "name": "ipython",
    "version": 3
   },
   "file_extension": ".py",
   "mimetype": "text/x-python",
   "name": "python",
   "nbconvert_exporter": "python",
   "pygments_lexer": "ipython3",
   "version": "3.12.0"
  }
 },
 "nbformat": 4,
 "nbformat_minor": 2
}
