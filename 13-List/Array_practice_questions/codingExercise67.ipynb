{
 "cells": [
  {
   "cell_type": "markdown",
   "metadata": {},
   "source": [
    "Rotate List\n",
    "\n",
    "Asked in Companies:\n",
    "\n",
    "    Google\n",
    "\n",
    "    Amazon\n",
    "\n",
    "    Microsoft\n",
    "\n",
    "    Facebook\n",
    "\n",
    "\n",
    "Description:\n",
    "Given a list of integers and an integer D, write a function to rotate the list to the left by D positions.\n",
    "\n",
    "\n",
    "Input Parameters:\n",
    "\n",
    "    ARR (List[int]): A list of integers.\n",
    "\n",
    "    D (int): The number of positions to rotate the list to the left.\n",
    "\n",
    "Output:\n",
    "\n",
    "    List[int]: The list after rotating it to the left by D positions.\n",
    "\n",
    "\n",
    "Example:\n",
    "\n",
    "    Input: ARR = [1, 2, 3, 4, 5], D = 2\n",
    "    Output: [3, 4, 5, 1, 2]\n",
    "     \n",
    "    Input: ARR = [10, 20, 30, 40, 50], D = 3\n",
    "    Output: [40, 50, 10, 20, 30]\n",
    "     \n",
    "    Input: ARR = [7, 8, 9, 10], D = 1\n",
    "    Output: [8, 9, 10, 7]"
   ]
  },
  {
   "cell_type": "code",
   "execution_count": null,
   "metadata": {},
   "outputs": [
    {
     "name": "stdout",
     "output_type": "stream",
     "text": [
      "[3, 4, 5, 1, 2]\n"
     ]
    }
   ],
   "source": [
    "def rotate_left(ARR, D):\n",
    "    \"\"\"\n",
    "    Function to rotate the list to the left by D positions.\n",
    "    :param ARR: List[int] -> The list of integers\n",
    "    :param D: int -> The number of positions to rotate\n",
    "    :return: List[int] -> The list after rotation\n",
    "    \"\"\"\n",
    "    # TODO: Implement this function\n",
    "    \n",
    "    D = D % len(ARR) # So that D remains less than len(ARR) even when it is greater than len(ARR)\n",
    "    newList = []\n",
    "\n",
    "    for i in range(D, len(ARR)):\n",
    "        newList.append(ARR[i])\n",
    "    \n",
    "    for i in range(D):\n",
    "        newList.append(ARR[i])\n",
    "        \n",
    "    \n",
    "    return newList\n",
    "\n",
    "ARR = [1, 2, 3, 4, 5]\n",
    "D = 2\n",
    "print(rotate_left(ARR,D))"
   ]
  },
  {
   "cell_type": "markdown",
   "metadata": {},
   "source": [
    "### Complexity Analysis\n",
    "\n",
    "- **Time Complexity** $O(\\ n)$\n",
    "- **Space Complexity** $O(\\ n) \\ bcz \\ outplace \\ algorithm$"
   ]
  }
 ],
 "metadata": {
  "kernelspec": {
   "display_name": "Python 3",
   "language": "python",
   "name": "python3"
  },
  "language_info": {
   "codemirror_mode": {
    "name": "ipython",
    "version": 3
   },
   "file_extension": ".py",
   "mimetype": "text/x-python",
   "name": "python",
   "nbconvert_exporter": "python",
   "pygments_lexer": "ipython3",
   "version": "3.12.0"
  }
 },
 "nbformat": 4,
 "nbformat_minor": 2
}
