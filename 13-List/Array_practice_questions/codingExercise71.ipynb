{
 "cells": [
  {
   "cell_type": "markdown",
   "metadata": {},
   "source": [
    "Move Zeroes\n",
    "\n",
    "Asked in Companies:\n",
    "\n",
    "    Google\n",
    "\n",
    "    Amazon\n",
    "\n",
    "    Microsoft\n",
    "\n",
    "    Facebook\n",
    "\n",
    "\n",
    "Description:\n",
    "Given an integer array nums, write a function to move all 0s to the end of the array while maintaining the relative order of the non-zero elements.\n",
    "\n",
    "\n",
    "Input Parameters:\n",
    "\n",
    "    nums (List[int]): A list of integers.\n",
    "\n",
    "Output:\n",
    "\n",
    "    The list nums with all 0s moved to the end, preserving the order of non-zero elements.\n",
    "\n",
    "\n",
    "Example:\n",
    "\n",
    "    Input: nums = [0, 1, 0, 3, 12]\n",
    "    Output: [1, 3, 12, 0, 0]\n",
    "     \n",
    "    Input: nums = [0, 0, 1]\n",
    "    Output: [1, 0, 0]\n",
    "     \n",
    "    Input: nums = [4, 2, 4, 0, 0, 3, 0, 5, 1, 0]\n",
    "    Output: [4, 2, 4, 3, 5, 1, 0, 0, 0, 0]\n",
    "\n",
    "\n",
    "Leetcode Link : https://leetcode.com/problems/move-zeroes/description/"
   ]
  },
  {
   "cell_type": "code",
   "execution_count": null,
   "metadata": {},
   "outputs": [
    {
     "name": "stdout",
     "output_type": "stream",
     "text": [
      "[4, 2, 4, 3, 5, 1, 0, 0, 0, 0]\n"
     ]
    }
   ],
   "source": [
    "## Using single while loop\n",
    "\n",
    "def move_zeroes(nums):\n",
    "    \"\"\"\n",
    "    Function to move all 0's to the end of the array while maintaining the order of non-zero elements.\n",
    "    :param nums: List[int] -> A list of integers\n",
    "    :return: None -> The list is modified in place\n",
    "    \"\"\"\n",
    "    # TODO: Implement this function\n",
    "    \n",
    "    n = len(nums)\n",
    "\n",
    "    i,j = 0,1\n",
    "\n",
    "    while j < n:\n",
    "        if nums[i] == 0 and nums[j] != 0:\n",
    "            nums[i], nums[j] = nums[j], nums[i]\n",
    "            i += 1\n",
    "            j += 1\n",
    "        elif nums[i] == 0 and nums[j] == 0:\n",
    "            j += 1\n",
    "        else:\n",
    "            i += 1\n",
    "            j += 1\n",
    "    return nums\n",
    "\n",
    "# nums = [0, 1, 0, 3, 12]\n",
    "# nums = [0, 0, 1]\n",
    "nums = [4, 2, 4, 0, 0, 3, 0, 5, 1, 0]\n",
    "print(move_zeroes(nums))\n",
    "\n"
   ]
  },
  {
   "cell_type": "code",
   "execution_count": null,
   "metadata": {},
   "outputs": [
    {
     "name": "stdout",
     "output_type": "stream",
     "text": [
      "[4, 2, 4, 3, 5, 1, 0, 0, 0, 0]\n"
     ]
    }
   ],
   "source": [
    "## Putting non-zero elements first and then putting zero at remaining position\n",
    "\n",
    "def move_zeroes(nums):\n",
    "    \n",
    "    n = len(nums)\n",
    "    non_zero_index = 0\n",
    "    \n",
    "    for i in range(n):\n",
    "        if nums[i] != 0:\n",
    "            nums[non_zero_index] = nums[i]\n",
    "            non_zero_index += 1\n",
    "    \n",
    "    while non_zero_index < n:\n",
    "        nums[non_zero_index] = 0\n",
    "        non_zero_index += 1\n",
    "    return nums\n",
    "\n",
    "# nums = [0, 1, 0, 3, 12]\n",
    "# nums = [0, 0, 1]\n",
    "nums = [4, 2, 4, 0, 0, 3, 0, 5, 1, 0]\n",
    "print(move_zeroes(nums))\n"
   ]
  },
  {
   "cell_type": "markdown",
   "metadata": {},
   "source": [
    "### Complexity Analysis\n",
    "\n",
    "- ***Time Complexity*** $O(\\ n)$\n",
    "- ***Space Complexity*** $O(\\ 1)$"
   ]
  }
 ],
 "metadata": {
  "kernelspec": {
   "display_name": "Python 3",
   "language": "python",
   "name": "python3"
  },
  "language_info": {
   "codemirror_mode": {
    "name": "ipython",
    "version": 3
   },
   "file_extension": ".py",
   "mimetype": "text/x-python",
   "name": "python",
   "nbconvert_exporter": "python",
   "pygments_lexer": "ipython3",
   "version": "3.12.0"
  }
 },
 "nbformat": 4,
 "nbformat_minor": 2
}
