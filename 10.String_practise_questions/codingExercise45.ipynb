{
 "cells": [
  {
   "cell_type": "markdown",
   "metadata": {},
   "source": [
    "Check for same strings\n",
    "\n",
    "Problem Description:\n",
    "\n",
    "You are given two strings s and t. Your task is to check if the two strings are equal. Two strings are considered equal if they have the same length and the same characters at each position. You are not allowed to use any built-in string comparison functions.\n",
    "\n",
    "\n",
    "Input:\n",
    "\n",
    "    Two strings s and t, where 1 <= len(s), len(t) <= 1000.\n",
    "\n",
    "\n",
    "Output:\n",
    "\n",
    "    A boolean value (True or False) indicating whether the two strings are equal.\n",
    "\n",
    "\n",
    "Example:\n",
    "\n",
    "    Input: s = \"hello\", t = \"hello\"\n",
    "    Output: True\n",
    "     \n",
    "    Input: s = \"hello\", t = \"world\"\n",
    "    Output: False"
   ]
  },
  {
   "cell_type": "code",
   "execution_count": null,
   "metadata": {},
   "outputs": [
    {
     "name": "stdout",
     "output_type": "stream",
     "text": [
      "True\n",
      "False\n"
     ]
    }
   ],
   "source": [
    "## Without using string comparison\n",
    "\n",
    "def are_equal_strings(s, t):\n",
    "    \n",
    "    # Your code here\n",
    "    \n",
    "    if len(s) != len(t):\n",
    "        return False\n",
    "    \n",
    "    for i in range(len(s)):\n",
    "        if s[i] != t[i]:\n",
    "            return False\n",
    "            \n",
    "    return True\n",
    "\n",
    "print(are_equal_strings('hello', 'hello'))\n",
    "print(are_equal_strings('hello', 'khello'))"
   ]
  },
  {
   "cell_type": "markdown",
   "metadata": {},
   "source": [
    "### Complexity Analysis\n",
    "\n",
    "- **Time Complexity:** $O(\\ n)$  \n",
    "- **Space Complexity:** $O(\\ 1)$"
   ]
  },
  {
   "cell_type": "code",
   "execution_count": 3,
   "metadata": {},
   "outputs": [
    {
     "name": "stdout",
     "output_type": "stream",
     "text": [
      "True\n",
      "False\n"
     ]
    }
   ],
   "source": [
    "## Using string comparison\n",
    "\n",
    "def are_equal_strings(s, t):\n",
    "    return s == t  # Uses Python's built-in string comparison\n",
    "\n",
    "print(are_equal_strings('hello', 'hello'))  # True\n",
    "print(are_equal_strings('hello', 'khello'))  # False\n"
   ]
  },
  {
   "cell_type": "markdown",
   "metadata": {},
   "source": [
    "### Complexity Analysis\n",
    "\n",
    "- **Time Complexity:** $O(\\ n)$  \n",
    "- **Space Complexity:** $O(\\ 1)$"
   ]
  }
 ],
 "metadata": {
  "kernelspec": {
   "display_name": "Python 3",
   "language": "python",
   "name": "python3"
  },
  "language_info": {
   "codemirror_mode": {
    "name": "ipython",
    "version": 3
   },
   "file_extension": ".py",
   "mimetype": "text/x-python",
   "name": "python",
   "nbconvert_exporter": "python",
   "pygments_lexer": "ipython3",
   "version": "3.12.0"
  }
 },
 "nbformat": 4,
 "nbformat_minor": 2
}
