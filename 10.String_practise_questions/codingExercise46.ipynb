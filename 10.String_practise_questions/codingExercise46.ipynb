{
 "cells": [
  {
   "cell_type": "markdown",
   "metadata": {},
   "source": [
    "Check Palindrome\n",
    "\n",
    "Problem Description:\n",
    "\n",
    "You are given a string s. Your task is to check if the string is a palindrome. A string is considered a palindrome if it reads the same forward and backward, ignoring spaces, punctuation, and case.\n",
    "\n",
    "\n",
    "Input:\n",
    "\n",
    "    A single string s, where the length of s is between 1 and 1000.\n",
    "\n",
    "\n",
    "Output:\n",
    "\n",
    "    A boolean value: True if the string is a palindrome, and False otherwise.\n",
    "\n",
    "\n",
    "Example:\n",
    "\n",
    "    Input: \"A man a plan a canal Panama\"\n",
    "    Output: True\n",
    "     \n",
    "    Input: \"Hello, World!\"\n",
    "    Output: False\n",
    "\n",
    "\n"
   ]
  },
  {
   "cell_type": "code",
   "execution_count": null,
   "metadata": {},
   "outputs": [
    {
     "name": "stdout",
     "output_type": "stream",
     "text": [
      "True\n"
     ]
    }
   ],
   "source": [
    "## Using two pointer approach\n",
    "\n",
    "def is_palindrome(s):\n",
    "    # Your code here\n",
    "    \n",
    "    s = s.lower()  ## converting all char of s to lowercase\n",
    "    s = s.replace(' ', '')  ## removing all whitespaces\n",
    "\n",
    "    ## if any non alpha-numeric char is found in s, remove it\n",
    "    for i in range(len(s)-1):\n",
    "        if not s[i].isalnum():\n",
    "            s = s.replace(s[i], \"\")\n",
    "    \n",
    "    ## Two pointers, i starting from left and j starting from right\n",
    "    i = 0\n",
    "    j = len(s)-1\n",
    "    \n",
    "    ## Comparing each char from left to each char to the right until left pointer i becomes equal to j\n",
    "    while i <= j:\n",
    "        if s[i] != s[j]:\n",
    "            return False\n",
    "        i += 1\n",
    "        j -= 1\n",
    "    return True\n",
    "\n",
    "print(is_palindrome(\"A man a plan a ! canal Panama\"))"
   ]
  },
  {
   "cell_type": "markdown",
   "metadata": {},
   "source": [
    "### Complexity Analysis\n",
    "\n",
    "- **Time Complexity:** $O(\\ n)$  \n",
    "- **Space Complexity:** $O(\\ 1)$"
   ]
  },
  {
   "cell_type": "code",
   "execution_count": null,
   "metadata": {},
   "outputs": [],
   "source": [
    "    ## More pythonic approach\n",
    "    \n",
    "    def is_palindrome(s):\n",
    "        \n",
    "        # Normalize the string by converting to lowercase and removing non-alphanumeric characters\n",
    "\n",
    "        # adding char to normalized_str only if it is alpha-numeric \n",
    "        normalized_str = ''.join(char.lower() for char in s if char.isalnum())\n",
    "        \n",
    "        # Check if the normalized string is equal to its reverse using slice operator\n",
    "        return normalized_str == normalized_str[::-1]"
   ]
  },
  {
   "cell_type": "markdown",
   "metadata": {},
   "source": [
    "### Complexity Analysis\n",
    "\n",
    "- **Time Complexity:** $O(\\ n)$  \n",
    "- **Space Complexity:** $O(\\ n)$ bcz we are storing the string in normalized_var"
   ]
  },
  {
   "cell_type": "markdown",
   "metadata": {},
   "source": [
    "Join()\n",
    "\n",
    "''.join(...)\n",
    "\n",
    "    The join() method concatenates the filtered and modified characters into a new string.\n",
    "\n",
    "    The '' (empty string) means that the characters are joined without any separator."
   ]
  }
 ],
 "metadata": {
  "kernelspec": {
   "display_name": "Python 3",
   "language": "python",
   "name": "python3"
  },
  "language_info": {
   "codemirror_mode": {
    "name": "ipython",
    "version": 3
   },
   "file_extension": ".py",
   "mimetype": "text/x-python",
   "name": "python",
   "nbconvert_exporter": "python",
   "pygments_lexer": "ipython3",
   "version": "3.12.0"
  }
 },
 "nbformat": 4,
 "nbformat_minor": 2
}
