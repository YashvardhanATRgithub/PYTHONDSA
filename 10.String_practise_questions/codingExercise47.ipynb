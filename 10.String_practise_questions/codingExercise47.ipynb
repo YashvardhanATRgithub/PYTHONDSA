{
 "cells": [
  {
   "cell_type": "markdown",
   "metadata": {},
   "source": [
    "Count words in a string\n",
    "\n",
    "Problem Description:\n",
    "\n",
    "You are given a string s. Your task is to count the number of words in the string and return the total count. A word is defined as a sequence of characters separated by spaces.\n",
    "\n",
    "\n",
    "Input:\n",
    "\n",
    "    A single string s, where the length of s is between 1 and 1000.\n",
    "\n",
    "\n",
    "Output:\n",
    "\n",
    "    An integer representing the total count of words in the input string.\n",
    "\n",
    "\n",
    "Example:\n",
    "\n",
    "    Input: \"Hello, World!\"\n",
    "    Output: 2\n",
    "     \n",
    "    Input: \"Python programming is fun.\"\n",
    "    Output: 4"
   ]
  },
  {
   "cell_type": "code",
   "execution_count": null,
   "metadata": {},
   "outputs": [
    {
     "name": "stdout",
     "output_type": "stream",
     "text": [
      "1\n"
     ]
    }
   ],
   "source": [
    "## Using split() string manipulation method\n",
    "\n",
    "def count_words(s):\n",
    "    # Your code here\n",
    "    return len(s.split())\n",
    "\n",
    "print(count_words(\"Hello, World!\"))"
   ]
  },
  {
   "cell_type": "markdown",
   "metadata": {},
   "source": [
    "### Complexity Analysis\n",
    "\n",
    "- **Time Complexity:** $O(\\ n)$  \n",
    "- **Space Complexity:** $O(\\ n)$ bcz we are using split() which creates a list of words"
   ]
  },
  {
   "cell_type": "code",
   "execution_count": null,
   "metadata": {},
   "outputs": [
    {
     "name": "stdout",
     "output_type": "stream",
     "text": [
      "2\n",
      "2\n"
     ]
    }
   ],
   "source": [
    "## Without using any inbuilt method\n",
    "\n",
    "def count_words(s):\n",
    "\n",
    "    count  = 0\n",
    "    in_word = False ## var which will track if we are inside a word or not\n",
    "\n",
    "    for char in s:\n",
    "        if char.isalnum(): ## using isalnum() takes any non alpha-numeric char as separator\n",
    "            if not in_word:\n",
    "                in_word = True\n",
    "                count += 1\n",
    "        else:\n",
    "            in_word = False\n",
    "    \n",
    "    return count\n",
    "\n",
    "print(count_words(\"Hello, World!\"))\n",
    "print(count_words(\"Hello,World!\"))"
   ]
  },
  {
   "cell_type": "markdown",
   "metadata": {},
   "source": [
    "### Complexity Analysis\n",
    "\n",
    "- **Time Complexity:** $O(\\ n)$  \n",
    "- **Space Complexity:** $O(\\ 1)$"
   ]
  }
 ],
 "metadata": {
  "kernelspec": {
   "display_name": "Python 3",
   "language": "python",
   "name": "python3"
  },
  "language_info": {
   "codemirror_mode": {
    "name": "ipython",
    "version": 3
   },
   "file_extension": ".py",
   "mimetype": "text/x-python",
   "name": "python",
   "nbconvert_exporter": "python",
   "pygments_lexer": "ipython3",
   "version": "3.12.0"
  }
 },
 "nbformat": 4,
 "nbformat_minor": 2
}
