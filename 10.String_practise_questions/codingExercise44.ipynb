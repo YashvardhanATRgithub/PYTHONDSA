{
 "cells": [
  {
   "cell_type": "markdown",
   "metadata": {},
   "source": [
    "Count Vowels in a string\n",
    "\n",
    "Problem Description:\n",
    "\n",
    "You are given a string s. Your task is to count the number of vowels (both uppercase and lowercase) in the string and return the total count.\n",
    "\n",
    "\n",
    "Input:\n",
    "\n",
    "    A single string s, where the length of s is between 1 and 1000.\n",
    "\n",
    "\n",
    "Output:\n",
    "\n",
    "    An integer representing the total count of vowels in the input string.\n",
    "\n",
    "\n",
    "Example:\n",
    "\n",
    "    Input: \"Hello, World!\"\n",
    "    Output: 3\n",
    "     \n",
    "    Input: \"Python Programming\"\n",
    "    Output: 4\n",
    "\n",
    "\n"
   ]
  },
  {
   "cell_type": "code",
   "execution_count": null,
   "metadata": {},
   "outputs": [],
   "source": [
    "## using set and lowering all char of s initially\n",
    "\n",
    "def count_vowels(s):\n",
    "    \n",
    "    # Your code here\n",
    "    s = s.lower()\n",
    "    \n",
    "    vowels = {'a', 'e', 'i', 'o', 'u'}\n",
    "    \n",
    "    count = 0\n",
    "    \n",
    "    for char in s:\n",
    "        if char in vowels:\n",
    "            count += 1\n",
    "            \n",
    "    return count"
   ]
  },
  {
   "cell_type": "markdown",
   "metadata": {},
   "source": [
    "### Complexity Analysis\n",
    "\n",
    "- **Time Complexity:** $O(\\ n)$  \n",
    "- **Space Complexity:** $O(\\ 1)$"
   ]
  },
  {
   "cell_type": "code",
   "execution_count": null,
   "metadata": {},
   "outputs": [],
   "source": [
    "def count_vowels(s):\n",
    "    # Define the set of vowels (both lowercase and uppercase)\n",
    "    vowels = \"aeiouAEIOU\"\n",
    "    # Initialize a counter for the vowels\n",
    "    count = 0\n",
    "    \n",
    "    # Loop through each character in the string\n",
    "    for char in s:\n",
    "        # Check if the character is a vowel\n",
    "        if char in vowels:\n",
    "            count += 1  # Increment the count if it is a vowel\n",
    "    \n",
    "    # Return the total count of vowels\n",
    "    return count"
   ]
  },
  {
   "cell_type": "markdown",
   "metadata": {},
   "source": [
    "### Complexity Analysis\n",
    "\n",
    "- **Time Complexity:** $O(\\ n)$  \n",
    "- **Space Complexity:** $O(\\ 1)$"
   ]
  }
 ],
 "metadata": {
  "kernelspec": {
   "display_name": "Python 3",
   "language": "python",
   "name": "python3"
  },
  "language_info": {
   "name": "python",
   "version": "3.12.0"
  }
 },
 "nbformat": 4,
 "nbformat_minor": 2
}
