{
 "cells": [
  {
   "cell_type": "markdown",
   "metadata": {},
   "source": [
    "Code Bubble Sort\n",
    "\n",
    "Bubble Sort Algorithm\n",
    "\n",
    "You are given a list of integers. Write a Python function to sort the list in ascending order using the Bubble Sort algorithm. Bubble Sort repeatedly steps through the list, compares adjacent elements, and swaps them if they are in the wrong order. The process is repeated until the list is sorted.\n",
    "\n",
    "Parameters:\n",
    "\n",
    "    lst (List of integers): The list to be sorted.\n",
    "\n",
    "Returns:\n",
    "\n",
    "    A list of integers sorted in ascending order.\n",
    "\n",
    "Example:\n",
    "\n",
    "    Input: lst = [64, 34, 25, 12, 22, 11, 90]\n",
    "    Output: [11, 12, 22, 25, 34, 64, 90]\n",
    "\n",
    "    Input: lst = [5, 1, 4, 2, 8]\n",
    "    Output: [1, 2, 4, 5, 8]"
   ]
  },
  {
   "cell_type": "code",
   "execution_count": null,
   "metadata": {},
   "outputs": [
    {
     "name": "stdout",
     "output_type": "stream",
     "text": [
      "[11, 12, 22, 25, 34, 64, 90]\n"
     ]
    }
   ],
   "source": [
    "## Using for-loop\n",
    "\n",
    "def bubble_sort(lst):\n",
    "    # Your code goes here\n",
    "   \n",
    "    n = len(lst)\n",
    "    for i in range(n): # n-1 passes for n elements\n",
    "      for j in range(n-i-1): # n^2 comparison for n elements\n",
    "         if lst[j] > lst[j+1]:\n",
    "            lst[j], lst[j+1] = lst[j+1], lst[j]\n",
    "    return lst\n",
    "\n",
    "lst = [64, 34, 25, 12, 22, 11, 90]\n",
    "print(bubble_sort(lst))"
   ]
  },
  {
   "cell_type": "code",
   "execution_count": 3,
   "metadata": {},
   "outputs": [
    {
     "name": "stdout",
     "output_type": "stream",
     "text": [
      "[11, 12, 22, 25, 34, 64, 90]\n"
     ]
    }
   ],
   "source": [
    "## Using while-loop\n",
    "\n",
    "def bubble_sort(lst):\n",
    "    # Your code goes here\n",
    "    \n",
    "    i = 0\n",
    "    n = len(lst)\n",
    "    \n",
    "    while i < n-1:\n",
    "        j = 0\n",
    "        while j < n-i-1:\n",
    "            if lst[j] > lst[j+1]:\n",
    "                lst[j], lst[j+1] = lst[j+1], lst[j]\n",
    "            j += 1\n",
    "        i += 1\n",
    "        \n",
    "    return lst\n",
    "\n",
    "lst = [64, 34, 25, 12, 22, 11, 90]\n",
    "print(bubble_sort(lst))"
   ]
  },
  {
   "cell_type": "code",
   "execution_count": null,
   "metadata": {},
   "outputs": [
    {
     "name": "stdout",
     "output_type": "stream",
     "text": [
      "[11, 12, 22, 25, 34, 64, 90]\n"
     ]
    }
   ],
   "source": [
    "## Modified bubble sort\n",
    "## Best Time Complexity: O(n) bcz of swap checking and in case of almost sorted elements \n",
    "\n",
    "def bubble_sort(lst):\n",
    "    # Your code goes here\n",
    "    \n",
    "    n = len(lst)\n",
    "\n",
    "    for i in range(n):\n",
    "        swapped = False\n",
    "        for j in range(n-i-1):\n",
    "            if lst[j] > lst[j+1]:\n",
    "                lst[j], lst[j+1] = lst[j+1], lst[j]\n",
    "                swapped = True\n",
    "        if not swapped:\n",
    "            break\n",
    "    return lst\n",
    "lst = [64, 34, 25, 12, 22, 11, 90]\n",
    "print(bubble_sort(lst))"
   ]
  },
  {
   "cell_type": "markdown",
   "metadata": {},
   "source": [
    "1. Inpalce algorithm\n",
    "2. Stable\n",
    "\n",
    "### Complexity Analysis\n",
    "\n",
    "- **Time Complexity:** $O(\\ n^2)$  \n",
    "- **Space Complexity:** $O(\\ 1)$\n"
   ]
  }
 ],
 "metadata": {
  "kernelspec": {
   "display_name": "Python 3",
   "language": "python",
   "name": "python3"
  },
  "language_info": {
   "codemirror_mode": {
    "name": "ipython",
    "version": 3
   },
   "file_extension": ".py",
   "mimetype": "text/x-python",
   "name": "python",
   "nbconvert_exporter": "python",
   "pygments_lexer": "ipython3",
   "version": "3.12.0"
  }
 },
 "nbformat": 4,
 "nbformat_minor": 2
}
