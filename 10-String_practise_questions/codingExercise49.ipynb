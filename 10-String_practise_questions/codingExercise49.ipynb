{
 "cells": [
  {
   "cell_type": "markdown",
   "metadata": {},
   "source": [
    "Count consonants in a string\n",
    "\n",
    "Problem Description:\n",
    "\n",
    "You are given a string s. Your task is to count the number of consonants in the string and return the total count. A consonant is any alphabetic character that is not a vowel (a, e, i, o, u).\n",
    "\n",
    "\n",
    "Input:\n",
    "\n",
    "    A single string s, where the length of s is between 1 and 1000.\n",
    "\n",
    "\n",
    "Output:\n",
    "\n",
    "    An integer representing the total count of consonants in the input string.\n",
    "\n",
    "\n",
    "Example:\n",
    "\n",
    "    Input: \"Hello, World!\"\n",
    "    Output: 7\n",
    "     \n",
    "    Input: \"Python Programming\"\n",
    "    Output: 13"
   ]
  },
  {
   "cell_type": "code",
   "execution_count": null,
   "metadata": {},
   "outputs": [
    {
     "name": "stdout",
     "output_type": "stream",
     "text": [
      "7\n",
      "13\n"
     ]
    }
   ],
   "source": [
    "def count_consonants(s):\n",
    "    # Your code here\n",
    "    \n",
    "    ## Using set to check if char is vowel in O(1 ) Time Complexity\n",
    "    vowel_set = {'a','e','i','o','u', 'A', 'E', 'I', 'O', 'U'} \n",
    "    \n",
    "    count_consonent = 0\n",
    "    for char in s:\n",
    "        if ('a' <= char <= 'z') or ('A' <= char <= 'Z'):\n",
    "            if char not in vowel_set:\n",
    "                count_consonent += 1\n",
    "        \n",
    "    return count_consonent\n",
    "    \n",
    "print(count_consonants(\"Hello, World!\"))\n",
    "print(count_consonants(\"Python Programming\"))"
   ]
  },
  {
   "cell_type": "code",
   "execution_count": 6,
   "metadata": {},
   "outputs": [
    {
     "name": "stdout",
     "output_type": "stream",
     "text": [
      "7\n",
      "13\n"
     ]
    }
   ],
   "source": [
    "def count_consonants(s):\n",
    "    vowel_set = {'a', 'e', 'i', 'o', 'u', 'A', 'E', 'I', 'O', 'U'}  # Using set for O(1) lookup\n",
    "    count = 0  \n",
    "\n",
    "    for char in s:\n",
    "        if char.isalpha() and char not in vowel_set:  # Check if it is a letter and not a vowel\n",
    "            count += 1  \n",
    "\n",
    "    return count\n",
    "print(count_consonants(\"Hello, World!\"))\n",
    "print(count_consonants(\"Python Programming\"))"
   ]
  },
  {
   "cell_type": "markdown",
   "metadata": {},
   "source": [
    "### Complexity Analysis\n",
    "\n",
    "- **Time Complexity:** $O(\\ n)$  \n",
    "- **Space Complexity:** $O(\\ 1)$"
   ]
  }
 ],
 "metadata": {
  "kernelspec": {
   "display_name": "Python 3",
   "language": "python",
   "name": "python3"
  },
  "language_info": {
   "codemirror_mode": {
    "name": "ipython",
    "version": 3
   },
   "file_extension": ".py",
   "mimetype": "text/x-python",
   "name": "python",
   "nbconvert_exporter": "python",
   "pygments_lexer": "ipython3",
   "version": "3.12.0"
  }
 },
 "nbformat": 4,
 "nbformat_minor": 2
}
