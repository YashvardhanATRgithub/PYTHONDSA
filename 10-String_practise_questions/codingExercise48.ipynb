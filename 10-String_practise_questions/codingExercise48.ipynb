{
 "cells": [
  {
   "cell_type": "markdown",
   "metadata": {},
   "source": [
    "Remove Duplicates in a string\n",
    "\n",
    "Problem Description:\n",
    "\n",
    "You are given a string s. Your task is to remove duplicate characters from the string while preserving the order of the first occurrences and return the modified string.\n",
    "\n",
    "\n",
    "Input:\n",
    "\n",
    "    A single string s, where the length of s is between 1 and 1000.\n",
    "\n",
    "\n",
    "Output:\n",
    "\n",
    "    A string that contains only the first occurrence of each character from the input string.\n",
    "\n",
    "\n",
    "Example:\n",
    "\n",
    "    Input: \"programming\"\n",
    "    Output: \"progamin\"\n",
    "     \n",
    "    Input: \"Hello, World!\"\n",
    "    Output: \"Helo, Wrd!\""
   ]
  },
  {
   "cell_type": "code",
   "execution_count": 9,
   "metadata": {},
   "outputs": [
    {
     "name": "stdout",
     "output_type": "stream",
     "text": [
      "progamin\n",
      "Helo, Wrd!\n"
     ]
    }
   ],
   "source": [
    "def remove_duplicates(s):\n",
    "    # Your code here\n",
    "    \n",
    "    seen = set()\n",
    "    res = []\n",
    "    \n",
    "    for char in s:\n",
    "        if char not in seen:\n",
    "            seen.add(char)\n",
    "            res.append(char)\n",
    "    \n",
    "    return \"\".join(res)\n",
    "\n",
    "print(remove_duplicates('programming'))\n",
    "print(remove_duplicates('Hello, World!'))"
   ]
  },
  {
   "cell_type": "code",
   "execution_count": null,
   "metadata": {},
   "outputs": [],
   "source": []
  }
 ],
 "metadata": {
  "kernelspec": {
   "display_name": "Python 3",
   "language": "python",
   "name": "python3"
  },
  "language_info": {
   "codemirror_mode": {
    "name": "ipython",
    "version": 3
   },
   "file_extension": ".py",
   "mimetype": "text/x-python",
   "name": "python",
   "nbconvert_exporter": "python",
   "pygments_lexer": "ipython3",
   "version": "3.12.0"
  }
 },
 "nbformat": 4,
 "nbformat_minor": 2
}
