{
 "cells": [
  {
   "cell_type": "markdown",
   "metadata": {},
   "source": [
    "Reverse a string\n",
    "\n",
    "Problem Description:\n",
    "\n",
    "You are given a string s. Your task is to return the reversed version of the string.\n",
    "\n",
    "\n",
    "Input:\n",
    "\n",
    "    A single string s, where the length of s is between 1 and 1000.\n",
    "\n",
    "\n",
    "Output:\n",
    "\n",
    "    A single string that is the reverse of the input string.\n",
    "\n",
    "\n",
    "Example:\n",
    "\n",
    "    Input: \"hello\"\n",
    "    Output: \"olleh\"\n",
    "     \n",
    "    Input: \"Python\"\n",
    "    Output: \"nohtyP\""
   ]
  },
  {
   "cell_type": "code",
   "execution_count": null,
   "metadata": {},
   "outputs": [
    {
     "name": "stdout",
     "output_type": "stream",
     "text": [
      "nohtyP\n"
     ]
    }
   ],
   "source": [
    "## Using loop\n",
    "\n",
    "def reverse_string(s):\n",
    "    \"\"\"\n",
    "    Function to return the reversed version of the input string.\n",
    "    \n",
    "    Parameters:\n",
    "    s (str): The input string to be reversed.\n",
    "    \n",
    "    Returns:\n",
    "    str: The reversed string.\n",
    "    \"\"\"\n",
    "    # Your code here\n",
    "    \n",
    "    reversed = ''\n",
    "    \n",
    "    for i in range(len(s)):\n",
    "        reversed = reversed + s[len(s)-1-i]\n",
    "        \n",
    "    return reversed\n",
    "\n",
    "print(reverse_string(\"Python\"))"
   ]
  },
  {
   "cell_type": "markdown",
   "metadata": {},
   "source": [
    "### Complexity Analysis\n",
    "\n",
    "- **Time Complexity:** $O(\\ n^2)$  \n",
    "- **Space Complexity:** $O(\\ n)$"
   ]
  },
  {
   "cell_type": "code",
   "execution_count": null,
   "metadata": {},
   "outputs": [
    {
     "name": "stdout",
     "output_type": "stream",
     "text": [
      "nohtyP\n"
     ]
    }
   ],
   "source": [
    "## Using slicing\n",
    "\n",
    "def reverse_string(s):\n",
    "\n",
    "    reversed = s[::-1]\n",
    "\n",
    "    return reversed\n",
    "\n",
    "print(reverse_string(\"Python\"))"
   ]
  },
  {
   "cell_type": "markdown",
   "metadata": {},
   "source": [
    "### Complexity Analysis\n",
    "\n",
    "- **Time Complexity:** $O(\\ n)$  \n",
    "- **Space Complexity:** $O(\\ n)$"
   ]
  },
  {
   "cell_type": "code",
   "execution_count": null,
   "metadata": {},
   "outputs": [],
   "source": [
    "def reverse_string(s):\n",
    "    \"\"\"\n",
    "    Efficiently reverses the given string using a list and in-place reversal.\n",
    "\n",
    "    Parameters:\n",
    "    s (str): The input string to be reversed.\n",
    "\n",
    "    Returns:\n",
    "    str: The reversed string.\n",
    "    \"\"\"\n",
    "    char_list = list(s)  # Convert string to list (O(n) time)\n",
    "    char_list.reverse()   # Reverse the list in-place (O(n) time)\n",
    "    return ''.join(char_list)  # Join back to string (O(n) time)\n",
    "\n",
    "print(reverse_string(\"Python\"))\n"
   ]
  },
  {
   "cell_type": "markdown",
   "metadata": {},
   "source": [
    "### Complexity Analysis\n",
    "\n",
    "- **Time Complexity:** $O(\\ n)$  \n",
    "- **Space Complexity:** $O(\\ n)$"
   ]
  }
 ],
 "metadata": {
  "kernelspec": {
   "display_name": "Python 3",
   "language": "python",
   "name": "python3"
  },
  "language_info": {
   "codemirror_mode": {
    "name": "ipython",
    "version": 3
   },
   "file_extension": ".py",
   "mimetype": "text/x-python",
   "name": "python",
   "nbconvert_exporter": "python",
   "pygments_lexer": "ipython3",
   "version": "3.12.0"
  }
 },
 "nbformat": 4,
 "nbformat_minor": 2
}
