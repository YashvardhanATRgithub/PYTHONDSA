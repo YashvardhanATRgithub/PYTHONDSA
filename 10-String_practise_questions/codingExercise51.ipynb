{
 "cells": [
  {
   "cell_type": "markdown",
   "metadata": {},
   "source": [
    "Check Subsequence\n",
    "\n",
    "Problem Description:\n",
    "\n",
    "You are given two strings s and t. Your task is to determine if string t is a subsequence of string s. A subsequence of a string is a new string that is formed from the original string by deleting some (or no) characters without changing the order of the remaining characters.\n",
    "\n",
    "\n",
    "Input:\n",
    "\n",
    "    Two strings s and t where the length of s is between 1 and 1000, and the length of t is between 1 and 1000.\n",
    "\n",
    "\n",
    "Output:\n",
    "\n",
    "    Return True if t is a subsequence of s, and False otherwise.\n",
    "\n",
    "\n",
    "Example:\n",
    "\n",
    "    Input: s = \"abcde\", t = \"ace\"\n",
    "    Output: True\n",
    "     \n",
    "    Input: s = \"abcde\", t = \"aec\"\n",
    "    Output: False"
   ]
  },
  {
   "cell_type": "code",
   "execution_count": 19,
   "metadata": {},
   "outputs": [
    {
     "name": "stdout",
     "output_type": "stream",
     "text": [
      "True\n",
      "False\n"
     ]
    }
   ],
   "source": [
    "def is_subsequence(s, t):\n",
    "    i, j = 0, 0  # i -> index for s, j -> index for t\n",
    "    \n",
    "    while j < len(t) and i < len(s):\n",
    "        if s[i] == t[j]:  # Match found\n",
    "            j += 1\n",
    "        i += 1  # Always move i forward\n",
    "    \n",
    "    return j == len(t)  # If all characters of t are matched in order\n",
    "\n",
    "print(is_subsequence('abcde', 'ace'))  # Output: True\n",
    "print(is_subsequence('abcde', 'aed'))  # Output: False\n"
   ]
  },
  {
   "cell_type": "markdown",
   "metadata": {},
   "source": [
    "### Complexity Analysis\n",
    "\n",
    "- **Time Complexity:** $O(\\ n)$  \n",
    "- **Space Complexity:** $O(\\ 1)$"
   ]
  }
 ],
 "metadata": {
  "kernelspec": {
   "display_name": "Python 3",
   "language": "python",
   "name": "python3"
  },
  "language_info": {
   "codemirror_mode": {
    "name": "ipython",
    "version": 3
   },
   "file_extension": ".py",
   "mimetype": "text/x-python",
   "name": "python",
   "nbconvert_exporter": "python",
   "pygments_lexer": "ipython3",
   "version": "3.12.0"
  }
 },
 "nbformat": 4,
 "nbformat_minor": 2
}
