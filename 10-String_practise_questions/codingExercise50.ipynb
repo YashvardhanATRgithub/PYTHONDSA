{
 "cells": [
  {
   "cell_type": "markdown",
   "metadata": {},
   "source": [
    "Check for anagrams\n",
    "\n",
    "Problem Description:\n",
    "\n",
    "You are given two strings s and t. Your task is to determine if string t is an anagram of string s. An anagram is a word or phrase formed by rearranging the characters of a different word or phrase, using all the original characters exactly once.\n",
    "\n",
    "\n",
    "Input:\n",
    "\n",
    "    Two strings s and t where both lengths are between 1 and 1000.\n",
    "\n",
    "\n",
    "Output:\n",
    "\n",
    "    Return True if t is an anagram of s, and False otherwise.\n",
    "\n",
    "\n",
    "Example:\n",
    "\n",
    "    Input: s = \"anagram\", t = \"nagaram\"\n",
    "    Output: True\n",
    "     \n",
    "    Input: s = \"rat\", t = \"car\"\n",
    "    Output: False"
   ]
  },
  {
   "cell_type": "code",
   "execution_count": null,
   "metadata": {},
   "outputs": [
    {
     "name": "stdout",
     "output_type": "stream",
     "text": [
      "True\n"
     ]
    }
   ],
   "source": [
    "def is_anagram(s, t):\n",
    "    \n",
    "    # If length of both strings are not equal, they can't be anagram. Return False\n",
    "    if len(s) != len(t):  \n",
    "        return False\n",
    "    \n",
    "    # declaring arrays of size 26 and initializing all index to 0\n",
    "    char_freq_count_s = [0] * 26 \n",
    "    char_freq_count_t = [0] * 26\n",
    "\n",
    "    # Method ord() is used to convert a char in ASCII value\n",
    "    # Subtracting ord(char) - ord('a') gives index of char \n",
    "    # We are incrementing the index of array where char is present\n",
    "    for char in s:\n",
    "        char_freq_count_s[ord(char) - ord('a')] += 1\n",
    "    \n",
    "    for char in t:\n",
    "        char_freq_count_t[ord(char) - ord('a')] += 1\n",
    "\n",
    "    # If any char freq. differs in both array, return False\n",
    "    for i in range(26):\n",
    "        if char_freq_count_s[i] != char_freq_count_t[i]:\n",
    "            return False\n",
    "\n",
    "    # Else, return true\n",
    "    return True\n",
    "\n",
    "print(is_anagram(\"anagram\", \"nagaram\"))"
   ]
  },
  {
   "cell_type": "markdown",
   "metadata": {},
   "source": [
    "### Complexity Analysis\n",
    "\n",
    "- **Time Complexity:** $O(\\ n)$  \n",
    "- **Space Complexity:** $O(\\ 1)$  *bcz array size is 26 which is constant*"
   ]
  }
 ],
 "metadata": {
  "kernelspec": {
   "display_name": "Python 3",
   "language": "python",
   "name": "python3"
  },
  "language_info": {
   "codemirror_mode": {
    "name": "ipython",
    "version": 3
   },
   "file_extension": ".py",
   "mimetype": "text/x-python",
   "name": "python",
   "nbconvert_exporter": "python",
   "pygments_lexer": "ipython3",
   "version": "3.12.0"
  }
 },
 "nbformat": 4,
 "nbformat_minor": 2
}
