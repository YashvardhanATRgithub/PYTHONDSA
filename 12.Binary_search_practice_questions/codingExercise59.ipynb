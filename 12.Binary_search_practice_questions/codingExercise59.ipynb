{
 "cells": [
  {
   "cell_type": "markdown",
   "metadata": {},
   "source": [
    "Find smallest letter greater than target\n",
    "\n",
    "Asked in companies:\n",
    "\n",
    "    JP Morgan\n",
    "\n",
    "    TCS\n",
    "\n",
    "    Wells fargo\n",
    "\n",
    "    Gameskraft\n",
    "\n",
    "\n",
    "Description:\n",
    "You are given a sorted array of characters letters, sorted in non-decreasing order, and a character target. There are at least two different characters in letters. Your task is to return the smallest character in letters that is lexicographically greater than target. If such a character does not exist, return the first character in letters.\n",
    "\n",
    "\n",
    "    Input:\n",
    "\n",
    "        letters: A sorted array of characters in non-decreasing order.\n",
    "\n",
    "        target: A character to compare against.\n",
    "\n",
    "    Output:\n",
    "\n",
    "        Return the smallest character that is greater than target. If no such character exists, return the first character in letters.\n",
    "\n",
    "\n",
    "Example:\n",
    "\n",
    "    Input:\n",
    "    letters = ['c', 'f', 'j']\n",
    "    target = 'k'\n",
    "    Output: 'c'\n",
    "     \n",
    "    Input:\n",
    "    letters = ['c', 'f', 'j']\n",
    "    target = 'c'\n",
    "    Output: 'f'\n",
    "     \n",
    "    Input:\n",
    "    letters = ['c', 'f', 'j']\n",
    "    target = 'a'\n",
    "    Output: 'c'"
   ]
  },
  {
   "cell_type": "code",
   "execution_count": 14,
   "metadata": {},
   "outputs": [
    {
     "name": "stdout",
     "output_type": "stream",
     "text": [
      "f\n"
     ]
    }
   ],
   "source": [
    "    def next_greatest_letter(letters, target):\n",
    "        \"\"\"\n",
    "        Return the smallest character in letters that is lexicographically greater than target.\n",
    "        \n",
    "        Parameters:\n",
    "        letters (List[char]): Sorted array of characters.\n",
    "        target (char): The target character.\n",
    "     \n",
    "        Returns:\n",
    "        char: The smallest character greater than target, or the first character if no such character exists.\n",
    "        \"\"\"\n",
    "        # Binary search approach to find the smallest character greater than the target\n",
    "        left, right = 0, len(letters)\n",
    "        \n",
    "        # Use binary search to find the correct position\n",
    "        while left < right:\n",
    "            mid = left + (right - left) // 2\n",
    "            \n",
    "            # If the mid character is greater than the target, it could be a potential answer\n",
    "            if letters[mid] > target:\n",
    "                right = mid\n",
    "            else:\n",
    "                left = mid + 1\n",
    "        \n",
    "        # If 'left' is out of bounds, return the first character (circular condition)\n",
    "        return letters[left % len(letters)]\n",
    "\n",
    "    letters = ['c', 'f', 'j']\n",
    "    target = 'd'\n",
    "    # letters = [\"x\",\"x\",\"y\",\"y\"]\n",
    "    # target = 'z'\n",
    "    print(next_greatest_letter(letters,target))\n"
   ]
  },
  {
   "cell_type": "code",
   "execution_count": null,
   "metadata": {},
   "outputs": [],
   "source": []
  }
 ],
 "metadata": {
  "kernelspec": {
   "display_name": "Python 3",
   "language": "python",
   "name": "python3"
  },
  "language_info": {
   "codemirror_mode": {
    "name": "ipython",
    "version": 3
   },
   "file_extension": ".py",
   "mimetype": "text/x-python",
   "name": "python",
   "nbconvert_exporter": "python",
   "pygments_lexer": "ipython3",
   "version": "3.12.0"
  }
 },
 "nbformat": 4,
 "nbformat_minor": 2
}
