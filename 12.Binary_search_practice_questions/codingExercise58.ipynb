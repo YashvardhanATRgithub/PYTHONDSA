{
 "cells": [
  {
   "cell_type": "markdown",
   "metadata": {},
   "source": [
    "Count negative numbers in a sorted matrix\n",
    "\n",
    "Asked in companies:\n",
    "\n",
    "    Samsung\n",
    "\n",
    "    Oyo\n",
    "\n",
    "    Groww\n",
    "\n",
    "    Dell\n",
    "\n",
    "\n",
    "Description:\n",
    "You are given an m x n matrix grid where each row and column is sorted in non-increasing order. Your task is to return the number of negative numbers present in the matrix.\n",
    "\n",
    "\n",
    "Parameters:\n",
    "\n",
    "    grid (List[List[int]]): A 2D matrix with dimensions m x n, where each row and each column is sorted in non-increasing order.\n",
    "\n",
    "Return Values:\n",
    "\n",
    "    Integer: The count of negative numbers in the matrix.\n",
    "\n",
    "\n",
    "Example:\n",
    "\n",
    "    Input: grid = [[4, 3, 2, 1], [3, 2, 1, -1], [1, 1, -1, -2], [-1, -1, -2, -3]] \n",
    "    Output: 7 \n",
    "    Explanation: There are 7 negative numbers in the matrix.\n",
    "     \n",
    "    Input: grid = [[3, 2], [1, 0]] \n",
    "    Output: 0 \n",
    "    Explanation: There are no negative numbers in the matrix."
   ]
  },
  {
   "cell_type": "code",
   "execution_count": null,
   "metadata": {},
   "outputs": [
    {
     "name": "stdout",
     "output_type": "stream",
     "text": [
      "7\n"
     ]
    }
   ],
   "source": [
    "## using linear search to find negative numbers\n",
    "\n",
    "def countNegatives(grid):\n",
    "    # Implement your solution here\n",
    "    \n",
    "    n = len(grid)\n",
    "    negative_count = 0\n",
    "\n",
    "    for i in range(n):\n",
    "        for j in range(n):\n",
    "            if grid[i][j] < 0:\n",
    "                negative_count += 1\n",
    "    \n",
    "    return negative_count\n",
    "\n",
    "grid = [[4, 3, 2, 1], [3, 2, 1, -1], [1, 1, -1, -2], [-1, -1, -2, -3]]\n",
    "print(countNegatives(grid))"
   ]
  },
  {
   "cell_type": "markdown",
   "metadata": {},
   "source": []
  },
  {
   "cell_type": "code",
   "execution_count": 8,
   "metadata": {},
   "outputs": [
    {
     "name": "stdout",
     "output_type": "stream",
     "text": [
      "7\n"
     ]
    }
   ],
   "source": [
    "## Using binary search to find negative numbers\n",
    "\n",
    "def countNegatives(grid):\n",
    "\n",
    "    rows = len(grid)\n",
    "    cols = len(grid[0])\n",
    "    count_negative = 0\n",
    "    \n",
    "\n",
    "    for i in range(rows):\n",
    "        start = 0\n",
    "        end = cols-1\n",
    "        first_negative_index = cols\n",
    "\n",
    "        while start <= end:\n",
    "            mid = (start + end) // 2\n",
    "            if grid[i][mid] < 0:\n",
    "                first_negative_index  = mid\n",
    "                end = mid-1\n",
    "            else:\n",
    "                start = mid + 1\n",
    "    \n",
    "        count_negative += (cols-first_negative_index)\n",
    "    return count_negative\n",
    "            \n",
    "\n",
    "grid = [[4, 3, 2, 1], [3, 2, 1, -1], [1, 1, -1, -2], [-1, -1, -2, -3]]\n",
    "print(countNegatives(grid))"
   ]
  },
  {
   "cell_type": "code",
   "execution_count": null,
   "metadata": {},
   "outputs": [],
   "source": []
  }
 ],
 "metadata": {
  "kernelspec": {
   "display_name": "Python 3",
   "language": "python",
   "name": "python3"
  },
  "language_info": {
   "codemirror_mode": {
    "name": "ipython",
    "version": 3
   },
   "file_extension": ".py",
   "mimetype": "text/x-python",
   "name": "python",
   "nbconvert_exporter": "python",
   "pygments_lexer": "ipython3",
   "version": "3.12.0"
  }
 },
 "nbformat": 4,
 "nbformat_minor": 2
}
