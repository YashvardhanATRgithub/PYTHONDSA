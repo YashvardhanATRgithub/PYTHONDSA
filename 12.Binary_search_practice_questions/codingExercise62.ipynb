{
 "cells": [
  {
   "cell_type": "markdown",
   "metadata": {},
   "source": [
    "Search in Rotated Sorted Array\n",
    "\n",
    "Asked in companies:\n",
    "\n",
    "    Microsoft\n",
    "\n",
    "    Amazon\n",
    "\n",
    "    Uber\n",
    "\n",
    "\n",
    "Description:\n",
    "Given a sorted array that has been rotated, find the index of a given target value. The array was originally sorted in ascending order and then rotated at some pivot.\n",
    "\n",
    "\n",
    "Parameters:\n",
    "\n",
    "    nums (List[int]): A list of integers sorted in ascending order but rotated at an unknown pivot.\n",
    "\n",
    "    target (int): The integer value to search for in the array.\n",
    "\n",
    "Return Values:\n",
    "\n",
    "    int: The index of the target value in the array, or -1 if the target is not in the array.\n",
    "\n",
    "\n",
    "Example:\n",
    "\n",
    "    Input: nums = [4, 5, 6, 7, 0, 1, 2], target = 0 \n",
    "    Output: 4 \n",
    "    Explanation: The target value 0 is at index 4 in the rotated array.\n",
    "     \n",
    "     \n",
    "    Input: nums = [4, 5, 6, 7, 0, 1, 2], target = 3 \n",
    "    Output: -1 \n",
    "    Explanation: The target value 3 is not present in the array.\n",
    "\n",
    "\n",
    "LeetCode Link: https://leetcode.com/problems/search-in-rotated-sorted-array/description/"
   ]
  },
  {
   "cell_type": "code",
   "execution_count": null,
   "metadata": {},
   "outputs": [],
   "source": [
    "def search(nums, target):\n",
    "    # Implement your solution here\n",
    "    \n"
   ]
  }
 ],
 "metadata": {
  "kernelspec": {
   "display_name": "Python 3",
   "language": "python",
   "name": "python3"
  },
  "language_info": {
   "name": "python",
   "version": "3.12.0"
  }
 },
 "nbformat": 4,
 "nbformat_minor": 2
}
