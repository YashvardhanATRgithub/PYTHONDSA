{
 "cells": [
  {
   "cell_type": "markdown",
   "metadata": {},
   "source": [
    "Find First and Last Position of Element in Sorted Array\n",
    "\n",
    "Asked in companies\n",
    "\n",
    "    Goldman sachs\n",
    "\n",
    "    Amazon\n",
    "\n",
    "    Wipro\n",
    "\n",
    "    Airtel\n",
    "\n",
    "\n",
    "Description:\n",
    "Given an array of integers nums sorted in non-decreasing order, and an integer target, find the starting and ending position of the given target value. If target is not found in the array, return [-1, -1].\n",
    "\n",
    "\n",
    "Parameters:\n",
    "\n",
    "    nums (List[int]): A list of integers sorted in non-decreasing order.\n",
    "\n",
    "    target (int): The target value to search for.\n",
    "\n",
    "Return Values:\n",
    "\n",
    "    List[int]: The starting and ending positions of the target value in the array. If the target is not found, return [-1, -1].\n",
    "\n",
    "\n",
    "Example:\n",
    "\n",
    "    Input: nums = [5, 7, 7, 8, 8, 10], target = 8 \n",
    "    Output: [3, 4] \n",
    "    Explanation: The target 8 appears from index 3 to index 4.\n",
    "     \n",
    "     \n",
    "    Input: nums = [5, 7, 7, 8, 8, 10], target = 6 \n",
    "    Output: [-1, -1] \n",
    "    Explanation: The target 6 is not found in the array.\n",
    "\n",
    "\n",
    "    LeetCode Link: https://leetcode.com/problems/find-first-and-last-position-of-element-in-sorted-array/description/"
   ]
  },
  {
   "cell_type": "code",
   "execution_count": 3,
   "metadata": {},
   "outputs": [
    {
     "name": "stdout",
     "output_type": "stream",
     "text": [
      "[3, 4]\n"
     ]
    }
   ],
   "source": [
    "def searchRange(nums, target):\n",
    "    # Implement your solution here\n",
    "    \n",
    "        def firstPos(nums, target):\n",
    "            left, right = 0, len(nums)-1\n",
    "            result = -1\n",
    "            while left <= right:\n",
    "                mid = (left + right) // 2\n",
    "                if nums[mid] == target:\n",
    "                    result = mid\n",
    "                    right = mid-1\n",
    "                elif nums[mid] < target:\n",
    "                    left = mid + 1\n",
    "                else:\n",
    "                    right = mid -1 \n",
    "            return result\n",
    "\n",
    "        def lastPos(nums, target):\n",
    "            left, right = 0, len(nums)-1\n",
    "            result = -1\n",
    "\n",
    "            while left <= right:\n",
    "                mid = (left + right) // 2\n",
    "\n",
    "                if nums[mid] == target:\n",
    "                    result = mid\n",
    "                    left = mid+1\n",
    "                elif nums[mid] < target:\n",
    "                    left = mid + 1\n",
    "                else:\n",
    "                    right = mid-1\n",
    "            return result\n",
    "        return [firstPos(nums, target), lastPos(nums, target)]\n",
    "\n",
    "nums = [5, 7, 7, 8, 8, 10]\n",
    "#target = 6\n",
    "target = 8\n",
    "\n",
    "print(searchRange(nums, target))"
   ]
  },
  {
   "cell_type": "markdown",
   "metadata": {},
   "source": [
    "### Complexity Analysis\n",
    "\n",
    "- **Time Complexity:** $O(\\ log(n))$  \n",
    "- **Space Complexity:** $O(\\ 1)$\n"
   ]
  }
 ],
 "metadata": {
  "kernelspec": {
   "display_name": "Python 3",
   "language": "python",
   "name": "python3"
  },
  "language_info": {
   "codemirror_mode": {
    "name": "ipython",
    "version": 3
   },
   "file_extension": ".py",
   "mimetype": "text/x-python",
   "name": "python",
   "nbconvert_exporter": "python",
   "pygments_lexer": "ipython3",
   "version": "3.12.0"
  }
 },
 "nbformat": 4,
 "nbformat_minor": 2
}
