{
 "cells": [
  {
   "cell_type": "markdown",
   "metadata": {},
   "source": [
    "#### File Operation- Read And Write Files\n",
    "\n",
    "File handling is a crucial part of any programming language. Python provides built-in functions and methods to read from and write to files, both text and binary. This lesson will cover the basics of file handling, including reading and writing text files and binary files."
   ]
  },
  {
   "cell_type": "code",
   "execution_count": 2,
   "metadata": {},
   "outputs": [
    {
     "name": "stdout",
     "output_type": "stream",
     "text": [
      "Hello, whats your name?\n",
      "My name is yashvardhan.\n",
      "What do you like?\n",
      "I like python.\n",
      "Whats your dream?\n",
      "My dream is to become a great machine learning engineer.\n"
     ]
    }
   ],
   "source": [
    "# ---------------------------------------------\n",
    "# 📄 Reading the Entire Contents of a Text File\n",
    "# ---------------------------------------------\n",
    "\n",
    "# Open the file named 'example.txt' in read mode ('r')\n",
    "# The 'with' statement ensures the file is automatically closed after the block executes\n",
    "with open('example.txt', 'r') as file:\n",
    "    # Read the whole file content as a single string\n",
    "    content = file.read()\n",
    "    \n",
    "    # Print the content to the console\n",
    "    print(content)\n"
   ]
  },
  {
   "cell_type": "code",
   "execution_count": 3,
   "metadata": {},
   "outputs": [
    {
     "name": "stdout",
     "output_type": "stream",
     "text": [
      "Hello, whats your name?\n",
      "My name is yashvardhan.\n",
      "What do you like?\n",
      "I like python.\n",
      "Whats your dream?\n",
      "My dream is to become a great machine learning engineer.\n"
     ]
    }
   ],
   "source": [
    "# -----------------------------------------------------\n",
    "# 📄 Reading a File Line by Line in a Memory-Efficient Way\n",
    "# -----------------------------------------------------\n",
    "\n",
    "# Open 'example.txt' in read mode ('r')\n",
    "# 'with' ensures the file is properly closed after reading\n",
    "with open('example.txt', 'r') as file:\n",
    "    \n",
    "    # Loop through the file object one line at a time\n",
    "    for line in file:\n",
    "        # .strip() removes leading and trailing whitespace characters\n",
    "        # This includes spaces, tabs, and newline characters like \\n or \\r\\n\n",
    "        print(line.strip())\n"
   ]
  },
  {
   "cell_type": "markdown",
   "metadata": {},
   "source": [
    "Without strip(), the lines would have extra blank lines between them because print() adds a newline, and each line from the file already contains \\n."
   ]
  },
  {
   "cell_type": "code",
   "execution_count": 4,
   "metadata": {},
   "outputs": [],
   "source": [
    "## Writing a file(Overwriting)\n",
    "\n",
    "with open('example.txt','w') as file:  ## The problem with 'w' is that it overwrite everything which was present before\n",
    "    file.write('Hello World!\\n')\n",
    "    file.write('this is a new line.')"
   ]
  },
  {
   "cell_type": "code",
   "execution_count": null,
   "metadata": {},
   "outputs": [],
   "source": [
    "## Write a file(without Overwriting) using append 'a'\n",
    "\n",
    "with open('example.txt','a') as file:\n",
    "    file.write(\"Append operation taking place!\\n\")"
   ]
  },
  {
   "cell_type": "code",
   "execution_count": null,
   "metadata": {},
   "outputs": [],
   "source": [
    "### Writing a list of lines to a file\n",
    "\n",
    "lines=['First line \\n','Second line \\n','Third line\\n']\n",
    "with open('example.txt','a') as file:\n",
    "    file.writelines(lines)"
   ]
  },
  {
   "cell_type": "code",
   "execution_count": 10,
   "metadata": {},
   "outputs": [],
   "source": [
    "# ---------------------------------------------------\n",
    "# 💾 Writing Raw Bytes to a Binary File in Python\n",
    "# ---------------------------------------------------\n",
    "\n",
    "# Step 1: Define raw binary data (as a bytes object)\n",
    "# b'' means this is a bytes literal, not a string.\n",
    "# Each '\\xNN' is a hexadecimal byte (0 to 255).\n",
    "data = b'\\x00\\x01\\x02\\x03\\x04'\n",
    "\n",
    "# Step 2: Open a binary file named 'example.bin' in write-binary mode\n",
    "# 'wb' means:\n",
    "#   - 'w': write mode (will overwrite the file if it exists)\n",
    "#   - 'b': binary mode (as opposed to text mode)\n",
    "with open('example.bin', 'wb') as file:\n",
    "    # Step 3: Write the raw bytes to the file\n",
    "    file.write(data)\n"
   ]
  },
  {
   "cell_type": "code",
   "execution_count": 13,
   "metadata": {},
   "outputs": [
    {
     "name": "stdout",
     "output_type": "stream",
     "text": [
      "b'\\x00\\x01\\x02\\x03\\x04'\n"
     ]
    }
   ],
   "source": [
    "# Reading a binary file\n",
    "with open('example.bin', 'rb') as file:\n",
    "    content = file.read()\n",
    "    print(content)"
   ]
  },
  {
   "cell_type": "code",
   "execution_count": null,
   "metadata": {},
   "outputs": [],
   "source": [
    "### Read the content froma  source text fiile and write to a destination text file\n",
    "\n",
    "# Copying a text file\n",
    "with open('example.txt', 'r') as source_file:\n",
    "    content = source_file.read()\n",
    "\n",
    "# writing to a new text file. if text file does not exists then this file is automatically created.\n",
    "with open('destination.txt', 'w') as destination_file:\n",
    "    destination_file.write(content)\n"
   ]
  },
  {
   "cell_type": "code",
   "execution_count": 12,
   "metadata": {},
   "outputs": [
    {
     "name": "stdout",
     "output_type": "stream",
     "text": [
      "Lines: 7, Words: 21, Characters: 131\n"
     ]
    }
   ],
   "source": [
    "# ----------------------------------------------------------------------\n",
    "# 📊 Count the number of lines, words, and characters in a text file\n",
    "# ----------------------------------------------------------------------\n",
    "\n",
    "# Define a function that takes the file path as input\n",
    "def count_text_file(file_path):\n",
    "    # Open the file in read mode\n",
    "    with open(file_path, 'r') as file:\n",
    "        # Read all lines from the file into a list\n",
    "        lines = file.readlines()\n",
    "\n",
    "        # Count the number of lines\n",
    "        line_count = len(lines)\n",
    "\n",
    "        # Count the number of words across all lines\n",
    "        # line.split() splits the line by whitespace into a list of words\n",
    "        word_count = sum(len(line.split()) for line in lines)\n",
    "\n",
    "        # Count the number of characters including spaces and newlines\n",
    "        char_count = sum(len(line) for line in lines)\n",
    "\n",
    "    # Return the three counts as a tuple\n",
    "    return line_count, word_count, char_count\n",
    "\n",
    "\n",
    "# -------------------------------------------\n",
    "# 🧪 Usage Example\n",
    "# -------------------------------------------\n",
    "\n",
    "# Path to the text file to analyze\n",
    "file_path = 'example.txt'\n",
    "\n",
    "# Call the function and unpack the returned tuple\n",
    "lines, words, characters = count_text_file(file_path)\n",
    "\n",
    "# Print the results in a formatted string\n",
    "print(f'Lines: {lines}, Words: {words}, Characters: {characters}')\n"
   ]
  },
  {
   "cell_type": "markdown",
   "metadata": {},
   "source": [
    "The w+ mode in Python is used to open a file for both reading and writing. If the file does not exist, it will be created. If the file exists, its content is truncated (i.e., the file is overwritten)."
   ]
  },
  {
   "cell_type": "code",
   "execution_count": 13,
   "metadata": {},
   "outputs": [
    {
     "name": "stdout",
     "output_type": "stream",
     "text": [
      "Hello world\n",
      "This is a new line \n",
      "\n"
     ]
    }
   ],
   "source": [
    "### Writing and then reading a file\n",
    "\n",
    "with open('example.txt','w+') as file:\n",
    "    file.write(\"Hello world\\n\")\n",
    "    file.write(\"This is a new line \\n\")\n",
    "\n",
    "    ## Move the file cursor to the beginning ( if not done then it prints nothing.)\n",
    "    file.seek(0)\n",
    "\n",
    "    ## Read the content of the file\n",
    "    content=file.read()\n",
    "    print(content)"
   ]
  }
 ],
 "metadata": {
  "kernelspec": {
   "display_name": "Python 3",
   "language": "python",
   "name": "python3"
  },
  "language_info": {
   "codemirror_mode": {
    "name": "ipython",
    "version": 3
   },
   "file_extension": ".py",
   "mimetype": "text/x-python",
   "name": "python",
   "nbconvert_exporter": "python",
   "pygments_lexer": "ipython3",
   "version": "3.12.0"
  }
 },
 "nbformat": 4,
 "nbformat_minor": 2
}
